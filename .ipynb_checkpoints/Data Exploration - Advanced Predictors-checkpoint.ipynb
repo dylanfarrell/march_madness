{
 "cells": [
  {
   "cell_type": "markdown",
   "metadata": {},
   "source": [
    "# Data Exploration- Advanced Predictors\n",
    "- Robert Shaw, Daniel Alpert, Spencer Evans, Sean Coleman\n",
    "- CS109a Project - Data Driven March Madness\n",
    "\n",
    "In this file, we generate and explore some more predictors by testing their relation to the response."
   ]
  },
  {
   "cell_type": "code",
   "execution_count": 93,
   "metadata": {},
   "outputs": [],
   "source": [
    "# import libraries\n",
    "import numpy as np\n",
    "import pandas as pd\n",
    "import matplotlib\n",
    "import matplotlib.pyplot as plt\n",
    "%matplotlib inline\n",
    "\n",
    "from sklearn.linear_model import LogisticRegression as LogReg\n",
    "from sklearn.preprocessing import StandardScaler\n",
    "\n",
    "import march_madness_classes as mmc\n",
    "import march_madness_games as mmg\n",
    "import march_madness_models as mmm"
   ]
  },
  {
   "cell_type": "markdown",
   "metadata": {},
   "source": [
    "## 1) Confirm Baseline Model is Working"
   ]
  },
  {
   "cell_type": "code",
   "execution_count": 94,
   "metadata": {},
   "outputs": [],
   "source": [
    "# read in the dataset\n",
    "tournament_data = pd.read_csv(\"datasets/kaggle_data_2021/MNCAATourneyCompactResults.csv\")\n",
    "teams = pd.read_csv(\"datasets/kaggle_data_2021/MTeams.csv\")\n",
    "seeds = pd.read_csv(\"datasets/kaggle_data_2021/MNCAATourneySeeds.csv\")\n",
    "slots = pd.read_csv(\"datasets/kaggle_data_2021/MNCAATourneySlots.csv\")"
   ]
  },
  {
   "cell_type": "code",
   "execution_count": 95,
   "metadata": {},
   "outputs": [],
   "source": [
    "games_arr = mmg.filter_into_seasons(tournament_data)\n",
    "seeds_arr = mmg.filter_into_seasons(seeds)\n",
    "slots_arr = mmg.filter_into_seasons(slots)"
   ]
  },
  {
   "cell_type": "code",
   "execution_count": 144,
   "metadata": {},
   "outputs": [
    {
     "data": {
      "text/plain": [
       "[    Season  Slot StrongSeed WeakSeed\n",
       " 0     1985  R1W1        W01      W16\n",
       " 1     1985  R1W2        W02      W15\n",
       " 2     1985  R1W3        W03      W14\n",
       " 3     1985  R1W4        W04      W13\n",
       " 4     1985  R1W5        W05      W12\n",
       " ..     ...   ...        ...      ...\n",
       " 58    1985  R4Y1       R3Y1     R3Y2\n",
       " 59    1985  R4Z1       R3Z1     R3Z2\n",
       " 60    1985  R5WX       R4W1     R4X1\n",
       " 61    1985  R5YZ       R4Y1     R4Z1\n",
       " 62    1985  R6CH       R5WX     R5YZ\n",
       " \n",
       " [63 rows x 4 columns],      Season  Slot StrongSeed WeakSeed\n",
       " 63     1986  R1W1        W01      W16\n",
       " 64     1986  R1W2        W02      W15\n",
       " 65     1986  R1W3        W03      W14\n",
       " 66     1986  R1W4        W04      W13\n",
       " 67     1986  R1W5        W05      W12\n",
       " ..      ...   ...        ...      ...\n",
       " 121    1986  R4Y1       R3Y1     R3Y2\n",
       " 122    1986  R4Z1       R3Z1     R3Z2\n",
       " 123    1986  R5WX       R4W1     R4X1\n",
       " 124    1986  R5YZ       R4Y1     R4Z1\n",
       " 125    1986  R6CH       R5WX     R5YZ\n",
       " \n",
       " [63 rows x 4 columns],      Season  Slot StrongSeed WeakSeed\n",
       " 126    1987  R1W1        W01      W16\n",
       " 127    1987  R1W2        W02      W15\n",
       " 128    1987  R1W3        W03      W14\n",
       " 129    1987  R1W4        W04      W13\n",
       " 130    1987  R1W5        W05      W12\n",
       " ..      ...   ...        ...      ...\n",
       " 184    1987  R4Y1       R3Y1     R3Y2\n",
       " 185    1987  R4Z1       R3Z1     R3Z2\n",
       " 186    1987  R5WX       R4W1     R4X1\n",
       " 187    1987  R5YZ       R4Y1     R4Z1\n",
       " 188    1987  R6CH       R5WX     R5YZ\n",
       " \n",
       " [63 rows x 4 columns],      Season  Slot StrongSeed WeakSeed\n",
       " 189    1988  R1W1        W01      W16\n",
       " 190    1988  R1W2        W02      W15\n",
       " 191    1988  R1W3        W03      W14\n",
       " 192    1988  R1W4        W04      W13\n",
       " 193    1988  R1W5        W05      W12\n",
       " ..      ...   ...        ...      ...\n",
       " 247    1988  R4Y1       R3Y1     R3Y2\n",
       " 248    1988  R4Z1       R3Z1     R3Z2\n",
       " 249    1988  R5WX       R4W1     R4X1\n",
       " 250    1988  R5YZ       R4Y1     R4Z1\n",
       " 251    1988  R6CH       R5WX     R5YZ\n",
       " \n",
       " [63 rows x 4 columns],      Season  Slot StrongSeed WeakSeed\n",
       " 252    1989  R1W1        W01      W16\n",
       " 253    1989  R1W2        W02      W15\n",
       " 254    1989  R1W3        W03      W14\n",
       " 255    1989  R1W4        W04      W13\n",
       " 256    1989  R1W5        W05      W12\n",
       " ..      ...   ...        ...      ...\n",
       " 310    1989  R4Y1       R3Y1     R3Y2\n",
       " 311    1989  R4Z1       R3Z1     R3Z2\n",
       " 312    1989  R5WX       R4W1     R4X1\n",
       " 313    1989  R5YZ       R4Y1     R4Z1\n",
       " 314    1989  R6CH       R5WX     R5YZ\n",
       " \n",
       " [63 rows x 4 columns],      Season  Slot StrongSeed WeakSeed\n",
       " 315    1990  R1W1        W01      W16\n",
       " 316    1990  R1W2        W02      W15\n",
       " 317    1990  R1W3        W03      W14\n",
       " 318    1990  R1W4        W04      W13\n",
       " 319    1990  R1W5        W05      W12\n",
       " ..      ...   ...        ...      ...\n",
       " 373    1990  R4Y1       R3Y1     R3Y2\n",
       " 374    1990  R4Z1       R3Z1     R3Z2\n",
       " 375    1990  R5WX       R4W1     R4X1\n",
       " 376    1990  R5YZ       R4Y1     R4Z1\n",
       " 377    1990  R6CH       R5WX     R5YZ\n",
       " \n",
       " [63 rows x 4 columns],      Season  Slot StrongSeed WeakSeed\n",
       " 378    1991  R1W1        W01      W16\n",
       " 379    1991  R1W2        W02      W15\n",
       " 380    1991  R1W3        W03      W14\n",
       " 381    1991  R1W4        W04      W13\n",
       " 382    1991  R1W5        W05      W12\n",
       " ..      ...   ...        ...      ...\n",
       " 436    1991  R4Y1       R3Y1     R3Y2\n",
       " 437    1991  R4Z1       R3Z1     R3Z2\n",
       " 438    1991  R5WX       R4W1     R4X1\n",
       " 439    1991  R5YZ       R4Y1     R4Z1\n",
       " 440    1991  R6CH       R5WX     R5YZ\n",
       " \n",
       " [63 rows x 4 columns],      Season  Slot StrongSeed WeakSeed\n",
       " 441    1992  R1W1        W01      W16\n",
       " 442    1992  R1W2        W02      W15\n",
       " 443    1992  R1W3        W03      W14\n",
       " 444    1992  R1W4        W04      W13\n",
       " 445    1992  R1W5        W05      W12\n",
       " ..      ...   ...        ...      ...\n",
       " 499    1992  R4Y1       R3Y1     R3Y2\n",
       " 500    1992  R4Z1       R3Z1     R3Z2\n",
       " 501    1992  R5WX       R4W1     R4X1\n",
       " 502    1992  R5YZ       R4Y1     R4Z1\n",
       " 503    1992  R6CH       R5WX     R5YZ\n",
       " \n",
       " [63 rows x 4 columns],      Season  Slot StrongSeed WeakSeed\n",
       " 504    1993  R1W1        W01      W16\n",
       " 505    1993  R1W2        W02      W15\n",
       " 506    1993  R1W3        W03      W14\n",
       " 507    1993  R1W4        W04      W13\n",
       " 508    1993  R1W5        W05      W12\n",
       " ..      ...   ...        ...      ...\n",
       " 562    1993  R4Y1       R3Y1     R3Y2\n",
       " 563    1993  R4Z1       R3Z1     R3Z2\n",
       " 564    1993  R5WX       R4W1     R4X1\n",
       " 565    1993  R5YZ       R4Y1     R4Z1\n",
       " 566    1993  R6CH       R5WX     R5YZ\n",
       " \n",
       " [63 rows x 4 columns],      Season  Slot StrongSeed WeakSeed\n",
       " 567    1994  R1W1        W01      W16\n",
       " 568    1994  R1W2        W02      W15\n",
       " 569    1994  R1W3        W03      W14\n",
       " 570    1994  R1W4        W04      W13\n",
       " 571    1994  R1W5        W05      W12\n",
       " ..      ...   ...        ...      ...\n",
       " 625    1994  R4Y1       R3Y1     R3Y2\n",
       " 626    1994  R4Z1       R3Z1     R3Z2\n",
       " 627    1994  R5WX       R4W1     R4X1\n",
       " 628    1994  R5YZ       R4Y1     R4Z1\n",
       " 629    1994  R6CH       R5WX     R5YZ\n",
       " \n",
       " [63 rows x 4 columns],      Season  Slot StrongSeed WeakSeed\n",
       " 630    1995  R1W1        W01      W16\n",
       " 631    1995  R1W2        W02      W15\n",
       " 632    1995  R1W3        W03      W14\n",
       " 633    1995  R1W4        W04      W13\n",
       " 634    1995  R1W5        W05      W12\n",
       " ..      ...   ...        ...      ...\n",
       " 688    1995  R4Y1       R3Y1     R3Y2\n",
       " 689    1995  R4Z1       R3Z1     R3Z2\n",
       " 690    1995  R5WX       R4W1     R4X1\n",
       " 691    1995  R5YZ       R4Y1     R4Z1\n",
       " 692    1995  R6CH       R5WX     R5YZ\n",
       " \n",
       " [63 rows x 4 columns],      Season  Slot StrongSeed WeakSeed\n",
       " 693    1996  R1W1        W01      W16\n",
       " 694    1996  R1W2        W02      W15\n",
       " 695    1996  R1W3        W03      W14\n",
       " 696    1996  R1W4        W04      W13\n",
       " 697    1996  R1W5        W05      W12\n",
       " ..      ...   ...        ...      ...\n",
       " 751    1996  R4Y1       R3Y1     R3Y2\n",
       " 752    1996  R4Z1       R3Z1     R3Z2\n",
       " 753    1996  R5WX       R4W1     R4X1\n",
       " 754    1996  R5YZ       R4Y1     R4Z1\n",
       " 755    1996  R6CH       R5WX     R5YZ\n",
       " \n",
       " [63 rows x 4 columns],      Season  Slot StrongSeed WeakSeed\n",
       " 756    1997  R1W1        W01      W16\n",
       " 757    1997  R1W2        W02      W15\n",
       " 758    1997  R1W3        W03      W14\n",
       " 759    1997  R1W4        W04      W13\n",
       " 760    1997  R1W5        W05      W12\n",
       " ..      ...   ...        ...      ...\n",
       " 814    1997  R4Y1       R3Y1     R3Y2\n",
       " 815    1997  R4Z1       R3Z1     R3Z2\n",
       " 816    1997  R5WX       R4W1     R4X1\n",
       " 817    1997  R5YZ       R4Y1     R4Z1\n",
       " 818    1997  R6CH       R5WX     R5YZ\n",
       " \n",
       " [63 rows x 4 columns],      Season  Slot StrongSeed WeakSeed\n",
       " 819    1998  R1W1        W01      W16\n",
       " 820    1998  R1W2        W02      W15\n",
       " 821    1998  R1W3        W03      W14\n",
       " 822    1998  R1W4        W04      W13\n",
       " 823    1998  R1W5        W05      W12\n",
       " ..      ...   ...        ...      ...\n",
       " 877    1998  R4Y1       R3Y1     R3Y2\n",
       " 878    1998  R4Z1       R3Z1     R3Z2\n",
       " 879    1998  R5WX       R4W1     R4X1\n",
       " 880    1998  R5YZ       R4Y1     R4Z1\n",
       " 881    1998  R6CH       R5WX     R5YZ\n",
       " \n",
       " [63 rows x 4 columns],      Season  Slot StrongSeed WeakSeed\n",
       " 882    1999  R1W1        W01      W16\n",
       " 883    1999  R1W2        W02      W15\n",
       " 884    1999  R1W3        W03      W14\n",
       " 885    1999  R1W4        W04      W13\n",
       " 886    1999  R1W5        W05      W12\n",
       " ..      ...   ...        ...      ...\n",
       " 940    1999  R4Y1       R3Y1     R3Y2\n",
       " 941    1999  R4Z1       R3Z1     R3Z2\n",
       " 942    1999  R5WX       R4W1     R4X1\n",
       " 943    1999  R5YZ       R4Y1     R4Z1\n",
       " 944    1999  R6CH       R5WX     R5YZ\n",
       " \n",
       " [63 rows x 4 columns],       Season  Slot StrongSeed WeakSeed\n",
       " 945     2000  R1W1        W01      W16\n",
       " 946     2000  R1W2        W02      W15\n",
       " 947     2000  R1W3        W03      W14\n",
       " 948     2000  R1W4        W04      W13\n",
       " 949     2000  R1W5        W05      W12\n",
       " ...      ...   ...        ...      ...\n",
       " 1003    2000  R4Y1       R3Y1     R3Y2\n",
       " 1004    2000  R4Z1       R3Z1     R3Z2\n",
       " 1005    2000  R5WX       R4W1     R4X1\n",
       " 1006    2000  R5YZ       R4Y1     R4Z1\n",
       " 1007    2000  R6CH       R5WX     R5YZ\n",
       " \n",
       " [63 rows x 4 columns],       Season  Slot StrongSeed WeakSeed\n",
       " 1008    2001  R1W1        W01      W16\n",
       " 1009    2001  R1W2        W02      W15\n",
       " 1010    2001  R1W3        W03      W14\n",
       " 1011    2001  R1W4        W04      W13\n",
       " 1012    2001  R1W5        W05      W12\n",
       " ...      ...   ...        ...      ...\n",
       " 1067    2001  R4Z1       R3Z1     R3Z2\n",
       " 1068    2001  R5WX       R4W1     R4X1\n",
       " 1069    2001  R5YZ       R4Y1     R4Z1\n",
       " 1070    2001  R6CH       R5WX     R5YZ\n",
       " 1071    2001   Y16       Y16a     Y16b\n",
       " \n",
       " [64 rows x 4 columns],       Season  Slot StrongSeed WeakSeed\n",
       " 1072    2002  R1W1        W01      W16\n",
       " 1073    2002  R1W2        W02      W15\n",
       " 1074    2002  R1W3        W03      W14\n",
       " 1075    2002  R1W4        W04      W13\n",
       " 1076    2002  R1W5        W05      W12\n",
       " ...      ...   ...        ...      ...\n",
       " 1131    2002  R4Z1       R3Z1     R3Z2\n",
       " 1132    2002  R5WX       R4W1     R4X1\n",
       " 1133    2002  R5YZ       R4Y1     R4Z1\n",
       " 1134    2002  R6CH       R5WX     R5YZ\n",
       " 1135    2002   W16       W16a     W16b\n",
       " \n",
       " [64 rows x 4 columns],       Season  Slot StrongSeed WeakSeed\n",
       " 1136    2003  R1W1        W01      W16\n",
       " 1137    2003  R1W2        W02      W15\n",
       " 1138    2003  R1W3        W03      W14\n",
       " 1139    2003  R1W4        W04      W13\n",
       " 1140    2003  R1W5        W05      W12\n",
       " ...      ...   ...        ...      ...\n",
       " 1195    2003  R4Z1       R3Z1     R3Z2\n",
       " 1196    2003  R5WX       R4W1     R4X1\n",
       " 1197    2003  R5YZ       R4Y1     R4Z1\n",
       " 1198    2003  R6CH       R5WX     R5YZ\n",
       " 1199    2003   X16       X16a     X16b\n",
       " \n",
       " [64 rows x 4 columns],       Season  Slot StrongSeed WeakSeed\n",
       " 1200    2004  R1W1        W01      W16\n",
       " 1201    2004  R1W2        W02      W15\n",
       " 1202    2004  R1W3        W03      W14\n",
       " 1203    2004  R1W4        W04      W13\n",
       " 1204    2004  R1W5        W05      W12\n",
       " ...      ...   ...        ...      ...\n",
       " 1259    2004  R4Z1       R3Z1     R3Z2\n",
       " 1260    2004  R5WX       R4W1     R4X1\n",
       " 1261    2004  R5YZ       R4Y1     R4Z1\n",
       " 1262    2004  R6CH       R5WX     R5YZ\n",
       " 1263    2004   Z16       Z16a     Z16b\n",
       " \n",
       " [64 rows x 4 columns],       Season  Slot StrongSeed WeakSeed\n",
       " 1264    2005  R1W1        W01      W16\n",
       " 1265    2005  R1W2        W02      W15\n",
       " 1266    2005  R1W3        W03      W14\n",
       " 1267    2005  R1W4        W04      W13\n",
       " 1268    2005  R1W5        W05      W12\n",
       " ...      ...   ...        ...      ...\n",
       " 1323    2005  R4Z1       R3Z1     R3Z2\n",
       " 1324    2005  R5WX       R4W1     R4X1\n",
       " 1325    2005  R5YZ       R4Y1     R4Z1\n",
       " 1326    2005  R6CH       R5WX     R5YZ\n",
       " 1327    2005   Z16       Z16a     Z16b\n",
       " \n",
       " [64 rows x 4 columns],       Season  Slot StrongSeed WeakSeed\n",
       " 1328    2006  R1W1        W01      W16\n",
       " 1329    2006  R1W2        W02      W15\n",
       " 1330    2006  R1W3        W03      W14\n",
       " 1331    2006  R1W4        W04      W13\n",
       " 1332    2006  R1W5        W05      W12\n",
       " ...      ...   ...        ...      ...\n",
       " 1387    2006  R4Z1       R3Z1     R3Z2\n",
       " 1388    2006  R5WX       R4W1     R4X1\n",
       " 1389    2006  R5YZ       R4Y1     R4Z1\n",
       " 1390    2006  R6CH       R5WX     R5YZ\n",
       " 1391    2006   Y16       Y16a     Y16b\n",
       " \n",
       " [64 rows x 4 columns],       Season  Slot StrongSeed WeakSeed\n",
       " 1392    2007  R1W1        W01      W16\n",
       " 1393    2007  R1W2        W02      W15\n",
       " 1394    2007  R1W3        W03      W14\n",
       " 1395    2007  R1W4        W04      W13\n",
       " 1396    2007  R1W5        W05      W12\n",
       " ...      ...   ...        ...      ...\n",
       " 1451    2007  R4Z1       R3Z1     R3Z2\n",
       " 1452    2007  R5WX       R4W1     R4X1\n",
       " 1453    2007  R5YZ       R4Y1     R4Z1\n",
       " 1454    2007  R6CH       R5WX     R5YZ\n",
       " 1455    2007   Z16       Z16a     Z16b\n",
       " \n",
       " [64 rows x 4 columns],       Season  Slot StrongSeed WeakSeed\n",
       " 1456    2008  R1W1        W01      W16\n",
       " 1457    2008  R1W2        W02      W15\n",
       " 1458    2008  R1W3        W03      W14\n",
       " 1459    2008  R1W4        W04      W13\n",
       " 1460    2008  R1W5        W05      W12\n",
       " ...      ...   ...        ...      ...\n",
       " 1515    2008  R4Z1       R3Z1     R3Z2\n",
       " 1516    2008  R5WX       R4W1     R4X1\n",
       " 1517    2008  R5YZ       R4Y1     R4Z1\n",
       " 1518    2008  R6CH       R5WX     R5YZ\n",
       " 1519    2008   W16       W16a     W16b\n",
       " \n",
       " [64 rows x 4 columns],       Season  Slot StrongSeed WeakSeed\n",
       " 1520    2009  R1W1        W01      W16\n",
       " 1521    2009  R1W2        W02      W15\n",
       " 1522    2009  R1W3        W03      W14\n",
       " 1523    2009  R1W4        W04      W13\n",
       " 1524    2009  R1W5        W05      W12\n",
       " ...      ...   ...        ...      ...\n",
       " 1579    2009  R4Z1       R3Z1     R3Z2\n",
       " 1580    2009  R5WX       R4W1     R4X1\n",
       " 1581    2009  R5YZ       R4Y1     R4Z1\n",
       " 1582    2009  R6CH       R5WX     R5YZ\n",
       " 1583    2009   Y16       Y16a     Y16b\n",
       " \n",
       " [64 rows x 4 columns],       Season  Slot StrongSeed WeakSeed\n",
       " 1584    2010  R1W1        W01      W16\n",
       " 1585    2010  R1W2        W02      W15\n",
       " 1586    2010  R1W3        W03      W14\n",
       " 1587    2010  R1W4        W04      W13\n",
       " 1588    2010  R1W5        W05      W12\n",
       " ...      ...   ...        ...      ...\n",
       " 1643    2010  R4Z1       R3Z1     R3Z2\n",
       " 1644    2010  R5WX       R4W1     R4X1\n",
       " 1645    2010  R5YZ       R4Y1     R4Z1\n",
       " 1646    2010  R6CH       R5WX     R5YZ\n",
       " 1647    2010   X16       X16a     X16b\n",
       " \n",
       " [64 rows x 4 columns],       Season  Slot StrongSeed WeakSeed\n",
       " 1648    2011  R1W1        W01      W16\n",
       " 1649    2011  R1W2        W02      W15\n",
       " 1650    2011  R1W3        W03      W14\n",
       " 1651    2011  R1W4        W04      W13\n",
       " 1652    2011  R1W5        W05      W12\n",
       " ...      ...   ...        ...      ...\n",
       " 1710    2011  R6CH       R5WX     R5YZ\n",
       " 1711    2011   W12       W12a     W12b\n",
       " 1712    2011   W16       W16a     W16b\n",
       " 1713    2011   Y16       Y16a     Y16b\n",
       " 1714    2011   Z11       Z11a     Z11b\n",
       " \n",
       " [67 rows x 4 columns],       Season  Slot StrongSeed WeakSeed\n",
       " 1715    2012  R1W1        W01      W16\n",
       " 1716    2012  R1W2        W02      W15\n",
       " 1717    2012  R1W3        W03      W14\n",
       " 1718    2012  R1W4        W04      W13\n",
       " 1719    2012  R1W5        W05      W12\n",
       " ...      ...   ...        ...      ...\n",
       " 1777    2012  R6CH       R5WX     R5YZ\n",
       " 1778    2012   X12       X12a     X12b\n",
       " 1779    2012   X16       X16a     X16b\n",
       " 1780    2012   Y16       Y16a     Y16b\n",
       " 1781    2012   Z14       Z14a     Z14b\n",
       " \n",
       " [67 rows x 4 columns],       Season  Slot StrongSeed WeakSeed\n",
       " 1782    2013  R1W1        W01      W16\n",
       " 1783    2013  R1W2        W02      W15\n",
       " 1784    2013  R1W3        W03      W14\n",
       " 1785    2013  R1W4        W04      W13\n",
       " 1786    2013  R1W5        W05      W12\n",
       " ...      ...   ...        ...      ...\n",
       " 1844    2013  R6CH       R5WX     R5YZ\n",
       " 1845    2013   W16       W16a     W16b\n",
       " 1846    2013   Y11       Y11a     Y11b\n",
       " 1847    2013   Y16       Y16a     Y16b\n",
       " 1848    2013   Z13       Z13a     Z13b\n",
       " \n",
       " [67 rows x 4 columns],       Season  Slot StrongSeed WeakSeed\n",
       " 1849    2014  R1W1        W01      W16\n",
       " 1850    2014  R1W2        W02      W15\n",
       " 1851    2014  R1W3        W03      W14\n",
       " 1852    2014  R1W4        W04      W13\n",
       " 1853    2014  R1W5        W05      W12\n",
       " ...      ...   ...        ...      ...\n",
       " 1911    2014  R6CH       R5WX     R5YZ\n",
       " 1912    2014   X16       X16a     X16b\n",
       " 1913    2014   Y11       Y11a     Y11b\n",
       " 1914    2014   Y12       Y12a     Y12b\n",
       " 1915    2014   Y16       Y16a     Y16b\n",
       " \n",
       " [67 rows x 4 columns],       Season  Slot StrongSeed WeakSeed\n",
       " 1916    2015  R1W1        W01      W16\n",
       " 1917    2015  R1W2        W02      W15\n",
       " 1918    2015  R1W3        W03      W14\n",
       " 1919    2015  R1W4        W04      W13\n",
       " 1920    2015  R1W5        W05      W12\n",
       " ...      ...   ...        ...      ...\n",
       " 1978    2015  R6CH       R5WX     R5YZ\n",
       " 1979    2015   W11       W11a     W11b\n",
       " 1980    2015   X16       X16a     X16b\n",
       " 1981    2015   Y16       Y16a     Y16b\n",
       " 1982    2015   Z11       Z11a     Z11b\n",
       " \n",
       " [67 rows x 4 columns],       Season  Slot StrongSeed WeakSeed\n",
       " 1983    2016  R1W1        W01      W16\n",
       " 1984    2016  R1W2        W02      W15\n",
       " 1985    2016  R1W3        W03      W14\n",
       " 1986    2016  R1W4        W04      W13\n",
       " 1987    2016  R1W5        W05      W12\n",
       " ...      ...   ...        ...      ...\n",
       " 2045    2016  R6CH       R5WX     R5YZ\n",
       " 2046    2016   W11       W11a     W11b\n",
       " 2047    2016   W16       W16a     W16b\n",
       " 2048    2016   Y11       Y11a     Y11b\n",
       " 2049    2016   Z16       Z16a     Z16b\n",
       " \n",
       " [67 rows x 4 columns],       Season  Slot StrongSeed WeakSeed\n",
       " 2050    2017  R1W1        W01      W16\n",
       " 2051    2017  R1W2        W02      W15\n",
       " 2052    2017  R1W3        W03      W14\n",
       " 2053    2017  R1W4        W04      W13\n",
       " 2054    2017  R1W5        W05      W12\n",
       " ...      ...   ...        ...      ...\n",
       " 2112    2017  R6CH       R5WX     R5YZ\n",
       " 2113    2017   W11       W11a     W11b\n",
       " 2114    2017   W16       W16a     W16b\n",
       " 2115    2017   Y16       Y16a     Y16b\n",
       " 2116    2017   Z11       Z11a     Z11b\n",
       " \n",
       " [67 rows x 4 columns],       Season  Slot StrongSeed WeakSeed\n",
       " 2117    2018  R1W1        W01      W16\n",
       " 2118    2018  R1W2        W02      W15\n",
       " 2119    2018  R1W3        W03      W14\n",
       " 2120    2018  R1W4        W04      W13\n",
       " 2121    2018  R1W5        W05      W12\n",
       " ...      ...   ...        ...      ...\n",
       " 2179    2018  R6CH       R5WX     R5YZ\n",
       " 2180    2018   W11       W11a     W11b\n",
       " 2181    2018   W16       W16a     W16b\n",
       " 2182    2018   X11       X11a     X11b\n",
       " 2183    2018   Z16       Z16a     Z16b\n",
       " \n",
       " [67 rows x 4 columns],       Season  Slot StrongSeed WeakSeed\n",
       " 2184    2019  R1W1        W01      W16\n",
       " 2185    2019  R1W2        W02      W15\n",
       " 2186    2019  R1W3        W03      W14\n",
       " 2187    2019  R1W4        W04      W13\n",
       " 2188    2019  R1W5        W05      W12\n",
       " ...      ...   ...        ...      ...\n",
       " 2246    2019  R6CH       R5WX     R5YZ\n",
       " 2247    2019   W11       W11a     W11b\n",
       " 2248    2019   W16       W16a     W16b\n",
       " 2249    2019   X11       X11a     X11b\n",
       " 2250    2019   X16       X16a     X16b\n",
       " \n",
       " [67 rows x 4 columns], Empty DataFrame\n",
       " Columns: [Season, Slot, StrongSeed, WeakSeed]\n",
       " Index: [],       Season  Slot StrongSeed WeakSeed\n",
       " 2251    2021  R1W1        W01      W16\n",
       " 2252    2021  R1W2        W02      W15\n",
       " 2253    2021  R1W3        W03      W14\n",
       " 2254    2021  R1W4        W04      W13\n",
       " 2255    2021  R1W5        W05      W12\n",
       " ...      ...   ...        ...      ...\n",
       " 2313    2021  R6CH       R5WX     R5YZ\n",
       " 2314    2021   W11       W11a     W11b\n",
       " 2315    2021   W16       W16a     W16b\n",
       " 2316    2021   X11       X11a     X11b\n",
       " 2317    2021   X16       X16a     X16b\n",
       " \n",
       " [67 rows x 4 columns]]"
      ]
     },
     "execution_count": 144,
     "metadata": {},
     "output_type": "execute_result"
    }
   ],
   "source": [
    "slots_arr"
   ]
  },
  {
   "cell_type": "code",
   "execution_count": 104,
   "metadata": {},
   "outputs": [],
   "source": [
    "tourney_summary = pd.read_csv(\"datasets/our_data/tourney_wins_matrix\", index_col=0)"
   ]
  },
  {
   "cell_type": "code",
   "execution_count": 105,
   "metadata": {},
   "outputs": [],
   "source": [
    "wins_in_prev_2_year = np.zeros(tourney_summary.shape)\n",
    "wins_in_prev_2_year[0:2, :] = np.nan"
   ]
  },
  {
   "cell_type": "code",
   "execution_count": 106,
   "metadata": {},
   "outputs": [],
   "source": [
    "for i in range(2, tourney_summary.shape[0]):\n",
    "    wins_in_prev_2_year[i, :] = tourney_summary.values[i - 1, :] + tourney_summary.values[i - 2, :]"
   ]
  },
  {
   "cell_type": "code",
   "execution_count": 107,
   "metadata": {},
   "outputs": [],
   "source": [
    "past_resul = pd.DataFrame(wins_in_prev_2_year, columns = tourney_summary.columns, index= tourney_summary.index)"
   ]
  },
  {
   "cell_type": "code",
   "execution_count": 108,
   "metadata": {},
   "outputs": [],
   "source": [
    "past_resul.to_csv(\"datasets/our_data/past_results\")"
   ]
  },
  {
   "cell_type": "code",
   "execution_count": 111,
   "metadata": {},
   "outputs": [
    {
     "data": {
      "text/html": [
       "<div>\n",
       "<style scoped>\n",
       "    .dataframe tbody tr th:only-of-type {\n",
       "        vertical-align: middle;\n",
       "    }\n",
       "\n",
       "    .dataframe tbody tr th {\n",
       "        vertical-align: top;\n",
       "    }\n",
       "\n",
       "    .dataframe thead th {\n",
       "        text-align: right;\n",
       "    }\n",
       "</style>\n",
       "<table border=\"1\" class=\"dataframe\">\n",
       "  <thead>\n",
       "    <tr style=\"text-align: right;\">\n",
       "      <th></th>\n",
       "      <th>1101</th>\n",
       "      <th>1102</th>\n",
       "      <th>1103</th>\n",
       "      <th>1104</th>\n",
       "      <th>1105</th>\n",
       "      <th>1106</th>\n",
       "      <th>1107</th>\n",
       "      <th>1108</th>\n",
       "      <th>1109</th>\n",
       "      <th>1110</th>\n",
       "      <th>...</th>\n",
       "      <th>1462</th>\n",
       "      <th>1463</th>\n",
       "      <th>1464</th>\n",
       "      <th>1465</th>\n",
       "      <th>1466</th>\n",
       "      <th>1467</th>\n",
       "      <th>1468</th>\n",
       "      <th>1469</th>\n",
       "      <th>1470</th>\n",
       "      <th>1471</th>\n",
       "    </tr>\n",
       "  </thead>\n",
       "  <tbody>\n",
       "    <tr>\n",
       "      <th>1985</th>\n",
       "      <td>NaN</td>\n",
       "      <td>NaN</td>\n",
       "      <td>NaN</td>\n",
       "      <td>NaN</td>\n",
       "      <td>NaN</td>\n",
       "      <td>NaN</td>\n",
       "      <td>NaN</td>\n",
       "      <td>NaN</td>\n",
       "      <td>NaN</td>\n",
       "      <td>NaN</td>\n",
       "      <td>...</td>\n",
       "      <td>NaN</td>\n",
       "      <td>NaN</td>\n",
       "      <td>NaN</td>\n",
       "      <td>NaN</td>\n",
       "      <td>NaN</td>\n",
       "      <td>NaN</td>\n",
       "      <td>NaN</td>\n",
       "      <td>NaN</td>\n",
       "      <td>NaN</td>\n",
       "      <td>NaN</td>\n",
       "    </tr>\n",
       "    <tr>\n",
       "      <th>1986</th>\n",
       "      <td>NaN</td>\n",
       "      <td>NaN</td>\n",
       "      <td>NaN</td>\n",
       "      <td>NaN</td>\n",
       "      <td>NaN</td>\n",
       "      <td>NaN</td>\n",
       "      <td>NaN</td>\n",
       "      <td>NaN</td>\n",
       "      <td>NaN</td>\n",
       "      <td>NaN</td>\n",
       "      <td>...</td>\n",
       "      <td>NaN</td>\n",
       "      <td>NaN</td>\n",
       "      <td>NaN</td>\n",
       "      <td>NaN</td>\n",
       "      <td>NaN</td>\n",
       "      <td>NaN</td>\n",
       "      <td>NaN</td>\n",
       "      <td>NaN</td>\n",
       "      <td>NaN</td>\n",
       "      <td>NaN</td>\n",
       "    </tr>\n",
       "    <tr>\n",
       "      <th>1987</th>\n",
       "      <td>0.0</td>\n",
       "      <td>0.0</td>\n",
       "      <td>0.0</td>\n",
       "      <td>4.0</td>\n",
       "      <td>0.0</td>\n",
       "      <td>0.0</td>\n",
       "      <td>0.0</td>\n",
       "      <td>0.0</td>\n",
       "      <td>0.0</td>\n",
       "      <td>0.0</td>\n",
       "      <td>...</td>\n",
       "      <td>0.0</td>\n",
       "      <td>0.0</td>\n",
       "      <td>0.0</td>\n",
       "      <td>0.0</td>\n",
       "      <td>0.0</td>\n",
       "      <td>0.0</td>\n",
       "      <td>0.0</td>\n",
       "      <td>0.0</td>\n",
       "      <td>0.0</td>\n",
       "      <td>0.0</td>\n",
       "    </tr>\n",
       "    <tr>\n",
       "      <th>1988</th>\n",
       "      <td>0.0</td>\n",
       "      <td>0.0</td>\n",
       "      <td>0.0</td>\n",
       "      <td>4.0</td>\n",
       "      <td>0.0</td>\n",
       "      <td>0.0</td>\n",
       "      <td>0.0</td>\n",
       "      <td>0.0</td>\n",
       "      <td>0.0</td>\n",
       "      <td>0.0</td>\n",
       "      <td>...</td>\n",
       "      <td>1.0</td>\n",
       "      <td>0.0</td>\n",
       "      <td>0.0</td>\n",
       "      <td>0.0</td>\n",
       "      <td>0.0</td>\n",
       "      <td>0.0</td>\n",
       "      <td>0.0</td>\n",
       "      <td>0.0</td>\n",
       "      <td>0.0</td>\n",
       "      <td>0.0</td>\n",
       "    </tr>\n",
       "    <tr>\n",
       "      <th>1989</th>\n",
       "      <td>0.0</td>\n",
       "      <td>0.0</td>\n",
       "      <td>0.0</td>\n",
       "      <td>2.0</td>\n",
       "      <td>0.0</td>\n",
       "      <td>0.0</td>\n",
       "      <td>0.0</td>\n",
       "      <td>0.0</td>\n",
       "      <td>0.0</td>\n",
       "      <td>0.0</td>\n",
       "      <td>...</td>\n",
       "      <td>1.0</td>\n",
       "      <td>0.0</td>\n",
       "      <td>0.0</td>\n",
       "      <td>0.0</td>\n",
       "      <td>0.0</td>\n",
       "      <td>0.0</td>\n",
       "      <td>0.0</td>\n",
       "      <td>0.0</td>\n",
       "      <td>0.0</td>\n",
       "      <td>0.0</td>\n",
       "    </tr>\n",
       "  </tbody>\n",
       "</table>\n",
       "<p>5 rows × 371 columns</p>\n",
       "</div>"
      ],
      "text/plain": [
       "      1101  1102  1103  1104  1105  1106  1107  1108  1109  1110  ...  1462  \\\n",
       "1985   NaN   NaN   NaN   NaN   NaN   NaN   NaN   NaN   NaN   NaN  ...   NaN   \n",
       "1986   NaN   NaN   NaN   NaN   NaN   NaN   NaN   NaN   NaN   NaN  ...   NaN   \n",
       "1987   0.0   0.0   0.0   4.0   0.0   0.0   0.0   0.0   0.0   0.0  ...   0.0   \n",
       "1988   0.0   0.0   0.0   4.0   0.0   0.0   0.0   0.0   0.0   0.0  ...   1.0   \n",
       "1989   0.0   0.0   0.0   2.0   0.0   0.0   0.0   0.0   0.0   0.0  ...   1.0   \n",
       "\n",
       "      1463  1464  1465  1466  1467  1468  1469  1470  1471  \n",
       "1985   NaN   NaN   NaN   NaN   NaN   NaN   NaN   NaN   NaN  \n",
       "1986   NaN   NaN   NaN   NaN   NaN   NaN   NaN   NaN   NaN  \n",
       "1987   0.0   0.0   0.0   0.0   0.0   0.0   0.0   0.0   0.0  \n",
       "1988   0.0   0.0   0.0   0.0   0.0   0.0   0.0   0.0   0.0  \n",
       "1989   0.0   0.0   0.0   0.0   0.0   0.0   0.0   0.0   0.0  \n",
       "\n",
       "[5 rows x 371 columns]"
      ]
     },
     "execution_count": 111,
     "metadata": {},
     "output_type": "execute_result"
    }
   ],
   "source": [
    "past_resul.head()"
   ]
  },
  {
   "cell_type": "markdown",
   "metadata": {},
   "source": [
    "## 2) Generate Some New Predictors"
   ]
  },
  {
   "cell_type": "code",
   "execution_count": 112,
   "metadata": {},
   "outputs": [],
   "source": [
    "regular_seasons = pd.read_csv(\"datasets/kaggle_data_2021/MRegularSeasonCompactResults.csv\")"
   ]
  },
  {
   "cell_type": "code",
   "execution_count": 113,
   "metadata": {},
   "outputs": [],
   "source": [
    "regular_data = mmg.filter_into_seasons(regular_seasons)"
   ]
  },
  {
   "cell_type": "code",
   "execution_count": 136,
   "metadata": {},
   "outputs": [],
   "source": [
    "markov_data = pd.read_csv(\"datasets/our_data/stationary\", index_col=0)\n",
    "consistency = pd.read_csv(\"datasets/our_data/regular_season_std_score_differential_matrix\", index_col=0)\n",
    "dominance = pd.read_csv(\"datasets/our_data/regular_season_avg_score_differential_matrix\", index_col=0)\n",
    "past_resul = pd.read_csv(\"datasets/our_data/past_results\", index_col=0)"
   ]
  },
  {
   "cell_type": "code",
   "execution_count": 139,
   "metadata": {},
   "outputs": [
    {
     "name": "stdout",
     "output_type": "stream",
     "text": [
      "(37, 371)\n",
      "(37, 371)\n",
      "(37, 371)\n",
      "(37, 371)\n"
     ]
    }
   ],
   "source": [
    "# sanity check\n",
    "print(markov_data.shape)\n",
    "print(consistency.shape)\n",
    "print(dominance.shape)\n",
    "print(past_resul.shape)"
   ]
  },
  {
   "cell_type": "code",
   "execution_count": 140,
   "metadata": {},
   "outputs": [
    {
     "data": {
      "text/html": [
       "<div>\n",
       "<style scoped>\n",
       "    .dataframe tbody tr th:only-of-type {\n",
       "        vertical-align: middle;\n",
       "    }\n",
       "\n",
       "    .dataframe tbody tr th {\n",
       "        vertical-align: top;\n",
       "    }\n",
       "\n",
       "    .dataframe thead th {\n",
       "        text-align: right;\n",
       "    }\n",
       "</style>\n",
       "<table border=\"1\" class=\"dataframe\">\n",
       "  <thead>\n",
       "    <tr style=\"text-align: right;\">\n",
       "      <th></th>\n",
       "      <th>1101</th>\n",
       "      <th>1102</th>\n",
       "      <th>1103</th>\n",
       "      <th>1104</th>\n",
       "      <th>1105</th>\n",
       "      <th>1106</th>\n",
       "      <th>1107</th>\n",
       "      <th>1108</th>\n",
       "      <th>1109</th>\n",
       "      <th>1110</th>\n",
       "      <th>...</th>\n",
       "      <th>1462</th>\n",
       "      <th>1463</th>\n",
       "      <th>1464</th>\n",
       "      <th>1465</th>\n",
       "      <th>1466</th>\n",
       "      <th>1467</th>\n",
       "      <th>1468</th>\n",
       "      <th>1469</th>\n",
       "      <th>1470</th>\n",
       "      <th>1471</th>\n",
       "    </tr>\n",
       "  </thead>\n",
       "  <tbody>\n",
       "    <tr>\n",
       "      <th>1985</th>\n",
       "      <td>NaN</td>\n",
       "      <td>0.001999</td>\n",
       "      <td>0.002050</td>\n",
       "      <td>0.006738</td>\n",
       "      <td>NaN</td>\n",
       "      <td>0.002100</td>\n",
       "      <td>NaN</td>\n",
       "      <td>0.004164</td>\n",
       "      <td>0.000710</td>\n",
       "      <td>0.002074</td>\n",
       "      <td>...</td>\n",
       "      <td>0.004162</td>\n",
       "      <td>0.001711</td>\n",
       "      <td>0.003414</td>\n",
       "      <td>NaN</td>\n",
       "      <td>NaN</td>\n",
       "      <td>NaN</td>\n",
       "      <td>NaN</td>\n",
       "      <td>NaN</td>\n",
       "      <td>NaN</td>\n",
       "      <td>NaN</td>\n",
       "    </tr>\n",
       "    <tr>\n",
       "      <th>1986</th>\n",
       "      <td>NaN</td>\n",
       "      <td>0.001911</td>\n",
       "      <td>0.003430</td>\n",
       "      <td>0.007474</td>\n",
       "      <td>NaN</td>\n",
       "      <td>0.001758</td>\n",
       "      <td>NaN</td>\n",
       "      <td>0.002514</td>\n",
       "      <td>0.001238</td>\n",
       "      <td>0.002316</td>\n",
       "      <td>...</td>\n",
       "      <td>0.004977</td>\n",
       "      <td>0.001879</td>\n",
       "      <td>0.002661</td>\n",
       "      <td>NaN</td>\n",
       "      <td>NaN</td>\n",
       "      <td>NaN</td>\n",
       "      <td>NaN</td>\n",
       "      <td>NaN</td>\n",
       "      <td>NaN</td>\n",
       "      <td>NaN</td>\n",
       "    </tr>\n",
       "    <tr>\n",
       "      <th>1987</th>\n",
       "      <td>NaN</td>\n",
       "      <td>0.002103</td>\n",
       "      <td>0.003632</td>\n",
       "      <td>0.008563</td>\n",
       "      <td>NaN</td>\n",
       "      <td>0.001932</td>\n",
       "      <td>NaN</td>\n",
       "      <td>0.001469</td>\n",
       "      <td>0.001250</td>\n",
       "      <td>0.002318</td>\n",
       "      <td>...</td>\n",
       "      <td>0.003130</td>\n",
       "      <td>0.002376</td>\n",
       "      <td>0.002130</td>\n",
       "      <td>NaN</td>\n",
       "      <td>NaN</td>\n",
       "      <td>NaN</td>\n",
       "      <td>NaN</td>\n",
       "      <td>NaN</td>\n",
       "      <td>NaN</td>\n",
       "      <td>NaN</td>\n",
       "    </tr>\n",
       "    <tr>\n",
       "      <th>1988</th>\n",
       "      <td>NaN</td>\n",
       "      <td>0.001908</td>\n",
       "      <td>0.003336</td>\n",
       "      <td>0.003977</td>\n",
       "      <td>NaN</td>\n",
       "      <td>0.001696</td>\n",
       "      <td>NaN</td>\n",
       "      <td>0.001915</td>\n",
       "      <td>0.001351</td>\n",
       "      <td>0.002371</td>\n",
       "      <td>...</td>\n",
       "      <td>0.005175</td>\n",
       "      <td>0.001801</td>\n",
       "      <td>0.001386</td>\n",
       "      <td>NaN</td>\n",
       "      <td>NaN</td>\n",
       "      <td>NaN</td>\n",
       "      <td>NaN</td>\n",
       "      <td>NaN</td>\n",
       "      <td>NaN</td>\n",
       "      <td>NaN</td>\n",
       "    </tr>\n",
       "    <tr>\n",
       "      <th>1989</th>\n",
       "      <td>NaN</td>\n",
       "      <td>0.002940</td>\n",
       "      <td>0.004772</td>\n",
       "      <td>0.004999</td>\n",
       "      <td>NaN</td>\n",
       "      <td>0.002157</td>\n",
       "      <td>NaN</td>\n",
       "      <td>0.001267</td>\n",
       "      <td>0.001553</td>\n",
       "      <td>0.002174</td>\n",
       "      <td>...</td>\n",
       "      <td>0.004556</td>\n",
       "      <td>0.001737</td>\n",
       "      <td>0.001287</td>\n",
       "      <td>NaN</td>\n",
       "      <td>NaN</td>\n",
       "      <td>NaN</td>\n",
       "      <td>NaN</td>\n",
       "      <td>NaN</td>\n",
       "      <td>NaN</td>\n",
       "      <td>NaN</td>\n",
       "    </tr>\n",
       "  </tbody>\n",
       "</table>\n",
       "<p>5 rows × 371 columns</p>\n",
       "</div>"
      ],
      "text/plain": [
       "      1101      1102      1103      1104  1105      1106  1107      1108  \\\n",
       "1985   NaN  0.001999  0.002050  0.006738   NaN  0.002100   NaN  0.004164   \n",
       "1986   NaN  0.001911  0.003430  0.007474   NaN  0.001758   NaN  0.002514   \n",
       "1987   NaN  0.002103  0.003632  0.008563   NaN  0.001932   NaN  0.001469   \n",
       "1988   NaN  0.001908  0.003336  0.003977   NaN  0.001696   NaN  0.001915   \n",
       "1989   NaN  0.002940  0.004772  0.004999   NaN  0.002157   NaN  0.001267   \n",
       "\n",
       "          1109      1110  ...      1462      1463      1464  1465  1466  1467  \\\n",
       "1985  0.000710  0.002074  ...  0.004162  0.001711  0.003414   NaN   NaN   NaN   \n",
       "1986  0.001238  0.002316  ...  0.004977  0.001879  0.002661   NaN   NaN   NaN   \n",
       "1987  0.001250  0.002318  ...  0.003130  0.002376  0.002130   NaN   NaN   NaN   \n",
       "1988  0.001351  0.002371  ...  0.005175  0.001801  0.001386   NaN   NaN   NaN   \n",
       "1989  0.001553  0.002174  ...  0.004556  0.001737  0.001287   NaN   NaN   NaN   \n",
       "\n",
       "      1468  1469  1470  1471  \n",
       "1985   NaN   NaN   NaN   NaN  \n",
       "1986   NaN   NaN   NaN   NaN  \n",
       "1987   NaN   NaN   NaN   NaN  \n",
       "1988   NaN   NaN   NaN   NaN  \n",
       "1989   NaN   NaN   NaN   NaN  \n",
       "\n",
       "[5 rows x 371 columns]"
      ]
     },
     "execution_count": 140,
     "metadata": {},
     "output_type": "execute_result"
    }
   ],
   "source": [
    "markov_data.head()"
   ]
  },
  {
   "cell_type": "code",
   "execution_count": 157,
   "metadata": {},
   "outputs": [],
   "source": [
    "## maybe don't need the code below until \"Convert Seeds...\""
   ]
  },
  {
   "cell_type": "code",
   "execution_count": 153,
   "metadata": {},
   "outputs": [
    {
     "ename": "KeyError",
     "evalue": "'Strongseed'",
     "output_type": "error",
     "traceback": [
      "\u001b[0;31m---------------------------------------------------------------------------\u001b[0m",
      "\u001b[0;31mTypeError\u001b[0m                                 Traceback (most recent call last)",
      "\u001b[0;32m/usr/local/lib/python3.7/site-packages/pandas/core/indexes/base.py\u001b[0m in \u001b[0;36mget_value\u001b[0;34m(self, series, key)\u001b[0m\n\u001b[1;32m   4409\u001b[0m             \u001b[0;32mtry\u001b[0m\u001b[0;34m:\u001b[0m\u001b[0;34m\u001b[0m\u001b[0;34m\u001b[0m\u001b[0m\n\u001b[0;32m-> 4410\u001b[0;31m                 \u001b[0;32mreturn\u001b[0m \u001b[0mlibindex\u001b[0m\u001b[0;34m.\u001b[0m\u001b[0mget_value_at\u001b[0m\u001b[0;34m(\u001b[0m\u001b[0ms\u001b[0m\u001b[0;34m,\u001b[0m \u001b[0mkey\u001b[0m\u001b[0;34m)\u001b[0m\u001b[0;34m\u001b[0m\u001b[0;34m\u001b[0m\u001b[0m\n\u001b[0m\u001b[1;32m   4411\u001b[0m             \u001b[0;32mexcept\u001b[0m \u001b[0mIndexError\u001b[0m\u001b[0;34m:\u001b[0m\u001b[0;34m\u001b[0m\u001b[0;34m\u001b[0m\u001b[0m\n",
      "\u001b[0;32mpandas/_libs/index.pyx\u001b[0m in \u001b[0;36mpandas._libs.index.get_value_at\u001b[0;34m()\u001b[0m\n",
      "\u001b[0;32mpandas/_libs/index.pyx\u001b[0m in \u001b[0;36mpandas._libs.index.get_value_at\u001b[0;34m()\u001b[0m\n",
      "\u001b[0;32mpandas/_libs/util.pxd\u001b[0m in \u001b[0;36mpandas._libs.util.get_value_at\u001b[0;34m()\u001b[0m\n",
      "\u001b[0;32mpandas/_libs/util.pxd\u001b[0m in \u001b[0;36mpandas._libs.util.validate_indexer\u001b[0;34m()\u001b[0m\n",
      "\u001b[0;31mTypeError\u001b[0m: 'str' object cannot be interpreted as an integer",
      "\nDuring handling of the above exception, another exception occurred:\n",
      "\u001b[0;31mKeyError\u001b[0m                                  Traceback (most recent call last)",
      "\u001b[0;32m<ipython-input-153-5105d2e48f6e>\u001b[0m in \u001b[0;36m<module>\u001b[0;34m\u001b[0m\n\u001b[1;32m      1\u001b[0m pred, resp = mmg.generate_multiple_years_of_games(range(1987, 2001), seeds_arr, slots_arr, games_arr, \\\n\u001b[1;32m      2\u001b[0m                                                   \u001b[0;34m[\u001b[0m\u001b[0;34m\"min_index_id\"\u001b[0m\u001b[0;34m,\u001b[0m \u001b[0;34m\"max_index_id\"\u001b[0m\u001b[0;34m,\u001b[0m \u001b[0;34m\"markov\"\u001b[0m\u001b[0;34m,\u001b[0m \u001b[0;34m\"dominance\"\u001b[0m\u001b[0;34m,\u001b[0m \u001b[0;34m\"consistency\"\u001b[0m\u001b[0;34m,\u001b[0m \u001b[0;34m\"prev_resul\"\u001b[0m\u001b[0;34m]\u001b[0m\u001b[0;34m,\u001b[0m\u001b[0;31m \u001b[0m\u001b[0;31m \u001b[0m\u001b[0;31m\\\u001b[0m\u001b[0;34m\u001b[0m\u001b[0;34m\u001b[0m\u001b[0m\n\u001b[0;32m----> 3\u001b[0;31m                                                   [markov_data, dominance, consistency, past_resul])\n\u001b[0m",
      "\u001b[0;32m~/Projects/march_madness/march_madness_games.py\u001b[0m in \u001b[0;36mgenerate_multiple_years_of_games\u001b[0;34m(years, seed_list_arr, slot_list_arr, tourney_data_arr, predictors, predictor_dfs, scoring_dif)\u001b[0m\n\u001b[1;32m     38\u001b[0m                                                           \u001b[0mpredictors\u001b[0m\u001b[0;34m,\u001b[0m\u001b[0;34m\u001b[0m\u001b[0;34m\u001b[0m\u001b[0m\n\u001b[1;32m     39\u001b[0m                                                           \u001b[0mpredictor_dfs\u001b[0m\u001b[0;34m,\u001b[0m\u001b[0;34m\u001b[0m\u001b[0;34m\u001b[0m\u001b[0m\n\u001b[0;32m---> 40\u001b[0;31m                                                           scoring_dif=scoring_dif)\n\u001b[0m\u001b[1;32m     41\u001b[0m \u001b[0;34m\u001b[0m\u001b[0m\n\u001b[1;32m     42\u001b[0m         \u001b[0;31m# add to list we are keeping\u001b[0m\u001b[0;34m\u001b[0m\u001b[0;34m\u001b[0m\u001b[0;34m\u001b[0m\u001b[0m\n",
      "\u001b[0;32m~/Projects/march_madness/march_madness_games.py\u001b[0m in \u001b[0;36mgenerate_single_year_of_games\u001b[0;34m(year, seed_list, slot_list, tourney_data, predictors, predictor_dfs, scoring_dif)\u001b[0m\n\u001b[1;32m    146\u001b[0m \u001b[0;32mdef\u001b[0m \u001b[0mgenerate_single_year_of_games\u001b[0m\u001b[0;34m(\u001b[0m\u001b[0myear\u001b[0m\u001b[0;34m,\u001b[0m \u001b[0mseed_list\u001b[0m\u001b[0;34m,\u001b[0m \u001b[0mslot_list\u001b[0m\u001b[0;34m,\u001b[0m \u001b[0mtourney_data\u001b[0m\u001b[0;34m,\u001b[0m \u001b[0mpredictors\u001b[0m\u001b[0;34m,\u001b[0m \u001b[0mpredictor_dfs\u001b[0m\u001b[0;34m,\u001b[0m \u001b[0mscoring_dif\u001b[0m\u001b[0;34m=\u001b[0m\u001b[0;32mFalse\u001b[0m\u001b[0;34m)\u001b[0m\u001b[0;34m:\u001b[0m\u001b[0;34m\u001b[0m\u001b[0;34m\u001b[0m\u001b[0m\n\u001b[1;32m    147\u001b[0m     \u001b[0;31m# get results of the games\u001b[0m\u001b[0;34m\u001b[0m\u001b[0;34m\u001b[0m\u001b[0;34m\u001b[0m\u001b[0m\n\u001b[0;32m--> 148\u001b[0;31m     \u001b[0mtourney_results\u001b[0m \u001b[0;34m=\u001b[0m \u001b[0mget_tourney_results\u001b[0m\u001b[0;34m(\u001b[0m\u001b[0mseed_list\u001b[0m\u001b[0;34m,\u001b[0m \u001b[0mslot_list\u001b[0m\u001b[0;34m,\u001b[0m \u001b[0mtourney_data\u001b[0m\u001b[0;34m,\u001b[0m \u001b[0mscoring_dif\u001b[0m\u001b[0;34m=\u001b[0m\u001b[0mscoring_dif\u001b[0m\u001b[0;34m)\u001b[0m\u001b[0;34m\u001b[0m\u001b[0;34m\u001b[0m\u001b[0m\n\u001b[0m\u001b[1;32m    149\u001b[0m \u001b[0;34m\u001b[0m\u001b[0m\n\u001b[1;32m    150\u001b[0m     \u001b[0;31m# get predictors\u001b[0m\u001b[0;34m\u001b[0m\u001b[0;34m\u001b[0m\u001b[0;34m\u001b[0m\u001b[0m\n",
      "\u001b[0;32m~/Projects/march_madness/march_madness_games.py\u001b[0m in \u001b[0;36mget_tourney_results\u001b[0;34m(seeds, slots, raw_data, scoring_dif)\u001b[0m\n\u001b[1;32m    139\u001b[0m                          \u001b[0mslots\u001b[0m\u001b[0;34m,\u001b[0m\u001b[0;34m\u001b[0m\u001b[0;34m\u001b[0m\u001b[0m\n\u001b[1;32m    140\u001b[0m                          \u001b[0mmmm\u001b[0m\u001b[0;34m.\u001b[0m\u001b[0mActualTournament\u001b[0m\u001b[0;34m(\u001b[0m\u001b[0mraw_data\u001b[0m\u001b[0;34m,\u001b[0m \u001b[0minclude_scoring_dif\u001b[0m\u001b[0;34m=\u001b[0m\u001b[0mscoring_dif\u001b[0m\u001b[0;34m)\u001b[0m\u001b[0;34m,\u001b[0m\u001b[0;34m\u001b[0m\u001b[0;34m\u001b[0m\u001b[0m\n\u001b[0;32m--> 141\u001b[0;31m                          include_scoring_dif=scoring_dif)\n\u001b[0m\u001b[1;32m    142\u001b[0m \u001b[0;34m\u001b[0m\u001b[0m\n\u001b[1;32m    143\u001b[0m     \u001b[0;32mreturn\u001b[0m \u001b[0mtourney\u001b[0m\u001b[0;34m.\u001b[0m\u001b[0mentire_bracket\u001b[0m\u001b[0;34m\u001b[0m\u001b[0;34m\u001b[0m\u001b[0m\n",
      "\u001b[0;32m~/Projects/march_madness/march_madness_classes.py\u001b[0m in \u001b[0;36m__init__\u001b[0;34m(self, seeds, slots, model, include_scoring_dif)\u001b[0m\n\u001b[1;32m     50\u001b[0m             \u001b[0mprint\u001b[0m\u001b[0;34m(\u001b[0m\u001b[0mslot\u001b[0m\u001b[0;34m)\u001b[0m\u001b[0;34m\u001b[0m\u001b[0;34m\u001b[0m\u001b[0m\n\u001b[1;32m     51\u001b[0m \u001b[0;34m\u001b[0m\u001b[0m\n\u001b[0;32m---> 52\u001b[0;31m             \u001b[0;31m# get seeds\u001b[0m\u001b[0;34m\u001b[0m\u001b[0;34m\u001b[0m\u001b[0;34m\u001b[0m\u001b[0m\n\u001b[0m\u001b[1;32m     53\u001b[0m             \u001b[0mteam_1_seed\u001b[0m \u001b[0;34m=\u001b[0m \u001b[0mslot\u001b[0m\u001b[0;34m[\u001b[0m\u001b[0;34m\"StrongSeed\"\u001b[0m\u001b[0;34m]\u001b[0m\u001b[0;34m\u001b[0m\u001b[0;34m\u001b[0m\u001b[0m\n\u001b[1;32m     54\u001b[0m             \u001b[0mteam_2_seed\u001b[0m \u001b[0;34m=\u001b[0m \u001b[0mslot\u001b[0m\u001b[0;34m[\u001b[0m\u001b[0;34m\"WeakSeed\"\u001b[0m\u001b[0;34m]\u001b[0m\u001b[0;34m\u001b[0m\u001b[0;34m\u001b[0m\u001b[0m\n",
      "\u001b[0;32m/usr/local/lib/python3.7/site-packages/pandas/core/series.py\u001b[0m in \u001b[0;36m__getitem__\u001b[0;34m(self, key)\u001b[0m\n\u001b[1;32m    869\u001b[0m         \u001b[0mkey\u001b[0m \u001b[0;34m=\u001b[0m \u001b[0mcom\u001b[0m\u001b[0;34m.\u001b[0m\u001b[0mapply_if_callable\u001b[0m\u001b[0;34m(\u001b[0m\u001b[0mkey\u001b[0m\u001b[0;34m,\u001b[0m \u001b[0mself\u001b[0m\u001b[0;34m)\u001b[0m\u001b[0;34m\u001b[0m\u001b[0;34m\u001b[0m\u001b[0m\n\u001b[1;32m    870\u001b[0m         \u001b[0;32mtry\u001b[0m\u001b[0;34m:\u001b[0m\u001b[0;34m\u001b[0m\u001b[0;34m\u001b[0m\u001b[0m\n\u001b[0;32m--> 871\u001b[0;31m             \u001b[0mresult\u001b[0m \u001b[0;34m=\u001b[0m \u001b[0mself\u001b[0m\u001b[0;34m.\u001b[0m\u001b[0mindex\u001b[0m\u001b[0;34m.\u001b[0m\u001b[0mget_value\u001b[0m\u001b[0;34m(\u001b[0m\u001b[0mself\u001b[0m\u001b[0;34m,\u001b[0m \u001b[0mkey\u001b[0m\u001b[0;34m)\u001b[0m\u001b[0;34m\u001b[0m\u001b[0;34m\u001b[0m\u001b[0m\n\u001b[0m\u001b[1;32m    872\u001b[0m \u001b[0;34m\u001b[0m\u001b[0m\n\u001b[1;32m    873\u001b[0m             \u001b[0;32mif\u001b[0m \u001b[0;32mnot\u001b[0m \u001b[0mis_scalar\u001b[0m\u001b[0;34m(\u001b[0m\u001b[0mresult\u001b[0m\u001b[0;34m)\u001b[0m\u001b[0;34m:\u001b[0m\u001b[0;34m\u001b[0m\u001b[0;34m\u001b[0m\u001b[0m\n",
      "\u001b[0;32m/usr/local/lib/python3.7/site-packages/pandas/core/indexes/base.py\u001b[0m in \u001b[0;36mget_value\u001b[0;34m(self, series, key)\u001b[0m\n\u001b[1;32m   4416\u001b[0m                     \u001b[0;32mraise\u001b[0m \u001b[0mInvalidIndexError\u001b[0m\u001b[0;34m(\u001b[0m\u001b[0mkey\u001b[0m\u001b[0;34m)\u001b[0m\u001b[0;34m\u001b[0m\u001b[0;34m\u001b[0m\u001b[0m\n\u001b[1;32m   4417\u001b[0m                 \u001b[0;32melse\u001b[0m\u001b[0;34m:\u001b[0m\u001b[0;34m\u001b[0m\u001b[0;34m\u001b[0m\u001b[0m\n\u001b[0;32m-> 4418\u001b[0;31m                     \u001b[0;32mraise\u001b[0m \u001b[0me1\u001b[0m\u001b[0;34m\u001b[0m\u001b[0;34m\u001b[0m\u001b[0m\n\u001b[0m\u001b[1;32m   4419\u001b[0m             \u001b[0;32mexcept\u001b[0m \u001b[0mException\u001b[0m\u001b[0;34m:\u001b[0m\u001b[0;34m\u001b[0m\u001b[0;34m\u001b[0m\u001b[0m\n\u001b[1;32m   4420\u001b[0m                 \u001b[0;32mraise\u001b[0m \u001b[0me1\u001b[0m\u001b[0;34m\u001b[0m\u001b[0;34m\u001b[0m\u001b[0m\n",
      "\u001b[0;32m/usr/local/lib/python3.7/site-packages/pandas/core/indexes/base.py\u001b[0m in \u001b[0;36mget_value\u001b[0;34m(self, series, key)\u001b[0m\n\u001b[1;32m   4402\u001b[0m         \u001b[0mk\u001b[0m \u001b[0;34m=\u001b[0m \u001b[0mself\u001b[0m\u001b[0;34m.\u001b[0m\u001b[0m_convert_scalar_indexer\u001b[0m\u001b[0;34m(\u001b[0m\u001b[0mk\u001b[0m\u001b[0;34m,\u001b[0m \u001b[0mkind\u001b[0m\u001b[0;34m=\u001b[0m\u001b[0;34m\"getitem\"\u001b[0m\u001b[0;34m)\u001b[0m\u001b[0;34m\u001b[0m\u001b[0;34m\u001b[0m\u001b[0m\n\u001b[1;32m   4403\u001b[0m         \u001b[0;32mtry\u001b[0m\u001b[0;34m:\u001b[0m\u001b[0;34m\u001b[0m\u001b[0;34m\u001b[0m\u001b[0m\n\u001b[0;32m-> 4404\u001b[0;31m             \u001b[0;32mreturn\u001b[0m \u001b[0mself\u001b[0m\u001b[0;34m.\u001b[0m\u001b[0m_engine\u001b[0m\u001b[0;34m.\u001b[0m\u001b[0mget_value\u001b[0m\u001b[0;34m(\u001b[0m\u001b[0ms\u001b[0m\u001b[0;34m,\u001b[0m \u001b[0mk\u001b[0m\u001b[0;34m,\u001b[0m \u001b[0mtz\u001b[0m\u001b[0;34m=\u001b[0m\u001b[0mgetattr\u001b[0m\u001b[0;34m(\u001b[0m\u001b[0mseries\u001b[0m\u001b[0;34m.\u001b[0m\u001b[0mdtype\u001b[0m\u001b[0;34m,\u001b[0m \u001b[0;34m\"tz\"\u001b[0m\u001b[0;34m,\u001b[0m \u001b[0;32mNone\u001b[0m\u001b[0;34m)\u001b[0m\u001b[0;34m)\u001b[0m\u001b[0;34m\u001b[0m\u001b[0;34m\u001b[0m\u001b[0m\n\u001b[0m\u001b[1;32m   4405\u001b[0m         \u001b[0;32mexcept\u001b[0m \u001b[0mKeyError\u001b[0m \u001b[0;32mas\u001b[0m \u001b[0me1\u001b[0m\u001b[0;34m:\u001b[0m\u001b[0;34m\u001b[0m\u001b[0;34m\u001b[0m\u001b[0m\n\u001b[1;32m   4406\u001b[0m             \u001b[0;32mif\u001b[0m \u001b[0mlen\u001b[0m\u001b[0;34m(\u001b[0m\u001b[0mself\u001b[0m\u001b[0;34m)\u001b[0m \u001b[0;34m>\u001b[0m \u001b[0;36m0\u001b[0m \u001b[0;32mand\u001b[0m \u001b[0;34m(\u001b[0m\u001b[0mself\u001b[0m\u001b[0;34m.\u001b[0m\u001b[0mholds_integer\u001b[0m\u001b[0;34m(\u001b[0m\u001b[0;34m)\u001b[0m \u001b[0;32mor\u001b[0m \u001b[0mself\u001b[0m\u001b[0;34m.\u001b[0m\u001b[0mis_boolean\u001b[0m\u001b[0;34m(\u001b[0m\u001b[0;34m)\u001b[0m\u001b[0;34m)\u001b[0m\u001b[0;34m:\u001b[0m\u001b[0;34m\u001b[0m\u001b[0;34m\u001b[0m\u001b[0m\n",
      "\u001b[0;32mpandas/_libs/index.pyx\u001b[0m in \u001b[0;36mpandas._libs.index.IndexEngine.get_value\u001b[0;34m()\u001b[0m\n",
      "\u001b[0;32mpandas/_libs/index.pyx\u001b[0m in \u001b[0;36mpandas._libs.index.IndexEngine.get_value\u001b[0;34m()\u001b[0m\n",
      "\u001b[0;32mpandas/_libs/index.pyx\u001b[0m in \u001b[0;36mpandas._libs.index.IndexEngine.get_loc\u001b[0;34m()\u001b[0m\n",
      "\u001b[0;32mpandas/_libs/hashtable_class_helper.pxi\u001b[0m in \u001b[0;36mpandas._libs.hashtable.PyObjectHashTable.get_item\u001b[0;34m()\u001b[0m\n",
      "\u001b[0;32mpandas/_libs/hashtable_class_helper.pxi\u001b[0m in \u001b[0;36mpandas._libs.hashtable.PyObjectHashTable.get_item\u001b[0;34m()\u001b[0m\n",
      "\u001b[0;31mKeyError\u001b[0m: 'Strongseed'"
     ]
    }
   ],
   "source": [
    "pred, resp = mmg.generate_multiple_years_of_games(range(1987, 2001), seeds_arr, slots_arr, games_arr, \\\n",
    "                                                  [\"min_index_id\", \"max_index_id\", \"markov\", \"dominance\", \"consistency\", \"prev_resul\"],  \\\n",
    "                                                  [markov_data, dominance, consistency, past_resul])"
   ]
  },
  {
   "cell_type": "code",
   "execution_count": 26,
   "metadata": {},
   "outputs": [
    {
     "ename": "ModuleNotFoundError",
     "evalue": "No module named 'sklearn.cross_validation'",
     "output_type": "error",
     "traceback": [
      "\u001b[0;31m---------------------------------------------------------------------------\u001b[0m",
      "\u001b[0;31mModuleNotFoundError\u001b[0m                       Traceback (most recent call last)",
      "\u001b[0;32m<ipython-input-26-d05cc6ee7707>\u001b[0m in \u001b[0;36m<module>\u001b[0;34m\u001b[0m\n\u001b[0;32m----> 1\u001b[0;31m \u001b[0;32mfrom\u001b[0m \u001b[0msklearn\u001b[0m\u001b[0;34m.\u001b[0m\u001b[0mcross_validation\u001b[0m \u001b[0;32mimport\u001b[0m \u001b[0mtrain_test_split\u001b[0m\u001b[0;34m\u001b[0m\u001b[0;34m\u001b[0m\u001b[0m\n\u001b[0m",
      "\u001b[0;31mModuleNotFoundError\u001b[0m: No module named 'sklearn.cross_validation'"
     ]
    }
   ],
   "source": [
    "from sklearn.cross_validation import train_test_split"
   ]
  },
  {
   "cell_type": "code",
   "execution_count": 27,
   "metadata": {},
   "outputs": [
    {
     "ename": "NameError",
     "evalue": "name 'train_test_split' is not defined",
     "output_type": "error",
     "traceback": [
      "\u001b[0;31m---------------------------------------------------------------------------\u001b[0m",
      "\u001b[0;31mNameError\u001b[0m                                 Traceback (most recent call last)",
      "\u001b[0;32m<ipython-input-27-962b73461476>\u001b[0m in \u001b[0;36m<module>\u001b[0;34m\u001b[0m\n\u001b[0;32m----> 1\u001b[0;31m \u001b[0mtrain_index\u001b[0m\u001b[0;34m,\u001b[0m \u001b[0mcross_index\u001b[0m \u001b[0;34m=\u001b[0m \u001b[0mtrain_test_split\u001b[0m\u001b[0;34m(\u001b[0m\u001b[0mpred\u001b[0m\u001b[0;34m.\u001b[0m\u001b[0mindex\u001b[0m\u001b[0;34m,\u001b[0m \u001b[0mtest_size\u001b[0m \u001b[0;34m=\u001b[0m \u001b[0;36m.25\u001b[0m\u001b[0;34m)\u001b[0m\u001b[0;34m\u001b[0m\u001b[0;34m\u001b[0m\u001b[0m\n\u001b[0m\u001b[1;32m      2\u001b[0m \u001b[0;34m\u001b[0m\u001b[0m\n\u001b[1;32m      3\u001b[0m \u001b[0mtrain_x\u001b[0m \u001b[0;34m=\u001b[0m \u001b[0mpred\u001b[0m\u001b[0;34m.\u001b[0m\u001b[0mloc\u001b[0m\u001b[0;34m[\u001b[0m\u001b[0mtrain_index\u001b[0m\u001b[0;34m]\u001b[0m\u001b[0;34m\u001b[0m\u001b[0;34m\u001b[0m\u001b[0m\n\u001b[1;32m      4\u001b[0m \u001b[0mtrain_y\u001b[0m \u001b[0;34m=\u001b[0m \u001b[0mresp\u001b[0m\u001b[0;34m.\u001b[0m\u001b[0mloc\u001b[0m\u001b[0;34m[\u001b[0m\u001b[0mtrain_index\u001b[0m\u001b[0;34m]\u001b[0m\u001b[0;34m\u001b[0m\u001b[0;34m\u001b[0m\u001b[0m\n\u001b[1;32m      5\u001b[0m \u001b[0mcross_x\u001b[0m \u001b[0;34m=\u001b[0m \u001b[0mpred\u001b[0m\u001b[0;34m.\u001b[0m\u001b[0mloc\u001b[0m\u001b[0;34m[\u001b[0m\u001b[0mcross_index\u001b[0m\u001b[0;34m]\u001b[0m\u001b[0;34m\u001b[0m\u001b[0;34m\u001b[0m\u001b[0m\n",
      "\u001b[0;31mNameError\u001b[0m: name 'train_test_split' is not defined"
     ]
    }
   ],
   "source": [
    "train_index, cross_index = train_test_split(pred.index, test_size = .25)\n",
    "\n",
    "train_x = pred.loc[train_index]\n",
    "train_y = resp.loc[train_index]\n",
    "cross_x = pred.loc[cross_index]\n",
    "cross_y = resp.loc[cross_index]"
   ]
  },
  {
   "cell_type": "code",
   "execution_count": null,
   "metadata": {},
   "outputs": [],
   "source": [
    "scaler = StandardScaler().fit(train_x.iloc[:, 2].reshape(-1,1))\n",
    "\n",
    "model = LogReg(C = 1)\n",
    "model.fit(scaler.transform(train_x.iloc[:, 2].reshape(-1,1)), train_y.values.T[0])\n",
    "model.score(scaler.transform(cross_x.iloc[:, 2].reshape(-1,1)), cross_y)"
   ]
  },
  {
   "cell_type": "code",
   "execution_count": null,
   "metadata": {},
   "outputs": [],
   "source": [
    "scaler = StandardScaler().fit(train_x.iloc[:, 2:])\n",
    "\n",
    "model = LogReg(C = 1)\n",
    "model.fit(scaler.transform(train_x.iloc[:, 2:]), train_y.values.T[0])\n",
    "model.score(scaler.transform(cross_x.iloc[:, 2:]), cross_y)"
   ]
  },
  {
   "cell_type": "code",
   "execution_count": null,
   "metadata": {},
   "outputs": [],
   "source": [
    "model.coef_"
   ]
  },
  {
   "cell_type": "markdown",
   "metadata": {},
   "source": [
    "---"
   ]
  },
  {
   "cell_type": "markdown",
   "metadata": {},
   "source": [
    "---"
   ]
  },
  {
   "cell_type": "markdown",
   "metadata": {},
   "source": [
    "### Convert Seeds to Numeric Matrix"
   ]
  },
  {
   "cell_type": "code",
   "execution_count": 155,
   "metadata": {},
   "outputs": [],
   "source": [
    "# convert seeds arr to numeric value\n",
    "seed_matrix = np.zeros((2021 - 1985 + 1, teams.shape[0]))\n",
    "\n",
    "i = 0\n",
    "for year in range(1985, 2022):\n",
    "    j = 0\n",
    "    for team in teams[\"TeamID\"]:\n",
    "        seeds_in_year_i = seeds_arr[i]\n",
    "        team_seed_in_year_i = seeds_in_year_i.loc[seeds_in_year_i[\"TeamID\"] == team, \"Seed\"]\n",
    "        \n",
    "        seed = np.nan\n",
    "        if len(team_seed_in_year_i.values) != 0:\n",
    "            seed = team_seed_in_year_i.values[0][1:3]\n",
    "    \n",
    "        seed_matrix[i, j] = seed\n",
    "        \n",
    "        j = j + 1\n",
    "        \n",
    "    i = i + 1"
   ]
  },
  {
   "cell_type": "code",
   "execution_count": 156,
   "metadata": {},
   "outputs": [
    {
     "data": {
      "text/plain": [
       "(371, 4)"
      ]
     },
     "execution_count": 156,
     "metadata": {},
     "output_type": "execute_result"
    }
   ],
   "source": [
    "teams.shape"
   ]
  },
  {
   "cell_type": "code",
   "execution_count": 158,
   "metadata": {},
   "outputs": [],
   "source": [
    "seed_matrix_df = pd.DataFrame(data=seed_matrix, columns=past_resul.columns, index=past_resul.index)\n",
    "\n",
    "seed_matrix_df.to_csv(\"datasets/our_data/team_summary_data/seeds_matrix\")"
   ]
  },
  {
   "cell_type": "code",
   "execution_count": 159,
   "metadata": {},
   "outputs": [],
   "source": [
    "seed_matrix_df = pd.read_csv(\"datasets/our_data/team_summary_data/seeds_matrix\", index_col=0)"
   ]
  },
  {
   "cell_type": "markdown",
   "metadata": {},
   "source": [
    "---"
   ]
  },
  {
   "cell_type": "markdown",
   "metadata": {},
   "source": [
    "### Weighted Wins"
   ]
  },
  {
   "cell_type": "code",
   "execution_count": 161,
   "metadata": {
    "scrolled": true
   },
   "outputs": [],
   "source": [
    "# weighted wins = \\sum (wins / seed)\n",
    "weighted_wins_np = np.zeros(seed_matrix_df.shape)\n",
    "\n",
    "i = 0\n",
    "# iterate years\n",
    "for year in range(1985, 2022):\n",
    "    j = 0\n",
    "    # iterate teams\n",
    "    for team in teams[\"TeamID\"]:\n",
    "        # extract games the team won\n",
    "        wins = regular_data[i].loc[regular_data[i][\"WTeamID\"] == team]\n",
    "        \n",
    "        # start with 0\n",
    "        weighted_wins = 0\n",
    "        \n",
    "        # iterate wins\n",
    "        for index, game in wins.iterrows():\n",
    "            l_team = game[\"LTeamID\"]\n",
    "            l_team_seed = seed_matrix_df.loc[year, str(l_team)]\n",
    "        \n",
    "            # if the loser is in the tourney, then add to weighted wins\n",
    "            if ~np.isnan(l_team_seed):\n",
    "                # ww = 1 / (lteam seed)\n",
    "                weighted_wins = weighted_wins + 1./ l_team_seed\n",
    "                \n",
    "        # put into our array\n",
    "        weighted_wins_np[i, j] = weighted_wins\n",
    "        \n",
    "        j = j + 1\n",
    "        \n",
    "    i = i + 1"
   ]
  },
  {
   "cell_type": "code",
   "execution_count": 162,
   "metadata": {},
   "outputs": [],
   "source": [
    "weighted_wins = pd.DataFrame(data=weighted_wins_np, columns=seed_matrix_df.columns, index=seed_matrix_df.index)\n",
    "\n",
    "weighted_wins.to_csv(\"datasets/our_data/weighted_wins\")"
   ]
  },
  {
   "cell_type": "code",
   "execution_count": 163,
   "metadata": {},
   "outputs": [],
   "source": [
    "weighted_wins = pd.read_csv(\"datasets/our_data/weighted_wins\", index_col=0)"
   ]
  },
  {
   "cell_type": "markdown",
   "metadata": {},
   "source": [
    "---"
   ]
  },
  {
   "cell_type": "markdown",
   "metadata": {},
   "source": [
    "### Momentum (Markov * Wins in Last 30 Days)"
   ]
  },
  {
   "cell_type": "code",
   "execution_count": 164,
   "metadata": {},
   "outputs": [
    {
     "data": {
      "text/html": [
       "<div>\n",
       "<style scoped>\n",
       "    .dataframe tbody tr th:only-of-type {\n",
       "        vertical-align: middle;\n",
       "    }\n",
       "\n",
       "    .dataframe tbody tr th {\n",
       "        vertical-align: top;\n",
       "    }\n",
       "\n",
       "    .dataframe thead th {\n",
       "        text-align: right;\n",
       "    }\n",
       "</style>\n",
       "<table border=\"1\" class=\"dataframe\">\n",
       "  <thead>\n",
       "    <tr style=\"text-align: right;\">\n",
       "      <th></th>\n",
       "      <th>Season</th>\n",
       "      <th>DayNum</th>\n",
       "      <th>WTeamID</th>\n",
       "      <th>WScore</th>\n",
       "      <th>LTeamID</th>\n",
       "      <th>LScore</th>\n",
       "      <th>WLoc</th>\n",
       "      <th>NumOT</th>\n",
       "    </tr>\n",
       "  </thead>\n",
       "  <tbody>\n",
       "    <tr>\n",
       "      <th>0</th>\n",
       "      <td>1985</td>\n",
       "      <td>20</td>\n",
       "      <td>1228</td>\n",
       "      <td>81</td>\n",
       "      <td>1328</td>\n",
       "      <td>64</td>\n",
       "      <td>N</td>\n",
       "      <td>0</td>\n",
       "    </tr>\n",
       "    <tr>\n",
       "      <th>1</th>\n",
       "      <td>1985</td>\n",
       "      <td>25</td>\n",
       "      <td>1106</td>\n",
       "      <td>77</td>\n",
       "      <td>1354</td>\n",
       "      <td>70</td>\n",
       "      <td>H</td>\n",
       "      <td>0</td>\n",
       "    </tr>\n",
       "    <tr>\n",
       "      <th>2</th>\n",
       "      <td>1985</td>\n",
       "      <td>25</td>\n",
       "      <td>1112</td>\n",
       "      <td>63</td>\n",
       "      <td>1223</td>\n",
       "      <td>56</td>\n",
       "      <td>H</td>\n",
       "      <td>0</td>\n",
       "    </tr>\n",
       "    <tr>\n",
       "      <th>3</th>\n",
       "      <td>1985</td>\n",
       "      <td>25</td>\n",
       "      <td>1165</td>\n",
       "      <td>70</td>\n",
       "      <td>1432</td>\n",
       "      <td>54</td>\n",
       "      <td>H</td>\n",
       "      <td>0</td>\n",
       "    </tr>\n",
       "    <tr>\n",
       "      <th>4</th>\n",
       "      <td>1985</td>\n",
       "      <td>25</td>\n",
       "      <td>1192</td>\n",
       "      <td>86</td>\n",
       "      <td>1447</td>\n",
       "      <td>74</td>\n",
       "      <td>H</td>\n",
       "      <td>0</td>\n",
       "    </tr>\n",
       "  </tbody>\n",
       "</table>\n",
       "</div>"
      ],
      "text/plain": [
       "   Season  DayNum  WTeamID  WScore  LTeamID  LScore WLoc  NumOT\n",
       "0    1985      20     1228      81     1328      64    N      0\n",
       "1    1985      25     1106      77     1354      70    H      0\n",
       "2    1985      25     1112      63     1223      56    H      0\n",
       "3    1985      25     1165      70     1432      54    H      0\n",
       "4    1985      25     1192      86     1447      74    H      0"
      ]
     },
     "execution_count": 164,
     "metadata": {},
     "output_type": "execute_result"
    }
   ],
   "source": [
    "regular_seasons.head()"
   ]
  },
  {
   "cell_type": "code",
   "execution_count": 165,
   "metadata": {},
   "outputs": [],
   "source": [
    "momentum_np = np.zeros(seed_matrix_df.shape)\n",
    "\n",
    "i = 0\n",
    "# iterate years\n",
    "for year in range(1985, 2022):\n",
    "    j = 0\n",
    "    # iterate teams\n",
    "    for team in teams[\"TeamID\"]:\n",
    "        season = regular_data[i]\n",
    "        \n",
    "        # get the last 30 days of the season\n",
    "        max_day = season[\"DayNum\"].max()\n",
    "        last_month = season[season[\"DayNum\"] >= max_day - 30]\n",
    "        \n",
    "        # wins\n",
    "        wins = last_month[last_month[\"WTeamID\"] == team]\n",
    "        weighted_wins = 0.\n",
    "        \n",
    "        for index, win in wins.iterrows():\n",
    "            l_team = win[\"LTeamID\"]\n",
    "            l_team_pi = markov_data.loc[year, str(l_team)]\n",
    "            \n",
    "            weighted_wins = weighted_wins + l_team_pi\n",
    "        \n",
    "        momentum_np[i, j] = weighted_wins\n",
    "        j = j + 1\n",
    "    i = i + 1"
   ]
  },
  {
   "cell_type": "code",
   "execution_count": 166,
   "metadata": {},
   "outputs": [],
   "source": [
    "momentum = pd.DataFrame(data=momentum_np, columns=seed_matrix_df.columns, index=seed_matrix_df.index)\n",
    "\n",
    "momentum.to_csv(\"datasets/our_data/momentum\")"
   ]
  },
  {
   "cell_type": "code",
   "execution_count": 167,
   "metadata": {},
   "outputs": [],
   "source": [
    "momentum = pd.read_csv(\"datasets/our_data/momentum\", index_col=0)"
   ]
  },
  {
   "cell_type": "markdown",
   "metadata": {},
   "source": [
    "---"
   ]
  },
  {
   "cell_type": "markdown",
   "metadata": {},
   "source": [
    "### Close Win Percentage (OT Wins/ Wins By <= 1 Basket)"
   ]
  },
  {
   "cell_type": "code",
   "execution_count": 169,
   "metadata": {
    "scrolled": true
   },
   "outputs": [
    {
     "name": "stdout",
     "output_type": "stream",
     "text": [
      "1985\n",
      "1986\n",
      "1987\n",
      "1988\n",
      "1989\n",
      "1990\n",
      "1991\n",
      "1992\n",
      "1993\n",
      "1994\n",
      "1995\n",
      "1996\n",
      "1997\n",
      "1998\n",
      "1999\n",
      "2000\n",
      "2001\n",
      "2002\n",
      "2003\n",
      "2004\n",
      "2005\n",
      "2006\n",
      "2007\n",
      "2008\n",
      "2009\n",
      "2010\n",
      "2011\n",
      "2012\n",
      "2013\n",
      "2014\n",
      "2015\n",
      "2016\n",
      "2017\n",
      "2018\n",
      "2019\n",
      "2020\n",
      "2021\n"
     ]
    }
   ],
   "source": [
    "close_wins_np = np.zeros(seed_matrix_df.shape)\n",
    "close_games_np = np.zeros(seed_matrix_df.shape)\n",
    "close_game_win_percetage_np = np.zeros(seed_matrix_df.shape)\n",
    "\n",
    "i = 0\n",
    "# iterate years\n",
    "for year in range(1985, 2022):\n",
    "    j = 0\n",
    "    # iterate teams\n",
    "    for team in teams[\"TeamID\"]:\n",
    "        season = regular_data[i]\n",
    "        \n",
    "        # games \n",
    "        wins = season.loc[season[\"WTeamID\"] == team]\n",
    "        losses = season.loc[season[\"LTeamID\"] == team]\n",
    "        \n",
    "        close_wins = 0.\n",
    "        close_losses = 0.\n",
    "        \n",
    "        # iter wins, count close wins\n",
    "        for index, win in wins.iterrows():\n",
    "            if win[\"WScore\"] - win[\"LScore\"] <= 3:\n",
    "                close_wins = close_wins + 1.\n",
    "            elif win[\"NumOT\"] > 0:\n",
    "                close_wins = close_wins + 1.\n",
    "        \n",
    "        for index, loss in losses.iterrows():\n",
    "            if loss[\"WScore\"] - loss[\"LScore\"] <= 3:\n",
    "                close_losses = close_losses + 1.\n",
    "            elif loss[\"NumOT\"] > 0:\n",
    "                close_losses = close_losses + 1.\n",
    "        \n",
    "        close_wins_np[i, j] = close_wins\n",
    "        close_games_np[i, j] = close_wins + close_losses\n",
    "        \n",
    "        if close_wins > 0:\n",
    "            close_game_win_percetage_np[i,j] = close_wins / (close_wins +  close_losses)\n",
    "             \n",
    "        j = j + 1\n",
    "    print(year)\n",
    "    i = i + 1"
   ]
  },
  {
   "cell_type": "code",
   "execution_count": 170,
   "metadata": {},
   "outputs": [],
   "source": [
    "# save to database\n",
    "close_games = pd.DataFrame(data=close_games_np, columns=seed_matrix_df.columns, index=seed_matrix_df.index)\n",
    "close_games.to_csv(\"datasets/our_data/close_games\")\n",
    "\n",
    "close_wins = pd.DataFrame(data=close_wins_np, columns=seed_matrix_df.columns, index=seed_matrix_df.index)\n",
    "close_wins.to_csv(\"datasets/our_data/close_wins\")\n",
    "\n",
    "close_wins_perc = pd.DataFrame(data=close_game_win_percetage_np, columns=seed_matrix_df.columns, index=seed_matrix_df.index)\n",
    "close_wins_perc.to_csv(\"datasets/our_data/close_wins_perc\")"
   ]
  },
  {
   "cell_type": "code",
   "execution_count": 171,
   "metadata": {},
   "outputs": [],
   "source": [
    "close_games= pd.read_csv(\"datasets/our_data/close_games\", index_col=0)\n",
    "close_wins = pd.read_csv(\"datasets/our_data/close_wins\",index_col=0)\n",
    "close_wins_perc = pd.read_csv(\"datasets/our_data/close_wins_perc\", index_col=0)"
   ]
  },
  {
   "cell_type": "markdown",
   "metadata": {},
   "source": [
    "---"
   ]
  },
  {
   "cell_type": "markdown",
   "metadata": {},
   "source": [
    "### Tempo (Possessions)"
   ]
  },
  {
   "cell_type": "code",
   "execution_count": 172,
   "metadata": {},
   "outputs": [],
   "source": [
    "regular_seasons_detailed = pd.read_csv(\"datasets/kaggle_data_2021/MRegularSeasonDetailedResults.csv\")"
   ]
  },
  {
   "cell_type": "code",
   "execution_count": 173,
   "metadata": {},
   "outputs": [
    {
     "data": {
      "text/plain": [
       "Index(['Season', 'DayNum', 'WTeamID', 'WScore', 'LTeamID', 'LScore', 'WLoc',\n",
       "       'NumOT', 'WFGM', 'WFGA', 'WFGM3', 'WFGA3', 'WFTM', 'WFTA', 'WOR', 'WDR',\n",
       "       'WAst', 'WTO', 'WStl', 'WBlk', 'WPF', 'LFGM', 'LFGA', 'LFGM3', 'LFGA3',\n",
       "       'LFTM', 'LFTA', 'LOR', 'LDR', 'LAst', 'LTO', 'LStl', 'LBlk', 'LPF'],\n",
       "      dtype='object')"
      ]
     },
     "execution_count": 173,
     "metadata": {},
     "output_type": "execute_result"
    }
   ],
   "source": [
    "regular_seasons_detailed.columns"
   ]
  },
  {
   "cell_type": "code",
   "execution_count": 174,
   "metadata": {},
   "outputs": [],
   "source": [
    "regular_detailed = mmg.filter_into_seasons(regular_seasons_detailed)"
   ]
  },
  {
   "cell_type": "code",
   "execution_count": 176,
   "metadata": {
    "scrolled": true
   },
   "outputs": [
    {
     "name": "stdout",
     "output_type": "stream",
     "text": [
      "1985\n",
      "1986\n",
      "1987\n",
      "1988\n",
      "1989\n",
      "1990\n",
      "1991\n",
      "1992\n",
      "1993\n",
      "1994\n",
      "1995\n",
      "1996\n",
      "1997\n",
      "1998\n",
      "1999\n",
      "2000\n",
      "2001\n",
      "2002\n",
      "2003\n",
      "2004\n",
      "2005\n",
      "2006\n",
      "2007\n",
      "2008\n",
      "2009\n",
      "2010\n",
      "2011\n",
      "2012\n",
      "2013\n",
      "2014\n",
      "2015\n",
      "2016\n",
      "2017\n",
      "2018\n",
      "2019\n",
      "2020\n",
      "2021\n"
     ]
    }
   ],
   "source": [
    "tempo_np = np.zeros(seed_matrix_df.shape)\n",
    "tempo_opp_np = np.zeros(seed_matrix_df.shape)\n",
    "\n",
    "i = 0\n",
    "# iterate years\n",
    "for year in range(1985, 2022):\n",
    "    j = 0\n",
    "    # tempo didn't exist before 2003\n",
    "    if year < 2003:\n",
    "        tempo_np[i, :] = np.nan\n",
    "        tempo_opp_np[i,:] =np.nan\n",
    "    else:\n",
    "        # iterate teams\n",
    "        for team in teams[\"TeamID\"]:\n",
    "            season = regular_detailed[i - (2003 - 1985)]\n",
    "\n",
    "            # games \n",
    "            wins = season.loc[season[\"WTeamID\"] == team]\n",
    "            losses = season.loc[season[\"LTeamID\"] == team]\n",
    "\n",
    "            possessions = 0.\n",
    "            possessions_opp = 0.\n",
    "            \n",
    "            # iterate wins\n",
    "            for index, win in wins.iterrows():\n",
    "                # possessions ~ field goal attempts - offensive rebounds + turnovers + .475 * free throw attempts\n",
    "                possessions = possessions + win['WFGA'] - win['WOR'] + win['WTO'] + .475 * win['WFTA']\n",
    "                possessions_opp = possessions_opp + win['LFGA'] - win['LOR'] + win['LTO'] + .475 * win['LFTA']\n",
    "                \n",
    "            # iterate losses\n",
    "            for index, loss in losses.iterrows():\n",
    "                # possessions ~ field goal attempts - offensive rebounds + turnovers + .475 * free throw attempts\n",
    "                possessions = possessions + loss['LFGA'] - loss['LOR'] + loss['LTO'] + .475 * loss['LFTA']\n",
    "                possessions_opp = possessions_opp + loss['WFGA'] - loss['WOR'] + loss['WTO'] + .475 * loss['WFTA']\n",
    "                \n",
    "            # update the buffer\n",
    "            if possessions == 0.:\n",
    "                tempo_np[i,j] = np.nan\n",
    "                tempo_opp_np[i,j] = np.nan\n",
    "            else:\n",
    "                tempo_np[i, j] = possessions\n",
    "                tempo_opp_np[i,j] = possessions_opp\n",
    "            \n",
    "            j = j + 1\n",
    "    i = i + 1\n",
    "    print(year)"
   ]
  },
  {
   "cell_type": "code",
   "execution_count": 177,
   "metadata": {},
   "outputs": [],
   "source": [
    "tempo = pd.DataFrame(data=tempo_np, columns=seed_matrix_df.columns, index=seed_matrix_df.index)\n",
    "tempo.to_csv(\"datasets/our_data/tempo\")\n",
    "\n",
    "tempo_opp = pd.DataFrame(data=tempo_opp_np, columns=seed_matrix_df.columns, index=seed_matrix_df.index)\n",
    "tempo_opp.to_csv(\"datasets/our_data/tempo_opp\")"
   ]
  },
  {
   "cell_type": "code",
   "execution_count": 178,
   "metadata": {},
   "outputs": [],
   "source": [
    "tempo = pd.read_csv(\"datasets/our_data/tempo\", index_col=0)\n",
    "tempo_opp = pd.read_csv(\"datasets/our_data/tempo_opp\", index_col=0)"
   ]
  },
  {
   "cell_type": "markdown",
   "metadata": {},
   "source": [
    "---"
   ]
  },
  {
   "cell_type": "markdown",
   "metadata": {},
   "source": [
    "### Points For/Points Against/Win Ratio/Luck"
   ]
  },
  {
   "cell_type": "code",
   "execution_count": 190,
   "metadata": {
    "scrolled": true
   },
   "outputs": [
    {
     "name": "stdout",
     "output_type": "stream",
     "text": [
      "1985\n",
      "1986\n",
      "1987\n",
      "1988\n",
      "1989\n",
      "1990\n",
      "1991\n",
      "1992\n",
      "1993\n",
      "1994\n",
      "1995\n",
      "1996\n",
      "1997\n",
      "1998\n",
      "1999\n",
      "2000\n",
      "2001\n",
      "2002\n",
      "2003\n",
      "2004\n",
      "2005\n",
      "2006\n",
      "2007\n",
      "2008\n",
      "2009\n",
      "2010\n",
      "2011\n",
      "2012\n",
      "2013\n",
      "2014\n",
      "2015\n",
      "2016\n",
      "2017\n",
      "2018\n",
      "2019\n",
      "2020\n",
      "2021\n"
     ]
    }
   ],
   "source": [
    "points_for_np = np.zeros(seed_matrix_df.shape)\n",
    "points_against_np = np.zeros(seed_matrix_df.shape)\n",
    "i = 0\n",
    "# iterate years\n",
    "for year in range(1985, 2022):\n",
    "    j = 0\n",
    "    \n",
    "    # iterate teams\n",
    "    for team in teams[\"TeamID\"]:\n",
    "        season = regular_data[i]\n",
    "\n",
    "        # games \n",
    "        wins = season.loc[season[\"WTeamID\"] == team]\n",
    "        losses = season.loc[season[\"LTeamID\"] == team]\n",
    "\n",
    "        points_for = 0.\n",
    "        points_against = 0.\n",
    "\n",
    "        # iterate wins\n",
    "        for index, win in wins.iterrows():\n",
    "            # sum points\n",
    "            points_for = points_for + win[\"WScore\"]\n",
    "            points_against = points_against + win[\"LScore\"]\n",
    "\n",
    "        # iterate losses\n",
    "        for index, loss in losses.iterrows():\n",
    "            # sum points\n",
    "            points_for = points_for + loss[\"LScore\"]\n",
    "            points_against = points_against + loss[\"WScore\"]\n",
    "\n",
    "        # update the buffer\n",
    "        if points_for == 0.:\n",
    "            points_for_np[i,j] = np.nan\n",
    "            points_against_np[i,j] = np.nan\n",
    "        else:\n",
    "            points_for_np[i,j] = points_for\n",
    "            points_against_np[i,j] = points_against\n",
    "\n",
    "        j = j + 1\n",
    "    i = i + 1\n",
    "    print(year)"
   ]
  },
  {
   "cell_type": "code",
   "execution_count": 191,
   "metadata": {},
   "outputs": [],
   "source": [
    "points_for = pd.DataFrame(data=points_for_np, columns=seed_matrix_df.columns, index=seed_matrix_df.index)\n",
    "points_for.to_csv(\"datasets/our_data/points_for\")\n",
    "\n",
    "points_against = pd.DataFrame(data=points_against_np, columns=seed_matrix_df.columns, index=seed_matrix_df.index)\n",
    "points_against.to_csv(\"datasets/our_data/points_against\")"
   ]
  },
  {
   "cell_type": "code",
   "execution_count": 192,
   "metadata": {},
   "outputs": [],
   "source": [
    "# Pythagorean Expectation\n",
    "win_ratio_np = (points_for_np ** 11.5) / (points_for_np ** 11.5 + points_against_np ** 11.5)\n",
    "\n",
    "win_ratio = pd.DataFrame(data=win_ratio_np, columns=seed_matrix_df.columns, index=seed_matrix_df.index)\n",
    "win_ratio.to_csv(\"datasets/our_data/win_ratio\")"
   ]
  },
  {
   "cell_type": "code",
   "execution_count": 193,
   "metadata": {},
   "outputs": [],
   "source": [
    "points_for = pd.read_csv(\"datasets/our_data/points_for\", index_col=0)\n",
    "points_against = pd.read_csv(\"datasets/our_data/points_against\", index_col=0)\n",
    "win_ratio = pd.read_csv(\"datasets/our_data/win_ratio\", index_col=0)\n",
    "games = pd.read_csv(\"datasets/our_data/team_summary_data/games_matrix\", index_col=0)\n",
    "wins = pd.read_csv(\"datasets/our_data/team_summary_data/regular_season_wins\", index_col=0)"
   ]
  },
  {
   "cell_type": "code",
   "execution_count": 194,
   "metadata": {},
   "outputs": [],
   "source": [
    "# wins - expected wins\n",
    "luck = wins - win_ratio * games"
   ]
  },
  {
   "cell_type": "markdown",
   "metadata": {},
   "source": [
    "---"
   ]
  },
  {
   "cell_type": "markdown",
   "metadata": {},
   "source": [
    "### Offensive and Defensive Efficiency"
   ]
  },
  {
   "cell_type": "code",
   "execution_count": 195,
   "metadata": {},
   "outputs": [],
   "source": [
    "# ppp = total points for / total possessions\n",
    "points_per_possesion_np = points_for_np / tempo_np\n",
    "points_per_possesion_opp_np = points_against_np / tempo_opp_np"
   ]
  },
  {
   "cell_type": "code",
   "execution_count": 196,
   "metadata": {},
   "outputs": [],
   "source": [
    "off_eff = pd.DataFrame(data=points_per_possesion_np, columns=seed_matrix_df.columns, index=seed_matrix_df.index)\n",
    "off_eff.to_csv(\"datasets/our_data/off_eff\")\n",
    "\n",
    "def_eff = pd.DataFrame(data=points_per_possesion_opp_np, columns=seed_matrix_df.columns, index=seed_matrix_df.index)\n",
    "def_eff.to_csv(\"datasets/our_data/def_eff\")"
   ]
  },
  {
   "cell_type": "code",
   "execution_count": 197,
   "metadata": {},
   "outputs": [],
   "source": [
    "off_eff = pd.read_csv(\"datasets/our_data/off_eff\", index_col=0)\n",
    "def_eff = pd.read_csv(\"datasets/our_data/def_eff\", index_col=0)"
   ]
  },
  {
   "cell_type": "markdown",
   "metadata": {},
   "source": [
    "---"
   ]
  },
  {
   "cell_type": "markdown",
   "metadata": {},
   "source": [
    "### Adj Offensive And Defensive Efficiency"
   ]
  },
  {
   "cell_type": "markdown",
   "metadata": {},
   "source": [
    "We will use an itertive process to find this.\n",
    "\n",
    "Adj Off Eff = Mean Def Eff + Deviation\n",
    "\n",
    "Adj Def Eff = Mean Off Eff + Deviation\n",
    "\n",
    "Deviation = Sum_i = actual_ppp - opponent_def_ppp"
   ]
  },
  {
   "cell_type": "code",
   "execution_count": 198,
   "metadata": {},
   "outputs": [],
   "source": [
    "mean_off_eff_start = off_eff.mean(axis =1).values\n",
    "mean_def_eff_start = def_eff.mean(axis =1).values"
   ]
  },
  {
   "cell_type": "code",
   "execution_count": 199,
   "metadata": {},
   "outputs": [
    {
     "name": "stdout",
     "output_type": "stream",
     "text": [
      "2003\n",
      "2004\n",
      "2005\n",
      "2006\n",
      "2007\n",
      "2008\n",
      "2009\n",
      "2010\n",
      "2011\n",
      "2012\n",
      "2013\n",
      "2014\n",
      "2015\n",
      "2016\n",
      "2017\n",
      "2018\n",
      "2019\n",
      "2020\n",
      "2021\n"
     ]
    }
   ],
   "source": [
    "# sums of the deviations\n",
    "dev_off_np = np.zeros(seed_matrix_df.shape)\n",
    "dev_def_np = np.zeros(seed_matrix_df.shape)\n",
    "\n",
    "i = 0\n",
    "# iterate years\n",
    "for year in range(1985, 2022):\n",
    "    if year < 2003:\n",
    "        dev_off_np[i, :] = np.nan\n",
    "        dev_def_np[i,:] =np.nan\n",
    "        i = i + 1\n",
    "    else:        \n",
    "        j = 0\n",
    "        # iterate teams\n",
    "        for team in teams[\"TeamID\"]:\n",
    "            season = regular_detailed[i - (2003 - 1985)]\n",
    "\n",
    "            # games \n",
    "            wins = season.loc[season[\"WTeamID\"] == team]\n",
    "            losses = season.loc[season[\"LTeamID\"] == team]\n",
    "\n",
    "            deviation_off = 0.\n",
    "            deviation_def = 0.    \n",
    "\n",
    "            # iterate wins\n",
    "            for index, win in wins.iterrows():\n",
    "                # get other team if\n",
    "                other_team = str(win[\"LTeamID\"])\n",
    "\n",
    "                # points for and againsts\n",
    "                points_for = win[\"WScore\"]\n",
    "                points_against = win[\"LScore\"]\n",
    "\n",
    "                # possessions\n",
    "                possessions = win['WFGA'] - win['WOR'] + win['WTO'] + .475 * win['WFTA']\n",
    "                possessions_op = win['LFGA'] - win['LOR'] + win['LTO'] + .475 * win['LFTA']\n",
    "\n",
    "                # points per possession\n",
    "                ppp = points_for / possessions\n",
    "                ppp_op = points_for / possessions\n",
    "\n",
    "                # dev_i = actual ppp - opponent_def_eff\n",
    "                deviation_off = deviation_off + ppp - def_eff.loc[year, other_team]\n",
    "\n",
    "                # dev_i = actual ppp - opponent_off_eff\n",
    "                deviation_def = deviation_def + ppp_op - off_eff.loc[year, other_team]\n",
    "\n",
    "            # iterate losses\n",
    "            for index, loss in losses.iterrows():\n",
    "                # get other team if\n",
    "                other_team = str(loss[\"WTeamID\"])\n",
    "\n",
    "                # points for and againsts\n",
    "                points_for = loss[\"LScore\"]\n",
    "                points_against = loss[\"WScore\"]\n",
    "\n",
    "                # possessions\n",
    "                possessions = loss['LFGA'] - loss['LOR'] + loss['LTO'] + .475 * loss['LFTA']\n",
    "                possessions_op = loss['WFGA'] - loss['WOR'] + loss['WTO'] + .475 * loss['WFTA']\n",
    "\n",
    "                # points per possession\n",
    "                ppp = points_for / possessions\n",
    "                ppp_op = points_for / possessions\n",
    "\n",
    "                # dev_i = actual ppp - opponent_def_eff\n",
    "                deviation_off = deviation_off + ppp - def_eff.loc[year, other_team]\n",
    "\n",
    "                # dev_i = actual ppp - opponent_off_eff\n",
    "                deviation_def = deviation_def + ppp_op - off_eff.loc[year, other_team]\n",
    "\n",
    "            # update the buffer\n",
    "            if wins.shape[0] + losses.shape[0] == 0:\n",
    "                dev_off_np[i,j] = np.nan\n",
    "                dev_def_np[i,j] = np.nan\n",
    "            else:\n",
    "                dev_off_np[i,j] = deviation_off\n",
    "                dev_off_np[i,j] = deviation_def\n",
    "\n",
    "            j = j + 1\n",
    "        i = i + 1\n",
    "        print(year)"
   ]
  },
  {
   "cell_type": "code",
   "execution_count": 200,
   "metadata": {},
   "outputs": [
    {
     "data": {
      "text/plain": [
       "array([[        nan,         nan,         nan, ...,         nan,\n",
       "                nan,         nan],\n",
       "       [        nan,         nan,         nan, ...,         nan,\n",
       "                nan,         nan],\n",
       "       [        nan,         nan,         nan, ...,         nan,\n",
       "                nan,         nan],\n",
       "       ...,\n",
       "       [ 2.11843207, -1.20034863, -1.5610791 , ...,         nan,\n",
       "                nan,         nan],\n",
       "       [ 0.46463284,  0.70006535,  1.90902322, ...,         nan,\n",
       "                nan,         nan],\n",
       "       [ 1.93546791, -1.86434512,  0.76825779, ..., -1.9481178 ,\n",
       "        -0.59667459, -0.60037378]])"
      ]
     },
     "execution_count": 200,
     "metadata": {},
     "output_type": "execute_result"
    }
   ],
   "source": [
    "dev_off_np"
   ]
  },
  {
   "cell_type": "code",
   "execution_count": 201,
   "metadata": {},
   "outputs": [],
   "source": [
    "adj_off_eff = np.zeros(dev_off_np.shape)\n",
    "for i in range(dev_off_np.shape[0]):\n",
    "    adj_off_eff[i, :] = dev_off_np[i, :] + mean_def_eff_start[i]"
   ]
  },
  {
   "cell_type": "code",
   "execution_count": 202,
   "metadata": {},
   "outputs": [
    {
     "data": {
      "text/plain": [
       "array([[        nan,         nan,         nan, ...,         nan,\n",
       "                nan,         nan],\n",
       "       [        nan,         nan,         nan, ...,         nan,\n",
       "                nan,         nan],\n",
       "       [        nan,         nan,         nan, ...,         nan,\n",
       "                nan,         nan],\n",
       "       ...,\n",
       "       [ 3.15037124, -0.16840946, -0.52913994, ...,         nan,\n",
       "                nan,         nan],\n",
       "       [ 1.47250569,  1.7079382 ,  2.91689607, ...,         nan,\n",
       "                nan,         nan],\n",
       "       [ 2.93828787, -0.86152516,  1.77107775, ..., -0.94529785,\n",
       "         0.40614537,  0.40244618]])"
      ]
     },
     "execution_count": 202,
     "metadata": {},
     "output_type": "execute_result"
    }
   ],
   "source": [
    "adj_off_eff"
   ]
  },
  {
   "cell_type": "code",
   "execution_count": 203,
   "metadata": {},
   "outputs": [
    {
     "data": {
      "text/plain": [
       "array([       nan,        nan,        nan,        nan,        nan,\n",
       "              nan,        nan,        nan,        nan,        nan,\n",
       "              nan,        nan,        nan,        nan,        nan,\n",
       "              nan,        nan,        nan, 1.0110884 , 1.00592829,\n",
       "       1.00843796, 1.0120837 , 1.01682775, 1.0153275 , 1.01090295,\n",
       "       1.01314026, 1.01711846, 1.01198424, 1.006411  , 1.04602004,\n",
       "       1.02107021, 1.03753823, 1.0366957 , 1.04274647, 1.03193917,\n",
       "       1.00787285, 1.00281996])"
      ]
     },
     "execution_count": 203,
     "metadata": {},
     "output_type": "execute_result"
    }
   ],
   "source": [
    "mean_def_eff_start"
   ]
  },
  {
   "cell_type": "markdown",
   "metadata": {},
   "source": [
    "---"
   ]
  },
  {
   "cell_type": "markdown",
   "metadata": {},
   "source": [
    "### Extract Predictors from Original Data Exploration"
   ]
  },
  {
   "cell_type": "code",
   "execution_count": 204,
   "metadata": {},
   "outputs": [],
   "source": [
    "rpi = pd.read_csv(\"datasets/our_data/rpi\", index_col=0)\n",
    "bad_losses = pd.read_csv(\"datasets/our_data/bad_losses\", index_col=0)\n",
    "tough_wins = pd.read_csv(\"datasets/our_data/tough_wins\", index_col=0)"
   ]
  },
  {
   "cell_type": "markdown",
   "metadata": {},
   "source": [
    "### Model Head to Head Wins"
   ]
  },
  {
   "cell_type": "code",
   "execution_count": 206,
   "metadata": {},
   "outputs": [],
   "source": [
    "from sklearn.model_selection import train_test_split\n",
    "from sklearn.model_selection import KFold"
   ]
  },
  {
   "cell_type": "code",
   "execution_count": 208,
   "metadata": {
    "scrolled": false
   },
   "outputs": [
    {
     "ename": "KeyError",
     "evalue": "'Strongseed'",
     "output_type": "error",
     "traceback": [
      "\u001b[0;31m---------------------------------------------------------------------------\u001b[0m",
      "\u001b[0;31mTypeError\u001b[0m                                 Traceback (most recent call last)",
      "\u001b[0;32m/usr/local/lib/python3.7/site-packages/pandas/core/indexes/base.py\u001b[0m in \u001b[0;36mget_value\u001b[0;34m(self, series, key)\u001b[0m\n\u001b[1;32m   4409\u001b[0m             \u001b[0;32mtry\u001b[0m\u001b[0;34m:\u001b[0m\u001b[0;34m\u001b[0m\u001b[0;34m\u001b[0m\u001b[0m\n\u001b[0;32m-> 4410\u001b[0;31m                 \u001b[0;32mreturn\u001b[0m \u001b[0mlibindex\u001b[0m\u001b[0;34m.\u001b[0m\u001b[0mget_value_at\u001b[0m\u001b[0;34m(\u001b[0m\u001b[0ms\u001b[0m\u001b[0;34m,\u001b[0m \u001b[0mkey\u001b[0m\u001b[0;34m)\u001b[0m\u001b[0;34m\u001b[0m\u001b[0;34m\u001b[0m\u001b[0m\n\u001b[0m\u001b[1;32m   4411\u001b[0m             \u001b[0;32mexcept\u001b[0m \u001b[0mIndexError\u001b[0m\u001b[0;34m:\u001b[0m\u001b[0;34m\u001b[0m\u001b[0;34m\u001b[0m\u001b[0m\n",
      "\u001b[0;32mpandas/_libs/index.pyx\u001b[0m in \u001b[0;36mpandas._libs.index.get_value_at\u001b[0;34m()\u001b[0m\n",
      "\u001b[0;32mpandas/_libs/index.pyx\u001b[0m in \u001b[0;36mpandas._libs.index.get_value_at\u001b[0;34m()\u001b[0m\n",
      "\u001b[0;32mpandas/_libs/util.pxd\u001b[0m in \u001b[0;36mpandas._libs.util.get_value_at\u001b[0;34m()\u001b[0m\n",
      "\u001b[0;32mpandas/_libs/util.pxd\u001b[0m in \u001b[0;36mpandas._libs.util.validate_indexer\u001b[0;34m()\u001b[0m\n",
      "\u001b[0;31mTypeError\u001b[0m: 'str' object cannot be interpreted as an integer",
      "\nDuring handling of the above exception, another exception occurred:\n",
      "\u001b[0;31mKeyError\u001b[0m                                  Traceback (most recent call last)",
      "\u001b[0;32m<ipython-input-208-5316ad26c196>\u001b[0m in \u001b[0;36m<module>\u001b[0;34m\u001b[0m\n\u001b[1;32m      4\u001b[0m                                                   \u001b[0mgames_arr\u001b[0m\u001b[0;34m,\u001b[0m\u001b[0;34m\u001b[0m\u001b[0;34m\u001b[0m\u001b[0m\n\u001b[1;32m      5\u001b[0m                                                   \u001b[0;34m[\u001b[0m\u001b[0;34m\"min_index_id\"\u001b[0m\u001b[0;34m,\u001b[0m \u001b[0;34m\"max_index_id\"\u001b[0m\u001b[0;34m,\u001b[0m \u001b[0;34m\"markov\"\u001b[0m\u001b[0;34m,\u001b[0m \u001b[0;34m\"dominance\"\u001b[0m\u001b[0;34m,\u001b[0m \u001b[0;34m\"rpi\"\u001b[0m\u001b[0;34m,\u001b[0m \u001b[0;34m\"bad_losses\"\u001b[0m\u001b[0;34m,\u001b[0m \u001b[0;34m\"tough_wins\"\u001b[0m\u001b[0;34m,\u001b[0m \u001b[0;34m\"close_wins\"\u001b[0m\u001b[0;34m,\u001b[0m \u001b[0;34m\"close_wins_perc\"\u001b[0m\u001b[0;34m,\u001b[0m \u001b[0;34m\"weighted_wins\"\u001b[0m\u001b[0;34m,\u001b[0m \u001b[0;34m\"past_resul\"\u001b[0m\u001b[0;34m,\u001b[0m \u001b[0;34m\"momentum\"\u001b[0m\u001b[0;34m,\u001b[0m \u001b[0;34m\"tempo\"\u001b[0m\u001b[0;34m,\u001b[0m \u001b[0;34m\"off_eff\"\u001b[0m\u001b[0;34m,\u001b[0m \u001b[0;34m\"def_eff\"\u001b[0m\u001b[0;34m,\u001b[0m \u001b[0;34m\"luck\"\u001b[0m\u001b[0;34m]\u001b[0m\u001b[0;34m,\u001b[0m\u001b[0;34m\u001b[0m\u001b[0;34m\u001b[0m\u001b[0m\n\u001b[0;32m----> 6\u001b[0;31m                                                   \u001b[0;34m[\u001b[0m\u001b[0mmarkov_data\u001b[0m\u001b[0;34m,\u001b[0m \u001b[0mdominance\u001b[0m\u001b[0;34m,\u001b[0m \u001b[0mrpi\u001b[0m\u001b[0;34m,\u001b[0m \u001b[0mbad_losses\u001b[0m\u001b[0;34m,\u001b[0m \u001b[0mtough_wins\u001b[0m\u001b[0;34m,\u001b[0m \u001b[0mclose_wins\u001b[0m\u001b[0;34m,\u001b[0m \u001b[0mclose_wins_perc\u001b[0m\u001b[0;34m,\u001b[0m \u001b[0mweighted_wins\u001b[0m\u001b[0;34m,\u001b[0m \u001b[0mpast_resul\u001b[0m\u001b[0;34m,\u001b[0m \u001b[0mmomentum\u001b[0m\u001b[0;34m,\u001b[0m \u001b[0mtempo\u001b[0m\u001b[0;34m,\u001b[0m \u001b[0moff_eff\u001b[0m\u001b[0;34m,\u001b[0m \u001b[0mdef_eff\u001b[0m\u001b[0;34m,\u001b[0m \u001b[0mluck\u001b[0m\u001b[0;34m]\u001b[0m\u001b[0;34m,\u001b[0m\u001b[0;34m\u001b[0m\u001b[0;34m\u001b[0m\u001b[0m\n\u001b[0m\u001b[1;32m      7\u001b[0m                                                   )\n",
      "\u001b[0;32m~/Projects/march_madness/march_madness_games.py\u001b[0m in \u001b[0;36mgenerate_multiple_years_of_games\u001b[0;34m(years, seed_list_arr, slot_list_arr, tourney_data_arr, predictors, predictor_dfs, scoring_dif)\u001b[0m\n\u001b[1;32m     38\u001b[0m                                                           \u001b[0mpredictors\u001b[0m\u001b[0;34m,\u001b[0m\u001b[0;34m\u001b[0m\u001b[0;34m\u001b[0m\u001b[0m\n\u001b[1;32m     39\u001b[0m                                                           \u001b[0mpredictor_dfs\u001b[0m\u001b[0;34m,\u001b[0m\u001b[0;34m\u001b[0m\u001b[0;34m\u001b[0m\u001b[0m\n\u001b[0;32m---> 40\u001b[0;31m                                                           scoring_dif=scoring_dif)\n\u001b[0m\u001b[1;32m     41\u001b[0m \u001b[0;34m\u001b[0m\u001b[0m\n\u001b[1;32m     42\u001b[0m         \u001b[0;31m# add to list we are keeping\u001b[0m\u001b[0;34m\u001b[0m\u001b[0;34m\u001b[0m\u001b[0;34m\u001b[0m\u001b[0m\n",
      "\u001b[0;32m~/Projects/march_madness/march_madness_games.py\u001b[0m in \u001b[0;36mgenerate_single_year_of_games\u001b[0;34m(year, seed_list, slot_list, tourney_data, predictors, predictor_dfs, scoring_dif)\u001b[0m\n\u001b[1;32m    146\u001b[0m \u001b[0;32mdef\u001b[0m \u001b[0mgenerate_single_year_of_games\u001b[0m\u001b[0;34m(\u001b[0m\u001b[0myear\u001b[0m\u001b[0;34m,\u001b[0m \u001b[0mseed_list\u001b[0m\u001b[0;34m,\u001b[0m \u001b[0mslot_list\u001b[0m\u001b[0;34m,\u001b[0m \u001b[0mtourney_data\u001b[0m\u001b[0;34m,\u001b[0m \u001b[0mpredictors\u001b[0m\u001b[0;34m,\u001b[0m \u001b[0mpredictor_dfs\u001b[0m\u001b[0;34m,\u001b[0m \u001b[0mscoring_dif\u001b[0m\u001b[0;34m=\u001b[0m\u001b[0;32mFalse\u001b[0m\u001b[0;34m)\u001b[0m\u001b[0;34m:\u001b[0m\u001b[0;34m\u001b[0m\u001b[0;34m\u001b[0m\u001b[0m\n\u001b[1;32m    147\u001b[0m     \u001b[0;31m# get results of the games\u001b[0m\u001b[0;34m\u001b[0m\u001b[0;34m\u001b[0m\u001b[0;34m\u001b[0m\u001b[0m\n\u001b[0;32m--> 148\u001b[0;31m     \u001b[0mtourney_results\u001b[0m \u001b[0;34m=\u001b[0m \u001b[0mget_tourney_results\u001b[0m\u001b[0;34m(\u001b[0m\u001b[0mseed_list\u001b[0m\u001b[0;34m,\u001b[0m \u001b[0mslot_list\u001b[0m\u001b[0;34m,\u001b[0m \u001b[0mtourney_data\u001b[0m\u001b[0;34m,\u001b[0m \u001b[0mscoring_dif\u001b[0m\u001b[0;34m=\u001b[0m\u001b[0mscoring_dif\u001b[0m\u001b[0;34m)\u001b[0m\u001b[0;34m\u001b[0m\u001b[0;34m\u001b[0m\u001b[0m\n\u001b[0m\u001b[1;32m    149\u001b[0m \u001b[0;34m\u001b[0m\u001b[0m\n\u001b[1;32m    150\u001b[0m     \u001b[0;31m# get predictors\u001b[0m\u001b[0;34m\u001b[0m\u001b[0;34m\u001b[0m\u001b[0;34m\u001b[0m\u001b[0m\n",
      "\u001b[0;32m~/Projects/march_madness/march_madness_games.py\u001b[0m in \u001b[0;36mget_tourney_results\u001b[0;34m(seeds, slots, raw_data, scoring_dif)\u001b[0m\n\u001b[1;32m    139\u001b[0m                          \u001b[0mslots\u001b[0m\u001b[0;34m,\u001b[0m\u001b[0;34m\u001b[0m\u001b[0;34m\u001b[0m\u001b[0m\n\u001b[1;32m    140\u001b[0m                          \u001b[0mmmm\u001b[0m\u001b[0;34m.\u001b[0m\u001b[0mActualTournament\u001b[0m\u001b[0;34m(\u001b[0m\u001b[0mraw_data\u001b[0m\u001b[0;34m,\u001b[0m \u001b[0minclude_scoring_dif\u001b[0m\u001b[0;34m=\u001b[0m\u001b[0mscoring_dif\u001b[0m\u001b[0;34m)\u001b[0m\u001b[0;34m,\u001b[0m\u001b[0;34m\u001b[0m\u001b[0;34m\u001b[0m\u001b[0m\n\u001b[0;32m--> 141\u001b[0;31m                          include_scoring_dif=scoring_dif)\n\u001b[0m\u001b[1;32m    142\u001b[0m \u001b[0;34m\u001b[0m\u001b[0m\n\u001b[1;32m    143\u001b[0m     \u001b[0;32mreturn\u001b[0m \u001b[0mtourney\u001b[0m\u001b[0;34m.\u001b[0m\u001b[0mentire_bracket\u001b[0m\u001b[0;34m\u001b[0m\u001b[0;34m\u001b[0m\u001b[0m\n",
      "\u001b[0;32m~/Projects/march_madness/march_madness_classes.py\u001b[0m in \u001b[0;36m__init__\u001b[0;34m(self, seeds, slots, model, include_scoring_dif)\u001b[0m\n\u001b[1;32m     50\u001b[0m             \u001b[0mprint\u001b[0m\u001b[0;34m(\u001b[0m\u001b[0mslot\u001b[0m\u001b[0;34m)\u001b[0m\u001b[0;34m\u001b[0m\u001b[0;34m\u001b[0m\u001b[0m\n\u001b[1;32m     51\u001b[0m \u001b[0;34m\u001b[0m\u001b[0m\n\u001b[0;32m---> 52\u001b[0;31m             \u001b[0;31m# get seeds\u001b[0m\u001b[0;34m\u001b[0m\u001b[0;34m\u001b[0m\u001b[0;34m\u001b[0m\u001b[0m\n\u001b[0m\u001b[1;32m     53\u001b[0m             \u001b[0mteam_1_seed\u001b[0m \u001b[0;34m=\u001b[0m \u001b[0mslot\u001b[0m\u001b[0;34m[\u001b[0m\u001b[0;34m\"StrongSeed\"\u001b[0m\u001b[0;34m]\u001b[0m\u001b[0;34m\u001b[0m\u001b[0;34m\u001b[0m\u001b[0m\n\u001b[1;32m     54\u001b[0m             \u001b[0mteam_2_seed\u001b[0m \u001b[0;34m=\u001b[0m \u001b[0mslot\u001b[0m\u001b[0;34m[\u001b[0m\u001b[0;34m\"WeakSeed\"\u001b[0m\u001b[0;34m]\u001b[0m\u001b[0;34m\u001b[0m\u001b[0;34m\u001b[0m\u001b[0m\n",
      "\u001b[0;32m/usr/local/lib/python3.7/site-packages/pandas/core/series.py\u001b[0m in \u001b[0;36m__getitem__\u001b[0;34m(self, key)\u001b[0m\n\u001b[1;32m    869\u001b[0m         \u001b[0mkey\u001b[0m \u001b[0;34m=\u001b[0m \u001b[0mcom\u001b[0m\u001b[0;34m.\u001b[0m\u001b[0mapply_if_callable\u001b[0m\u001b[0;34m(\u001b[0m\u001b[0mkey\u001b[0m\u001b[0;34m,\u001b[0m \u001b[0mself\u001b[0m\u001b[0;34m)\u001b[0m\u001b[0;34m\u001b[0m\u001b[0;34m\u001b[0m\u001b[0m\n\u001b[1;32m    870\u001b[0m         \u001b[0;32mtry\u001b[0m\u001b[0;34m:\u001b[0m\u001b[0;34m\u001b[0m\u001b[0;34m\u001b[0m\u001b[0m\n\u001b[0;32m--> 871\u001b[0;31m             \u001b[0mresult\u001b[0m \u001b[0;34m=\u001b[0m \u001b[0mself\u001b[0m\u001b[0;34m.\u001b[0m\u001b[0mindex\u001b[0m\u001b[0;34m.\u001b[0m\u001b[0mget_value\u001b[0m\u001b[0;34m(\u001b[0m\u001b[0mself\u001b[0m\u001b[0;34m,\u001b[0m \u001b[0mkey\u001b[0m\u001b[0;34m)\u001b[0m\u001b[0;34m\u001b[0m\u001b[0;34m\u001b[0m\u001b[0m\n\u001b[0m\u001b[1;32m    872\u001b[0m \u001b[0;34m\u001b[0m\u001b[0m\n\u001b[1;32m    873\u001b[0m             \u001b[0;32mif\u001b[0m \u001b[0;32mnot\u001b[0m \u001b[0mis_scalar\u001b[0m\u001b[0;34m(\u001b[0m\u001b[0mresult\u001b[0m\u001b[0;34m)\u001b[0m\u001b[0;34m:\u001b[0m\u001b[0;34m\u001b[0m\u001b[0;34m\u001b[0m\u001b[0m\n",
      "\u001b[0;32m/usr/local/lib/python3.7/site-packages/pandas/core/indexes/base.py\u001b[0m in \u001b[0;36mget_value\u001b[0;34m(self, series, key)\u001b[0m\n\u001b[1;32m   4416\u001b[0m                     \u001b[0;32mraise\u001b[0m \u001b[0mInvalidIndexError\u001b[0m\u001b[0;34m(\u001b[0m\u001b[0mkey\u001b[0m\u001b[0;34m)\u001b[0m\u001b[0;34m\u001b[0m\u001b[0;34m\u001b[0m\u001b[0m\n\u001b[1;32m   4417\u001b[0m                 \u001b[0;32melse\u001b[0m\u001b[0;34m:\u001b[0m\u001b[0;34m\u001b[0m\u001b[0;34m\u001b[0m\u001b[0m\n\u001b[0;32m-> 4418\u001b[0;31m                     \u001b[0;32mraise\u001b[0m \u001b[0me1\u001b[0m\u001b[0;34m\u001b[0m\u001b[0;34m\u001b[0m\u001b[0m\n\u001b[0m\u001b[1;32m   4419\u001b[0m             \u001b[0;32mexcept\u001b[0m \u001b[0mException\u001b[0m\u001b[0;34m:\u001b[0m\u001b[0;34m\u001b[0m\u001b[0;34m\u001b[0m\u001b[0m\n\u001b[1;32m   4420\u001b[0m                 \u001b[0;32mraise\u001b[0m \u001b[0me1\u001b[0m\u001b[0;34m\u001b[0m\u001b[0;34m\u001b[0m\u001b[0m\n",
      "\u001b[0;32m/usr/local/lib/python3.7/site-packages/pandas/core/indexes/base.py\u001b[0m in \u001b[0;36mget_value\u001b[0;34m(self, series, key)\u001b[0m\n\u001b[1;32m   4402\u001b[0m         \u001b[0mk\u001b[0m \u001b[0;34m=\u001b[0m \u001b[0mself\u001b[0m\u001b[0;34m.\u001b[0m\u001b[0m_convert_scalar_indexer\u001b[0m\u001b[0;34m(\u001b[0m\u001b[0mk\u001b[0m\u001b[0;34m,\u001b[0m \u001b[0mkind\u001b[0m\u001b[0;34m=\u001b[0m\u001b[0;34m\"getitem\"\u001b[0m\u001b[0;34m)\u001b[0m\u001b[0;34m\u001b[0m\u001b[0;34m\u001b[0m\u001b[0m\n\u001b[1;32m   4403\u001b[0m         \u001b[0;32mtry\u001b[0m\u001b[0;34m:\u001b[0m\u001b[0;34m\u001b[0m\u001b[0;34m\u001b[0m\u001b[0m\n\u001b[0;32m-> 4404\u001b[0;31m             \u001b[0;32mreturn\u001b[0m \u001b[0mself\u001b[0m\u001b[0;34m.\u001b[0m\u001b[0m_engine\u001b[0m\u001b[0;34m.\u001b[0m\u001b[0mget_value\u001b[0m\u001b[0;34m(\u001b[0m\u001b[0ms\u001b[0m\u001b[0;34m,\u001b[0m \u001b[0mk\u001b[0m\u001b[0;34m,\u001b[0m \u001b[0mtz\u001b[0m\u001b[0;34m=\u001b[0m\u001b[0mgetattr\u001b[0m\u001b[0;34m(\u001b[0m\u001b[0mseries\u001b[0m\u001b[0;34m.\u001b[0m\u001b[0mdtype\u001b[0m\u001b[0;34m,\u001b[0m \u001b[0;34m\"tz\"\u001b[0m\u001b[0;34m,\u001b[0m \u001b[0;32mNone\u001b[0m\u001b[0;34m)\u001b[0m\u001b[0;34m)\u001b[0m\u001b[0;34m\u001b[0m\u001b[0;34m\u001b[0m\u001b[0m\n\u001b[0m\u001b[1;32m   4405\u001b[0m         \u001b[0;32mexcept\u001b[0m \u001b[0mKeyError\u001b[0m \u001b[0;32mas\u001b[0m \u001b[0me1\u001b[0m\u001b[0;34m:\u001b[0m\u001b[0;34m\u001b[0m\u001b[0;34m\u001b[0m\u001b[0m\n\u001b[1;32m   4406\u001b[0m             \u001b[0;32mif\u001b[0m \u001b[0mlen\u001b[0m\u001b[0;34m(\u001b[0m\u001b[0mself\u001b[0m\u001b[0;34m)\u001b[0m \u001b[0;34m>\u001b[0m \u001b[0;36m0\u001b[0m \u001b[0;32mand\u001b[0m \u001b[0;34m(\u001b[0m\u001b[0mself\u001b[0m\u001b[0;34m.\u001b[0m\u001b[0mholds_integer\u001b[0m\u001b[0;34m(\u001b[0m\u001b[0;34m)\u001b[0m \u001b[0;32mor\u001b[0m \u001b[0mself\u001b[0m\u001b[0;34m.\u001b[0m\u001b[0mis_boolean\u001b[0m\u001b[0;34m(\u001b[0m\u001b[0;34m)\u001b[0m\u001b[0;34m)\u001b[0m\u001b[0;34m:\u001b[0m\u001b[0;34m\u001b[0m\u001b[0;34m\u001b[0m\u001b[0m\n",
      "\u001b[0;32mpandas/_libs/index.pyx\u001b[0m in \u001b[0;36mpandas._libs.index.IndexEngine.get_value\u001b[0;34m()\u001b[0m\n",
      "\u001b[0;32mpandas/_libs/index.pyx\u001b[0m in \u001b[0;36mpandas._libs.index.IndexEngine.get_value\u001b[0;34m()\u001b[0m\n",
      "\u001b[0;32mpandas/_libs/index.pyx\u001b[0m in \u001b[0;36mpandas._libs.index.IndexEngine.get_loc\u001b[0;34m()\u001b[0m\n",
      "\u001b[0;32mpandas/_libs/hashtable_class_helper.pxi\u001b[0m in \u001b[0;36mpandas._libs.hashtable.PyObjectHashTable.get_item\u001b[0;34m()\u001b[0m\n",
      "\u001b[0;32mpandas/_libs/hashtable_class_helper.pxi\u001b[0m in \u001b[0;36mpandas._libs.hashtable.PyObjectHashTable.get_item\u001b[0;34m()\u001b[0m\n",
      "\u001b[0;31mKeyError\u001b[0m: 'Strongseed'"
     ]
    }
   ],
   "source": [
    "pred, resp = mmg.generate_multiple_years_of_games(range(2003, 2016), \n",
    "                                                  seeds_arr, \n",
    "                                                  slots_arr, \n",
    "                                                  games_arr, \n",
    "                                                  [\"min_index_id\", \"max_index_id\", \"markov\", \"dominance\", \"rpi\", \"bad_losses\", \"tough_wins\", \"close_wins\", \"close_wins_perc\", \"weighted_wins\", \"past_resul\", \"momentum\", \"tempo\", \"off_eff\", \"def_eff\", \"luck\"], \n",
    "                                                  [markov_data, dominance, rpi, bad_losses, tough_wins, close_wins, close_wins_perc, weighted_wins, past_resul, momentum, tempo, off_eff, def_eff, luck],\n",
    "                                                  scoring_dif = False)"
   ]
  },
  {
   "cell_type": "code",
   "execution_count": 284,
   "metadata": {},
   "outputs": [
    {
     "name": "stdout",
     "output_type": "stream",
     "text": [
      "0.715609756098\n",
      "\n",
      "markov : 0.515462716526\n",
      "\n",
      "rpi : 0.888394750474\n",
      "\n",
      "bad_losses : -0.143162572217\n",
      "\n",
      "off_eff : 0.18436225876\n",
      "\n",
      "def_eff : -0.124765007925\n",
      "\n",
      "luck : -0.250712783599\n"
     ]
    }
   ],
   "source": [
    "score = 0.\n",
    "subset = [2,4,5,13,14,15]\n",
    "\n",
    "for i in range(100):\n",
    "\n",
    "    train_index, cross_index = train_test_split(pred.index, test_size = .25)\n",
    "\n",
    "    train_x = pred.loc[train_index]\n",
    "    train_y = resp.loc[train_index]\n",
    "    cross_x = pred.loc[cross_index]\n",
    "    cross_y = resp.loc[cross_index]\n",
    "\n",
    "    scaler = StandardScaler().fit(train_x.iloc[:, subset])\n",
    "\n",
    "    model = LogReg(C = 1)\n",
    "    model.fit(scaler.transform(train_x.iloc[:, subset]), train_y.values.T[0])\n",
    "    score = score +  model.score(scaler.transform(cross_x.iloc[:, subset]), cross_y)\n",
    "    \n",
    "print score / 100.\n",
    "\n",
    "\n",
    "for i in range(len(pred.columns[subset].values)):\n",
    "    print \"\\n{} : {}\".format(pred.columns[subset].values[i], model.coef_[0, i])"
   ]
  },
  {
   "cell_type": "markdown",
   "metadata": {},
   "source": [
    "--- "
   ]
  },
  {
   "cell_type": "markdown",
   "metadata": {},
   "source": [
    "### Model Score Differential"
   ]
  },
  {
   "cell_type": "code",
   "execution_count": 19,
   "metadata": {},
   "outputs": [],
   "source": [
    "from sklearn.linear_model import LinearRegression as ols\n",
    "from sklearn.linear_model import Lasso as lasso\n",
    "from sklearn.linear_model import Ridge as ridge"
   ]
  },
  {
   "cell_type": "code",
   "execution_count": 20,
   "metadata": {},
   "outputs": [],
   "source": [
    "pred, resp = mmg.generate_multiple_years_of_games(range(1987, 2001), \n",
    "                                                  seeds_arr, \n",
    "                                                  slots_arr, \n",
    "                                                  games_arr, \n",
    "                                                  [\"min_index_id\", \"max_index_id\", \"markov\", \"dominance\", \"rpi\", \"bad_losses\", \"tough_wins\", \"close_wins\", \"close_wins_perc\", \"weighted_wins\", \"past_resul\", \"momentum\", \"win_ratio\"], \n",
    "                                                  [markov_data, dominance, rpi, bad_losses, tough_wins, close_wins, close_wins_perc, weighted_wins, past_resul, momentum, win_ratio],\n",
    "                                                  scoring_dif = True)"
   ]
  },
  {
   "cell_type": "markdown",
   "metadata": {},
   "source": [
    "#### Linear Regression"
   ]
  },
  {
   "cell_type": "code",
   "execution_count": 21,
   "metadata": {},
   "outputs": [
    {
     "name": "stdout",
     "output_type": "stream",
     "text": [
      "0.454621409751\n",
      "[  5.26574426e+00  -2.81475572e-01   6.77657015e+00  -1.52682092e-03\n",
      "   1.00357205e+00   2.42975781e-01  -1.25747888e+00  -1.18497733e+00\n",
      "  -3.62427489e-01  -6.12538062e-01]\n"
     ]
    }
   ],
   "source": [
    "scores = 0\n",
    "for i in range(500):\n",
    "    train_index, cross_index = train_test_split(pred.index, test_size = .25)\n",
    "\n",
    "    train_x = pred.loc[train_index]\n",
    "    train_y = resp.loc[train_index]\n",
    "    cross_x = pred.loc[cross_index]\n",
    "    cross_y = resp.loc[cross_index]\n",
    "\n",
    "    scaler = StandardScaler().fit(train_x.iloc[:, 2:])\n",
    "\n",
    "    model = ols()\n",
    "    model.fit(scaler.transform(train_x.iloc[:, 2:]), train_y.values.T[0])\n",
    "    scores = scores + model.score(scaler.transform(cross_x.iloc[:, 2:]), cross_y)\n",
    "    \n",
    "print scores/500.\n",
    "print model.coef_"
   ]
  },
  {
   "cell_type": "markdown",
   "metadata": {},
   "source": [
    "#### Lasso Regression"
   ]
  },
  {
   "cell_type": "code",
   "execution_count": 22,
   "metadata": {},
   "outputs": [
    {
     "name": "stdout",
     "output_type": "stream",
     "text": [
      "0.455894317282\n",
      "[ 4.87620608  0.          4.47165101 -0.49475219  0.         -0.         -0.1686631\n",
      "  0.          0.          0.        ]\n"
     ]
    }
   ],
   "source": [
    "scores = 0\n",
    "for i in range(500):\n",
    "    train_index, cross_index = train_test_split(pred.index, test_size = .25)\n",
    "\n",
    "    train_x = pred.loc[train_index]\n",
    "    train_y = resp.loc[train_index]\n",
    "    cross_x = pred.loc[cross_index]\n",
    "    cross_y = resp.loc[cross_index]\n",
    "\n",
    "    scaler = StandardScaler().fit(train_x.iloc[:, 2:])\n",
    "\n",
    "    model = lasso()\n",
    "    model.fit(scaler.transform(train_x.iloc[:, 2:]), train_y.values.T[0])\n",
    "    scores = scores + model.score(scaler.transform(cross_x.iloc[:, 2:]), cross_y)\n",
    "    \n",
    "print scores/500.\n",
    "print model.coef_"
   ]
  },
  {
   "cell_type": "markdown",
   "metadata": {},
   "source": [
    "#### Ridge Regression"
   ]
  },
  {
   "cell_type": "code",
   "execution_count": 23,
   "metadata": {},
   "outputs": [
    {
     "name": "stdout",
     "output_type": "stream",
     "text": [
      "0.458373670232\n",
      "[ 5.22297271  0.24896519  6.3009136  -0.42831358  0.36642889  0.4813125\n",
      " -1.37434403 -0.24265882 -0.27576285 -1.04558994]\n"
     ]
    }
   ],
   "source": [
    "scores = 0\n",
    "for i in range(500):\n",
    "    train_index, cross_index = train_test_split(pred.index, test_size = .25)\n",
    "\n",
    "    train_x = pred.loc[train_index]\n",
    "    train_y = resp.loc[train_index]\n",
    "    cross_x = pred.loc[cross_index]\n",
    "    cross_y = resp.loc[cross_index]\n",
    "\n",
    "    scaler = StandardScaler().fit(train_x.iloc[:, 2:])\n",
    "\n",
    "    model = ridge()\n",
    "    model.fit(scaler.transform(train_x.iloc[:, 2:]), train_y.values.T[0])\n",
    "    scores = scores + model.score(scaler.transform(cross_x.iloc[:, 2:]), cross_y)\n",
    "    \n",
    "print scores/500.\n",
    "print model.coef_"
   ]
  }
 ],
 "metadata": {
  "anaconda-cloud": {},
  "kernelspec": {
   "display_name": "Python 3",
   "language": "python",
   "name": "python3"
  },
  "language_info": {
   "codemirror_mode": {
    "name": "ipython",
    "version": 3
   },
   "file_extension": ".py",
   "mimetype": "text/x-python",
   "name": "python",
   "nbconvert_exporter": "python",
   "pygments_lexer": "ipython3",
   "version": "3.7.7"
  }
 },
 "nbformat": 4,
 "nbformat_minor": 1
}
