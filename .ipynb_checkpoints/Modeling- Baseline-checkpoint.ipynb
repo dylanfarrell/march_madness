{
 "cells": [
  {
   "cell_type": "markdown",
   "metadata": {},
   "source": [
    "# Baseline Modeling\n",
    "- Robert Shaw\n",
    "- CS109a Project: Data Driven March Madness\n",
    "\n",
    "In this file, we fit a simple head to head model to see how well we do in predicting games. This head to head model will eventually be used to predict an entire bracket down the road."
   ]
  },
  {
   "cell_type": "markdown",
   "metadata": {},
   "source": [
    "---"
   ]
  },
  {
   "cell_type": "markdown",
   "metadata": {},
   "source": [
    "### Load in Our Datasets and Functions"
   ]
  },
  {
   "cell_type": "code",
   "execution_count": 23,
   "metadata": {},
   "outputs": [],
   "source": [
    "import march_madness_classes as mmc\n",
    "import march_madness_games as mmg\n",
    "import march_madness_models as mmm\n",
    "\n",
    "# import libraries\n",
    "import numpy as np\n",
    "import pandas as pd\n",
    "import matplotlib\n",
    "import matplotlib.pyplot as plt\n",
    "%matplotlib inline"
   ]
  },
  {
   "cell_type": "code",
   "execution_count": 27,
   "metadata": {},
   "outputs": [],
   "source": [
    "teams = pd.read_csv(\"datasets/kaggle_data_2021/MTeams.csv\")\n",
    "seeds = pd.read_csv(\"datasets/kaggle_data_2021/MNCAATourneySeeds.csv\")\n",
    "slots = pd.read_csv(\"datasets/kaggle_data_2021/MNCAATourneySlots.csv\")\n",
    "tourney_data = pd.read_csv(\"datasets/kaggle_data_2021/MNCAATourneyCompactResults.csv\")\n",
    "regular_data = pd.read_csv(\"datasets/kaggle_data_2021/MRegularSeasonCompactResults.csv\")"
   ]
  },
  {
   "cell_type": "code",
   "execution_count": 28,
   "metadata": {},
   "outputs": [],
   "source": [
    "tourney_arr = mmg.filter_into_seasons(tourney_data)\n",
    "regular_arr = mmg.filter_into_seasons(regular_data)\n",
    "seeds_arr = mmg.filter_into_seasons(seeds)\n",
    "slots_arr = mmg.filter_into_seasons(slots)\n",
    "\n",
    "n=34\n",
    "seeds_1985 = seeds_arr[n]\n",
    "slots_1985 = slots_arr[n]\n",
    "tourney_1985 = tourney_arr[n]\n",
    "regular_1985 = regular_arr[n]"
   ]
  },
  {
   "cell_type": "markdown",
   "metadata": {},
   "source": [
    "---"
   ]
  },
  {
   "cell_type": "markdown",
   "metadata": {},
   "source": [
    "### Transform the Stationary Distibution Data Into One DataFrame/CSV File\n",
    "- Improve our database.\n",
    "- This should be somewhere else"
   ]
  },
  {
   "cell_type": "code",
   "execution_count": 4,
   "metadata": {},
   "outputs": [],
   "source": [
    "stationary_arr = []\n",
    "for i in range(1985, 2022):\n",
    "    df = pd.read_csv(\"datasets/our_data/markov_data/{}_stationary_distribution\".format(i), index_col = 0)\n",
    "    df.columns = [i]\n",
    "    stationary_arr.append(df.transpose()) "
   ]
  },
  {
   "cell_type": "code",
   "execution_count": 5,
   "metadata": {},
   "outputs": [],
   "source": [
    "# concat into a \n",
    "stationary_df = pd.concat(stationary_arr)"
   ]
  },
  {
   "cell_type": "code",
   "execution_count": 6,
   "metadata": {},
   "outputs": [],
   "source": [
    "# save as a csv\n",
    "stationary_df.to_csv(\"datasets/our_data/stationary\")"
   ]
  },
  {
   "cell_type": "code",
   "execution_count": 7,
   "metadata": {
    "scrolled": true
   },
   "outputs": [
    {
     "data": {
      "text/plain": [
       "1985    1.0\n",
       "1986    1.0\n",
       "1987    1.0\n",
       "1988    1.0\n",
       "1989    1.0\n",
       "1990    1.0\n",
       "1991    1.0\n",
       "1992    1.0\n",
       "1993    1.0\n",
       "1994    1.0\n",
       "1995    1.0\n",
       "1996    1.0\n",
       "1997    1.0\n",
       "1998    1.0\n",
       "1999    1.0\n",
       "2000    1.0\n",
       "2001    1.0\n",
       "2002    1.0\n",
       "2003    1.0\n",
       "2004    1.0\n",
       "2005    1.0\n",
       "2006    1.0\n",
       "2007    1.0\n",
       "2008    1.0\n",
       "2009    1.0\n",
       "2010    1.0\n",
       "2011    1.0\n",
       "2012    1.0\n",
       "2013    1.0\n",
       "2014    1.0\n",
       "2015    1.0\n",
       "2016    1.0\n",
       "2017    1.0\n",
       "2018    1.0\n",
       "2019    1.0\n",
       "2020    1.0\n",
       "2021    1.0\n",
       "dtype: float64"
      ]
     },
     "execution_count": 7,
     "metadata": {},
     "output_type": "execute_result"
    }
   ],
   "source": [
    "# everything appears to be working if they sum to one\n",
    "stationary_df.sum(axis=1)"
   ]
  },
  {
   "cell_type": "markdown",
   "metadata": {},
   "source": [
    "---"
   ]
  },
  {
   "cell_type": "markdown",
   "metadata": {},
   "source": [
    "### Get Predictors For Our Baseline Model\n",
    "- Pull from our database."
   ]
  },
  {
   "cell_type": "code",
   "execution_count": 8,
   "metadata": {},
   "outputs": [],
   "source": [
    "stationary = pd.read_csv(\"datasets/our_data/stationary\", index_col =0)\n",
    "avg_points_against =  pd.read_csv(\"datasets/our_data/avg_points_against\", index_col =0)\n",
    "avg_points_for = pd.read_csv(\"datasets/our_data/avg_points_for\", index_col =0)\n",
    "away_wins = pd.read_csv(\"datasets/our_data/away_wins\", index_col =0)\n",
    "bad_losses = pd.read_csv(\"datasets/our_data/bad_losses\", index_col =0)\n",
    "consistency= pd.read_csv(\"datasets/our_data/regular_season_std_score_differential_matrix\", index_col =0)\n",
    "dominance= pd.read_csv(\"datasets/our_data/regular_season_avg_score_differential_matrix\", index_col =0)\n",
    "good_wins_matrix= pd.read_csv(\"datasets/our_data/good_wins_matrix\", index_col =0)\n",
    "rpi= pd.read_csv(\"datasets/our_data/regular_season_rpi_matrix\", index_col =0)\n",
    "tough_wins= pd.read_csv(\"datasets/our_data/tough_wins\", index_col =0)\n",
    "win_percentage= pd.read_csv(\"datasets/our_data/win_percentage\", index_col =0)\n",
    "win_percentage_vs_tourney_teams_matrix= pd.read_csv(\"datasets/our_data/win_percentage_vs_tourney_teams_matrix\", index_col =0)\n",
    "wins_vs_tourney_teams= pd.read_csv(\"datasets/our_data/wins_vs_tourney_teams\", index_col =0)"
   ]
  },
  {
   "cell_type": "markdown",
   "metadata": {},
   "source": [
    "---"
   ]
  },
  {
   "cell_type": "markdown",
   "metadata": {},
   "source": [
    "### Functions to go into our March Madness Games Module\n",
    "- These have been moved to march_madness_games.py\n",
    "- These functions have been explained in march_madness_games.py"
   ]
  },
  {
   "cell_type": "code",
   "execution_count": 9,
   "metadata": {},
   "outputs": [],
   "source": [
    "# extracting from the dataframe\n",
    "def get_predictor(team_id, year, df):\n",
    "    return df.loc[year, str(team_id)]\n",
    "\n",
    "def get_predictor_dif(team_id_1, team_id_2, year, df):\n",
    "    return df.loc[year, str(team_id_1)] - df.loc[year, str(team_id_2)]\n",
    "\n",
    "def get_predictors(team_id, year, df_arr):\n",
    "    row = np.zeros(len(df_arr))\n",
    "    i = 0\n",
    "    for df in df_arr:\n",
    "        row[i] = get_predictor(team_id, year, df)\n",
    "        i = i + 1\n",
    "    return row\n",
    "\n",
    "def get_predictors_dif(team_id_1, team_id_2, year, df_arr):\n",
    "    row = np.zeros(len(df_arr))\n",
    "    i = 0\n",
    "    for df in df_arr:\n",
    "        row[i] = float(get_predictor_dif(team_id_1, team_id_2, year, df))\n",
    "        i = i + 1\n",
    "    return row"
   ]
  },
  {
   "cell_type": "code",
   "execution_count": 10,
   "metadata": {},
   "outputs": [],
   "source": [
    "# function to extract the y_values of the team with the min index winning\n",
    "def extract_response(tourney_game_df):\n",
    "    \n",
    "    # response for a given year\n",
    "    min_index_win = np.zeros(tourney_game_df.shape[0])\n",
    "    i = 0\n",
    "    for index, game in tourney_game_df.iterrows():\n",
    "        if int(game[\"Prediction\"]) == min(int(game[\"Strongseed Team\"]), int(game[\"Weakseed Team\"])):\n",
    "            min_index_win[i] = 1 \n",
    "        i = i + 1\n",
    "           \n",
    "    return min_index_win\n",
    "\n",
    "# function to extract the y_values of the team with the min index winning\n",
    "def extract_predictors(tourney_game_df, predictor_list, predictor_dfs, year):\n",
    "    # buffer to hold our values\n",
    "    pred_matrix = np.zeros((tourney_game_df.shape[0], len(predictor_list)))\n",
    "    \n",
    "    # fill predictor matrix\n",
    "    for i in range(tourney_game_df.shape[0]):   \n",
    "        # min and max index teams\n",
    "        min_index_team = min(int(tourney_game_df.loc[i, \"Strongseed Team\"]), int(tourney_game_df.loc[i, \"Weakseed Team\"]))\n",
    "        max_index_team = max(int(tourney_game_df.loc[i, \"Strongseed Team\"]), int(tourney_game_df.loc[i, \"Weakseed Team\"]))                  \n",
    "\n",
    "        # fill matrix\n",
    "        pred_matrix[i,  0] = min_index_team\n",
    "        pred_matrix[i,  1] = max_index_team\n",
    "        pred_matrix[i, 2:] = get_predictors_dif(min_index_team, max_index_team, year, predictor_dfs)\n",
    "\n",
    "    # gen dataframe                       \n",
    "    pred_df = pd.DataFrame(data = pred_matrix, columns = predictor_list)\n",
    "                           \n",
    "    return pred_df"
   ]
  },
  {
   "cell_type": "code",
   "execution_count": 11,
   "metadata": {},
   "outputs": [],
   "source": [
    "def get_tourney_results(seeds, slots, raw_data):\n",
    "    tourney = mmc.Tournament(seeds, slots, mmm.ActualTournament(raw_data))\n",
    "    return tourney.entire_bracket\n",
    "\n",
    "# get single years worth of games\n",
    "def generate_single_year_of_games(year, seed_list, slot_list, tourney_data, predictors, predictor_dfs):\n",
    "    # get results of the games\n",
    "    tourney_results = get_tourney_results(seed_list, slot_list, tourney_data)\n",
    "    \n",
    "    # get predictors\n",
    "    pred_df = extract_predictors(tourney_results, predictors, predictor_dfs, year)\n",
    "    \n",
    "    # get response\n",
    "    resp_arr = extract_response(tourney_results)\n",
    "    \n",
    "    return pred_df, resp_arr\n",
    "\n",
    "def generate_multiple_years_of_games(years, seed_list_arr, slot_list_arr, tourney_data_arr, predictors, predictor_dfs):\n",
    "    min_year = 1985\n",
    "\n",
    "    preds = pd.DataFrame({})\n",
    "    resps = np.array([])\n",
    "    \n",
    "    for year in years:\n",
    "        year_index = int(year) - min_year\n",
    "        # generate 1 year of data\n",
    "        pred_df, resp_arr = generate_single_year_of_games(year, \n",
    "                                                          seed_list_arr[year_index], \n",
    "                                                          slot_list_arr[year_index], \n",
    "                                                          tourney_data_arr[year_index],\n",
    "                                                          predictors,\n",
    "                                                          predictor_dfs)\n",
    "        print(year)\n",
    "        # add to list we are keeping \n",
    "        preds = pd.concat([preds, pred_df])\n",
    "        resps = np.concatenate((resps, resp_arr))\n",
    "        \n",
    "    return preds, resps\n",
    "        "
   ]
  },
  {
   "cell_type": "code",
   "execution_count": 12,
   "metadata": {},
   "outputs": [],
   "source": [
    "column_names = [\"min_index_id\", \"max_index_id\", \"wins_vs_tourney_teams dif\", \"stationary dif\"]"
   ]
  },
  {
   "cell_type": "code",
   "execution_count": 13,
   "metadata": {},
   "outputs": [],
   "source": [
    "tourney_arr = mmg.filter_into_seasons(tourney_data)\n",
    "regular_arr = mmg.filter_into_seasons(regular_data)\n",
    "seeds_arr = mmg.filter_into_seasons(seeds)\n",
    "slots_arr = mmg.filter_into_seasons(slots)"
   ]
  },
  {
   "cell_type": "code",
   "execution_count": 14,
   "metadata": {},
   "outputs": [],
   "source": [
    "predictor_dfs = [wins_vs_tourney_teams, stationary]"
   ]
  },
  {
   "cell_type": "code",
   "execution_count": null,
   "metadata": {},
   "outputs": [],
   "source": []
  },
  {
   "cell_type": "code",
   "execution_count": null,
   "metadata": {},
   "outputs": [],
   "source": []
  },
  {
   "cell_type": "code",
   "execution_count": null,
   "metadata": {},
   "outputs": [],
   "source": []
  },
  {
   "cell_type": "code",
   "execution_count": 31,
   "metadata": {},
   "outputs": [],
   "source": [
    "n = 32\n",
    "slots = slots_arr[n]\n",
    "seeds = seeds_arr[n]\n",
    "tourney = mmm.ActualTournament(tourney_arr[n])\n",
    "games = []"
   ]
  },
  {
   "cell_type": "code",
   "execution_count": 33,
   "metadata": {},
   "outputs": [
    {
     "data": {
      "text/plain": [
       "32"
      ]
     },
     "execution_count": 33,
     "metadata": {},
     "output_type": "execute_result"
    }
   ],
   "source": [
    "round_1_slots = slots[slots[\"Slot\"].str.contains(\"R1\")]\n",
    "len(round_1_slots)"
   ]
  },
  {
   "cell_type": "code",
   "execution_count": 39,
   "metadata": {},
   "outputs": [
    {
     "data": {
      "text/html": [
       "<div>\n",
       "<style scoped>\n",
       "    .dataframe tbody tr th:only-of-type {\n",
       "        vertical-align: middle;\n",
       "    }\n",
       "\n",
       "    .dataframe tbody tr th {\n",
       "        vertical-align: top;\n",
       "    }\n",
       "\n",
       "    .dataframe thead th {\n",
       "        text-align: right;\n",
       "    }\n",
       "</style>\n",
       "<table border=\"1\" class=\"dataframe\">\n",
       "  <thead>\n",
       "    <tr style=\"text-align: right;\">\n",
       "      <th></th>\n",
       "      <th>Season</th>\n",
       "      <th>Seed</th>\n",
       "      <th>TeamID</th>\n",
       "    </tr>\n",
       "  </thead>\n",
       "  <tbody>\n",
       "    <tr>\n",
       "      <th>2082</th>\n",
       "      <td>2017</td>\n",
       "      <td>W01</td>\n",
       "      <td>1437</td>\n",
       "    </tr>\n",
       "    <tr>\n",
       "      <th>2083</th>\n",
       "      <td>2017</td>\n",
       "      <td>W02</td>\n",
       "      <td>1181</td>\n",
       "    </tr>\n",
       "    <tr>\n",
       "      <th>2084</th>\n",
       "      <td>2017</td>\n",
       "      <td>W03</td>\n",
       "      <td>1124</td>\n",
       "    </tr>\n",
       "    <tr>\n",
       "      <th>2085</th>\n",
       "      <td>2017</td>\n",
       "      <td>W04</td>\n",
       "      <td>1196</td>\n",
       "    </tr>\n",
       "    <tr>\n",
       "      <th>2086</th>\n",
       "      <td>2017</td>\n",
       "      <td>W05</td>\n",
       "      <td>1438</td>\n",
       "    </tr>\n",
       "    <tr>\n",
       "      <th>...</th>\n",
       "      <td>...</td>\n",
       "      <td>...</td>\n",
       "      <td>...</td>\n",
       "    </tr>\n",
       "    <tr>\n",
       "      <th>2145</th>\n",
       "      <td>2017</td>\n",
       "      <td>Z12</td>\n",
       "      <td>1292</td>\n",
       "    </tr>\n",
       "    <tr>\n",
       "      <th>2146</th>\n",
       "      <td>2017</td>\n",
       "      <td>Z13</td>\n",
       "      <td>1457</td>\n",
       "    </tr>\n",
       "    <tr>\n",
       "      <th>2147</th>\n",
       "      <td>2017</td>\n",
       "      <td>Z14</td>\n",
       "      <td>1245</td>\n",
       "    </tr>\n",
       "    <tr>\n",
       "      <th>2148</th>\n",
       "      <td>2017</td>\n",
       "      <td>Z15</td>\n",
       "      <td>1297</td>\n",
       "    </tr>\n",
       "    <tr>\n",
       "      <th>2149</th>\n",
       "      <td>2017</td>\n",
       "      <td>Z16</td>\n",
       "      <td>1411</td>\n",
       "    </tr>\n",
       "  </tbody>\n",
       "</table>\n",
       "<p>68 rows × 3 columns</p>\n",
       "</div>"
      ],
      "text/plain": [
       "      Season Seed  TeamID\n",
       "2082    2017  W01    1437\n",
       "2083    2017  W02    1181\n",
       "2084    2017  W03    1124\n",
       "2085    2017  W04    1196\n",
       "2086    2017  W05    1438\n",
       "...      ...  ...     ...\n",
       "2145    2017  Z12    1292\n",
       "2146    2017  Z13    1457\n",
       "2147    2017  Z14    1245\n",
       "2148    2017  Z15    1297\n",
       "2149    2017  Z16    1411\n",
       "\n",
       "[68 rows x 3 columns]"
      ]
     },
     "execution_count": 39,
     "metadata": {},
     "output_type": "execute_result"
    }
   ],
   "source": [
    "seeds"
   ]
  },
  {
   "cell_type": "code",
   "execution_count": 43,
   "metadata": {},
   "outputs": [
    {
     "name": "stdout",
     "output_type": "stream",
     "text": [
      "2050 Season        2017\n",
      "Slot          R1W1\n",
      "StrongSeed     W01\n",
      "WeakSeed       W16\n",
      "Name: 2050, dtype: object\n",
      "W01 W16\n",
      "[]\n"
     ]
    },
    {
     "ename": "IndexError",
     "evalue": "index 0 is out of bounds for axis 0 with size 0",
     "output_type": "error",
     "traceback": [
      "\u001b[0;31m---------------------------------------------------------------------------\u001b[0m",
      "\u001b[0;31mIndexError\u001b[0m                                Traceback (most recent call last)",
      "\u001b[0;32m<ipython-input-43-a6cf4c45cd6e>\u001b[0m in \u001b[0;36m<module>\u001b[0;34m\u001b[0m\n\u001b[1;32m      8\u001b[0m     \u001b[0mprint\u001b[0m\u001b[0;34m(\u001b[0m\u001b[0mseeds\u001b[0m\u001b[0;34m.\u001b[0m\u001b[0mloc\u001b[0m\u001b[0;34m[\u001b[0m\u001b[0mseeds\u001b[0m\u001b[0;34m[\u001b[0m\u001b[0;34m\"Seed\"\u001b[0m\u001b[0;34m]\u001b[0m \u001b[0;34m==\u001b[0m \u001b[0mteam_2_seed\u001b[0m\u001b[0;34m,\u001b[0m \u001b[0;34m\"TeamID\"\u001b[0m\u001b[0;34m]\u001b[0m\u001b[0;34m.\u001b[0m\u001b[0mvalues\u001b[0m\u001b[0;34m)\u001b[0m\u001b[0;34m\u001b[0m\u001b[0;34m\u001b[0m\u001b[0m\n\u001b[1;32m      9\u001b[0m     \u001b[0mteam_1\u001b[0m \u001b[0;34m=\u001b[0m \u001b[0mseeds\u001b[0m\u001b[0;34m.\u001b[0m\u001b[0mloc\u001b[0m\u001b[0;34m[\u001b[0m\u001b[0mseeds\u001b[0m\u001b[0;34m[\u001b[0m\u001b[0;34m\"Seed\"\u001b[0m\u001b[0;34m]\u001b[0m \u001b[0;34m==\u001b[0m \u001b[0mteam_1_seed\u001b[0m\u001b[0;34m,\u001b[0m \u001b[0;34m\"TeamID\"\u001b[0m\u001b[0;34m]\u001b[0m\u001b[0;34m.\u001b[0m\u001b[0mvalues\u001b[0m\u001b[0;34m[\u001b[0m\u001b[0;36m0\u001b[0m\u001b[0;34m]\u001b[0m\u001b[0;34m\u001b[0m\u001b[0;34m\u001b[0m\u001b[0m\n\u001b[0;32m---> 10\u001b[0;31m     \u001b[0mteam_2\u001b[0m \u001b[0;34m=\u001b[0m \u001b[0mseeds\u001b[0m\u001b[0;34m.\u001b[0m\u001b[0mloc\u001b[0m\u001b[0;34m[\u001b[0m\u001b[0mseeds\u001b[0m\u001b[0;34m[\u001b[0m\u001b[0;34m\"Seed\"\u001b[0m\u001b[0;34m]\u001b[0m \u001b[0;34m==\u001b[0m \u001b[0mteam_2_seed\u001b[0m\u001b[0;34m,\u001b[0m \u001b[0;34m\"TeamID\"\u001b[0m\u001b[0;34m]\u001b[0m\u001b[0;34m.\u001b[0m\u001b[0mvalues\u001b[0m\u001b[0;34m[\u001b[0m\u001b[0;36m0\u001b[0m\u001b[0;34m]\u001b[0m\u001b[0;34m\u001b[0m\u001b[0;34m\u001b[0m\u001b[0m\n\u001b[0m",
      "\u001b[0;31mIndexError\u001b[0m: index 0 is out of bounds for axis 0 with size 0"
     ]
    }
   ],
   "source": [
    "for index, slot in round_1_slots.iloc[:32, :].iterrows():\n",
    "    print(index, slot)\n",
    "    # get seeds\n",
    "    team_1_seed = slot[\"StrongSeed\"]\n",
    "    team_2_seed = slot[\"WeakSeed\"] \n",
    "    print(team_1_seed, team_2_seed)\n",
    "    # lookup team id\n",
    "    print(seeds.loc[seeds[\"Seed\"] == team_2_seed, \"TeamID\"].values)\n",
    "    team_1 = seeds.loc[seeds[\"Seed\"] == team_1_seed, \"TeamID\"].values[0]\n",
    "    team_2 = seeds.loc[seeds[\"Seed\"] == team_2_seed, \"TeamID\"].values[0]"
   ]
  },
  {
   "cell_type": "code",
   "execution_count": 44,
   "metadata": {},
   "outputs": [],
   "source": [
    "def __init__(self, seeds, slots, model, include_scoring_dif=False):\n",
    "    self.seeds = seeds\n",
    "    self.slots = slots\n",
    "    self.model = model\n",
    "    self.include_scoring_dif = include_scoring_dif\n",
    "\n",
    "    games = []\n",
    "\n",
    "    # slots\n",
    "    round_1_slots = slots[slots[\"Slot\"].str.contains(\"R1\")]\n",
    "\n",
    "    # generate first round games\n",
    "    for index, slot in round_1_slots.iloc[:32, :].iterrows():\n",
    "\n",
    "        # get seeds\n",
    "        team_1_seed = slot[\"StrongSeed\"]\n",
    "        team_2_seed = slot[\"WeakSeed\"] \n",
    "\n",
    "        # lookup team id\n",
    "        team_1 = seeds.loc[seeds[\"Seed\"] == team_1_seed, \"TeamID\"].values\n",
    "        team_2 = seeds.loc[seeds[\"Seed\"] == team_2_seed, \"TeamID\"].values\n",
    "\n",
    "        # play in game\n",
    "        if len(team_1) == 0:\n",
    "            # get seeds \n",
    "            team_1_a_seed = team_1_seed + \"a\"\n",
    "            team_1_b_seed = team_1_seed + \"b\"\n",
    "\n",
    "            # lookup team id\n",
    "            team_1_a = seeds.loc[seeds[\"Seed\"] == team_1_a_seed, \"TeamID\"].values[0]\n",
    "            team_1_b = seeds.loc[seeds[\"Seed\"] == team_1_b_seed, \"TeamID\"].values[0]\n",
    "\n",
    "            # predict winner of play ing\n",
    "            if include_scoring_dif:\n",
    "                team_1, x = self.model.predict(team_1_a, team_1_b)\n",
    "            else:\n",
    "                team_1 = self.model.predict(team_1_a, team_1_b)\n",
    "\n",
    "        # not a play in game\n",
    "        else:\n",
    "            # extract value\n",
    "            team_1 = team_1[0]\n",
    "\n",
    "        # play in game\n",
    "        if len(team_2) == 0:\n",
    "            # get seeds \n",
    "            team_2_a_seed = team_2_seed + \"a\"\n",
    "            team_2_b_seed = team_2_seed + \"b\"\n",
    "\n",
    "            # lookup team id\n",
    "            team_2_a = seeds.loc[seeds[\"Seed\"] == team_2_a_seed, \"TeamID\"].values[0]\n",
    "            team_2_b = seeds.loc[seeds[\"Seed\"] == team_2_b_seed, \"TeamID\"].values[0]\n",
    "\n",
    "            # predict winclner of play in\n",
    "            if include_scoring_dif:\n",
    "                team_2, x = self.model.predict(team_2_a, team_2_b)\n",
    "            else:\n",
    "                team_2 = self.model.predict(team_2_a, team_2_b)\n",
    "\n",
    "        # not a play in game\n",
    "        else:\n",
    "            # exrtract value\n",
    "            team_2 = team_2[0]\n",
    "\n",
    "        # predict winner under our model\n",
    "        if include_scoring_dif:\n",
    "            cur_game_pred_team, cur_game_pred_scoring_dif = self.model.predict(team_1, team_2)\n",
    "        else:\n",
    "            cur_game_pred_team = self.model.predict(team_1, team_2)\n",
    "\n",
    "        # predict winner seed under our model\n",
    "        if cur_game_pred_team ==  team_1:\n",
    "            cur_game_pred_seed = team_1_seed\n",
    "        else:\n",
    "            cur_game_pred_seed = team_2_seed\n",
    "\n",
    "        if self.include_scoring_dif:\n",
    "            # append games\n",
    "            games.append((slot[\"Slot\"], \n",
    "                          team_1_seed, \n",
    "                          team_1, \n",
    "                          team_2_seed, \n",
    "                          team_2, \n",
    "                          cur_game_pred_team, \n",
    "                          cur_game_pred_seed,\n",
    "                          cur_game_pred_scoring_dif))\n",
    "        else:\n",
    "            # append games\n",
    "            games.append((slot[\"Slot\"], \n",
    "                          team_1_seed, \n",
    "                          team_1, \n",
    "                          team_2_seed, \n",
    "                          team_2, \n",
    "                          cur_game_pred_team, \n",
    "                          cur_game_pred_seed))\n",
    "\n",
    "    # convert to dataframe\n",
    "    if self.include_scoring_dif:\n",
    "        self.round_1_df = pd.DataFrame(data=np.array(games), \n",
    "                                       columns=[\"Slot\", \n",
    "                                                \"StrongSeed\", \n",
    "                                                \"Strongseed Team\", \n",
    "                                                \"WeakSeed\", \n",
    "                                                \"Weakseed Team\", \n",
    "                                                \"Prediction\", \n",
    "                                                \"Prediction Seed\",\n",
    "                                                \"Prediction Scoring Dif\"])\n",
    "    else:\n",
    "        self.round_1_df = pd.DataFrame(data=np.array(games), \n",
    "                                       columns=[\"Slot\", \n",
    "                                                \"StrongSeed\", \n",
    "                                                \"Strongseed Team\", \n",
    "                                                \"WeakSeed\", \n",
    "                                                \"Weakseed Team\", \n",
    "                                                \"Prediction\", \n",
    "                                                \"Prediction Seed\"])\n",
    "\n",
    "    self.round_2_df = pd.DataFrame()\n",
    "    self.round_3_df = pd.DataFrame()\n",
    "    self.round_4_df = pd.DataFrame()\n",
    "    self.round_5_df = pd.DataFrame()\n",
    "    self.round_6_df = pd.DataFrame()\n",
    "\n",
    "    # run entire tournament\n",
    "    self.run_tournament()"
   ]
  },
  {
   "cell_type": "code",
   "execution_count": 45,
   "metadata": {},
   "outputs": [
    {
     "ename": "TypeError",
     "evalue": "object of type 'numpy.int64' has no len()",
     "output_type": "error",
     "traceback": [
      "\u001b[0;31m---------------------------------------------------------------------------\u001b[0m",
      "\u001b[0;31mTypeError\u001b[0m                                 Traceback (most recent call last)",
      "\u001b[0;32m<ipython-input-45-acd6caf2f4c3>\u001b[0m in \u001b[0;36m<module>\u001b[0;34m\u001b[0m\n\u001b[1;32m      5\u001b[0m \u001b[0;34m\u001b[0m\u001b[0m\n\u001b[1;32m      6\u001b[0m \u001b[0;31m#generate_single_year_of_games(2020, seeds_arr, slots_arr, tourney_arr, column_names, predictor_dfs)\u001b[0m\u001b[0;34m\u001b[0m\u001b[0;34m\u001b[0m\u001b[0;34m\u001b[0m\u001b[0m\n\u001b[0;32m----> 7\u001b[0;31m \u001b[0mget_tourney_results\u001b[0m\u001b[0;34m(\u001b[0m\u001b[0mseeds_arr\u001b[0m\u001b[0;34m[\u001b[0m\u001b[0;36m0\u001b[0m\u001b[0;34m]\u001b[0m\u001b[0;34m,\u001b[0m \u001b[0mslots_arr\u001b[0m\u001b[0;34m[\u001b[0m\u001b[0;36m0\u001b[0m\u001b[0;34m]\u001b[0m\u001b[0;34m,\u001b[0m \u001b[0mtourney_arr\u001b[0m\u001b[0;34m[\u001b[0m\u001b[0;36m0\u001b[0m\u001b[0;34m]\u001b[0m\u001b[0;34m)\u001b[0m\u001b[0;34m\u001b[0m\u001b[0;34m\u001b[0m\u001b[0m\n\u001b[0m\u001b[1;32m      8\u001b[0m \u001b[0;31m#mmc.Tournament(seeds_arr[0], slots_arr[0], mmm.ActualTournament(tourney_arr[0]))\u001b[0m\u001b[0;34m\u001b[0m\u001b[0;34m\u001b[0m\u001b[0;34m\u001b[0m\u001b[0m\n\u001b[1;32m      9\u001b[0m \u001b[0;34m\u001b[0m\u001b[0m\n",
      "\u001b[0;32m<ipython-input-11-69824c9f479b>\u001b[0m in \u001b[0;36mget_tourney_results\u001b[0;34m(seeds, slots, raw_data)\u001b[0m\n\u001b[1;32m      1\u001b[0m \u001b[0;32mdef\u001b[0m \u001b[0mget_tourney_results\u001b[0m\u001b[0;34m(\u001b[0m\u001b[0mseeds\u001b[0m\u001b[0;34m,\u001b[0m \u001b[0mslots\u001b[0m\u001b[0;34m,\u001b[0m \u001b[0mraw_data\u001b[0m\u001b[0;34m)\u001b[0m\u001b[0;34m:\u001b[0m\u001b[0;34m\u001b[0m\u001b[0;34m\u001b[0m\u001b[0m\n\u001b[0;32m----> 2\u001b[0;31m     \u001b[0mtourney\u001b[0m \u001b[0;34m=\u001b[0m \u001b[0mmmc\u001b[0m\u001b[0;34m.\u001b[0m\u001b[0mTournament\u001b[0m\u001b[0;34m(\u001b[0m\u001b[0mseeds\u001b[0m\u001b[0;34m,\u001b[0m \u001b[0mslots\u001b[0m\u001b[0;34m,\u001b[0m \u001b[0mmmm\u001b[0m\u001b[0;34m.\u001b[0m\u001b[0mActualTournament\u001b[0m\u001b[0;34m(\u001b[0m\u001b[0mraw_data\u001b[0m\u001b[0;34m)\u001b[0m\u001b[0;34m)\u001b[0m\u001b[0;34m\u001b[0m\u001b[0;34m\u001b[0m\u001b[0m\n\u001b[0m\u001b[1;32m      3\u001b[0m     \u001b[0;32mreturn\u001b[0m \u001b[0mtourney\u001b[0m\u001b[0;34m.\u001b[0m\u001b[0mentire_bracket\u001b[0m\u001b[0;34m\u001b[0m\u001b[0;34m\u001b[0m\u001b[0m\n\u001b[1;32m      4\u001b[0m \u001b[0;34m\u001b[0m\u001b[0m\n\u001b[1;32m      5\u001b[0m \u001b[0;31m# get single years worth of games\u001b[0m\u001b[0;34m\u001b[0m\u001b[0;34m\u001b[0m\u001b[0;34m\u001b[0m\u001b[0m\n",
      "\u001b[0;32m~/Projects/march_madness/march_madness_classes.py\u001b[0m in \u001b[0;36m__init__\u001b[0;34m(self, seeds, slots, model, include_scoring_dif)\u001b[0m\n\u001b[1;32m     58\u001b[0m \u001b[0;34m\u001b[0m\u001b[0m\n\u001b[1;32m     59\u001b[0m             \u001b[0;31m# play in game\u001b[0m\u001b[0;34m\u001b[0m\u001b[0;34m\u001b[0m\u001b[0;34m\u001b[0m\u001b[0m\n\u001b[0;32m---> 60\u001b[0;31m             \u001b[0;32mif\u001b[0m \u001b[0mlen\u001b[0m\u001b[0;34m(\u001b[0m\u001b[0mteam_1\u001b[0m\u001b[0;34m)\u001b[0m \u001b[0;34m==\u001b[0m \u001b[0;36m0\u001b[0m\u001b[0;34m:\u001b[0m\u001b[0;34m\u001b[0m\u001b[0;34m\u001b[0m\u001b[0m\n\u001b[0m\u001b[1;32m     61\u001b[0m                 \u001b[0;31m# get seeds\u001b[0m\u001b[0;34m\u001b[0m\u001b[0;34m\u001b[0m\u001b[0;34m\u001b[0m\u001b[0m\n\u001b[1;32m     62\u001b[0m                 \u001b[0mteam_1_a_seed\u001b[0m \u001b[0;34m=\u001b[0m \u001b[0mteam_1_seed\u001b[0m \u001b[0;34m+\u001b[0m \u001b[0;34m\"a\"\u001b[0m\u001b[0;34m\u001b[0m\u001b[0;34m\u001b[0m\u001b[0m\n",
      "\u001b[0;31mTypeError\u001b[0m: object of type 'numpy.int64' has no len()"
     ]
    }
   ],
   "source": [
    "## Testing block\n",
    "#print(slots_arr)\n",
    "#print(slots[\"Slot\"])\n",
    "#round_1_slots = slots[slots[\"Slot\"].str.contains(\"R1\")]\n",
    "\n",
    "#generate_single_year_of_games(2020, seeds_arr, slots_arr, tourney_arr, column_names, predictor_dfs)\n",
    "get_tourney_results(seeds_arr[0], slots_arr[0], tourney_arr[0])\n",
    "#mmc.Tournament(seeds_arr[0], slots_arr[0], mmm.ActualTournament(tourney_arr[0]))\n",
    "\n",
    "#tourney_arr[1]\n",
    "#seeds = seeds_arr[1]\n",
    "#seeds\n",
    "#team_1 = seeds.loc[seeds['Seed'] == 'W01', 'TeamID'].values[0]\n",
    "#team_1"
   ]
  },
  {
   "cell_type": "code",
   "execution_count": 22,
   "metadata": {},
   "outputs": [
    {
     "data": {
      "text/plain": [
       "<march_madness_models.ActualTournament at 0x114594cd0>"
      ]
     },
     "execution_count": 22,
     "metadata": {},
     "output_type": "execute_result"
    }
   ],
   "source": [
    "mmm.ActualTournament(tourney_arr[0])"
   ]
  },
  {
   "cell_type": "code",
   "execution_count": 188,
   "metadata": {},
   "outputs": [
    {
     "name": "stdout",
     "output_type": "stream",
     "text": [
      "1181 1290\n",
      "1393 1135\n",
      "1231 1156\n",
      "1328 1318\n",
      "1438 1177\n",
      "1386 1350\n",
      "1298 1409\n",
      "1330 1452\n",
      "1242 1299\n",
      "1276 1103\n",
      "1323 1114\n",
      "1207 1403\n",
      "1277 1449\n",
      "1301 1234\n",
      "1235 1275\n",
      "1239 1396\n",
      "1246 1172\n",
      "1210 1265\n",
      "1272 1123\n",
      "1228 1193\n",
      "1104 1462\n",
      "1345 1261\n",
      "1439 1437\n",
      "1443 1304\n",
      "1385 1286\n",
      "1257 1180\n",
      "1314 1428\n",
      "1424 1419\n",
      "1268 1337\n",
      "1412 1281\n",
      "1133 1431\n",
      "1120 1112\n"
     ]
    }
   ],
   "source": [
    "slots = slots_arr[0]\n",
    "round_1_slots = slots[slots[\"Slot\"].str.contains(\"R1\")]\n",
    "        \n",
    "# generate first round games\n",
    "for index, slot in round_1_slots.iloc[:32, :].iterrows():\n",
    "    #print(slot)\n",
    "\n",
    "    # get seeds\n",
    "    team_1_seed = slot[\"StrongSeed\"]\n",
    "    team_2_seed = slot[\"WeakSeed\"] \n",
    "\n",
    "    # lookup team id\n",
    "    team_1 = seeds.loc[seeds[\"Seed\"] == team_1_seed, \"TeamID\"].values[0]\n",
    "    team_2 = seeds.loc[seeds[\"Seed\"] == team_2_seed, \"TeamID\"].values[0]\n",
    "    \n",
    "    print(team_1, team_2)"
   ]
  },
  {
   "cell_type": "code",
   "execution_count": 190,
   "metadata": {
    "scrolled": true
   },
   "outputs": [],
   "source": [
    "#pred, resp = generate_multiple_years_of_games(range(1985, 2001), \n",
    "#                                              seeds_arr, \n",
    "#                                              slots_arr, \n",
    "#                                              tourney_arr, \n",
    "#                                              column_names, \n",
    "#                                              predictor_dfs)"
   ]
  },
  {
   "cell_type": "code",
   "execution_count": 57,
   "metadata": {},
   "outputs": [],
   "source": [
    "pred_df = pred.reset_index(drop=True)"
   ]
  },
  {
   "cell_type": "code",
   "execution_count": 58,
   "metadata": {},
   "outputs": [],
   "source": [
    "resp_df = pd.DataFrame(data=resp, columns=[\"min_index_win\"])"
   ]
  },
  {
   "cell_type": "code",
   "execution_count": 59,
   "metadata": {},
   "outputs": [
    {
     "name": "stdout",
     "output_type": "stream",
     "text": [
      "RangeIndex(start=0, stop=1008, step=1)\n",
      "RangeIndex(start=0, stop=1008, step=1)\n"
     ]
    }
   ],
   "source": [
    "print pred_df.index\n",
    "print resp_df.index"
   ]
  },
  {
   "cell_type": "markdown",
   "metadata": {},
   "source": [
    "Try Fitting a Head to Head Model\n",
    "\n",
    "#### NOTE: We now use a windowing approach for train test split ---> see Model Selection"
   ]
  },
  {
   "cell_type": "code",
   "execution_count": 54,
   "metadata": {
    "collapsed": true
   },
   "outputs": [],
   "source": [
    "from sklearn.cross_validation import train_test_split"
   ]
  },
  {
   "cell_type": "code",
   "execution_count": 60,
   "metadata": {},
   "outputs": [],
   "source": [
    "train_index, cross_index = train_test_split(pred_df.index, test_size = .25)"
   ]
  },
  {
   "cell_type": "code",
   "execution_count": 61,
   "metadata": {},
   "outputs": [],
   "source": [
    "train_x = pred_df.loc[train_index]\n",
    "train_y = resp_df.loc[train_index]\n",
    "cross_x = pred_df.loc[cross_index]\n",
    "cross_y = resp_df.loc[cross_index]"
   ]
  },
  {
   "cell_type": "code",
   "execution_count": 62,
   "metadata": {},
   "outputs": [],
   "source": [
    "from sklearn.linear_model import LogisticRegression as LogReg\n",
    "from sklearn.discriminant_analysis import LinearDiscriminantAnalysis as LDA\n",
    "from sklearn.discriminant_analysis import QuadraticDiscriminantAnalysis as QDA"
   ]
  },
  {
   "cell_type": "code",
   "execution_count": 63,
   "metadata": {
    "collapsed": true
   },
   "outputs": [],
   "source": [
    "logistic_model = LogReg(C=100)\n",
    "lda_model = LDA()\n",
    "qda_model = QDA()"
   ]
  },
  {
   "cell_type": "code",
   "execution_count": 66,
   "metadata": {},
   "outputs": [
    {
     "data": {
      "text/plain": [
       "0.74603174603174605"
      ]
     },
     "execution_count": 66,
     "metadata": {},
     "output_type": "execute_result"
    }
   ],
   "source": [
    "model = logistic_model\n",
    "model.fit(train_x.iloc[:, 2:], train_y.values.T[0])\n",
    "model.score(cross_x.iloc[:, 2:], cross_y)"
   ]
  },
  {
   "cell_type": "code",
   "execution_count": 67,
   "metadata": {},
   "outputs": [
    {
     "data": {
      "text/plain": [
       "0.73809523809523814"
      ]
     },
     "execution_count": 67,
     "metadata": {},
     "output_type": "execute_result"
    }
   ],
   "source": [
    "model = lda_model\n",
    "model.fit(train_x.iloc[:, 2:], train_y.values.T[0])\n",
    "model.score(cross_x.iloc[:, 2:], cross_y)"
   ]
  },
  {
   "cell_type": "code",
   "execution_count": 68,
   "metadata": {},
   "outputs": [
    {
     "data": {
      "text/html": [
       "<div>\n",
       "<table border=\"1\" class=\"dataframe\">\n",
       "  <thead>\n",
       "    <tr style=\"text-align: right;\">\n",
       "      <th></th>\n",
       "      <th>min_index_id</th>\n",
       "      <th>max_index_id</th>\n",
       "      <th>wins_vs_tourney_teams dif</th>\n",
       "      <th>stationary dif</th>\n",
       "    </tr>\n",
       "  </thead>\n",
       "  <tbody>\n",
       "    <tr>\n",
       "      <th>632</th>\n",
       "      <td>1330.0</td>\n",
       "      <td>1437.0</td>\n",
       "      <td>-6.0</td>\n",
       "      <td>-0.002784</td>\n",
       "    </tr>\n",
       "    <tr>\n",
       "      <th>61</th>\n",
       "      <td>1272.0</td>\n",
       "      <td>1437.0</td>\n",
       "      <td>0.0</td>\n",
       "      <td>0.001299</td>\n",
       "    </tr>\n",
       "    <tr>\n",
       "      <th>941</th>\n",
       "      <td>1163.0</td>\n",
       "      <td>1211.0</td>\n",
       "      <td>8.0</td>\n",
       "      <td>0.003702</td>\n",
       "    </tr>\n",
       "    <tr>\n",
       "      <th>216</th>\n",
       "      <td>1283.0</td>\n",
       "      <td>1424.0</td>\n",
       "      <td>-2.0</td>\n",
       "      <td>-0.003136</td>\n",
       "    </tr>\n",
       "    <tr>\n",
       "      <th>907</th>\n",
       "      <td>1108.0</td>\n",
       "      <td>1390.0</td>\n",
       "      <td>-9.0</td>\n",
       "      <td>-0.005476</td>\n",
       "    </tr>\n",
       "  </tbody>\n",
       "</table>\n",
       "</div>"
      ],
      "text/plain": [
       "     min_index_id  max_index_id  wins_vs_tourney_teams dif  stationary dif\n",
       "632        1330.0        1437.0                       -6.0       -0.002784\n",
       "61         1272.0        1437.0                        0.0        0.001299\n",
       "941        1163.0        1211.0                        8.0        0.003702\n",
       "216        1283.0        1424.0                       -2.0       -0.003136\n",
       "907        1108.0        1390.0                       -9.0       -0.005476"
      ]
     },
     "execution_count": 68,
     "metadata": {},
     "output_type": "execute_result"
    }
   ],
   "source": [
    "train_x.head()"
   ]
  },
  {
   "cell_type": "code",
   "execution_count": 69,
   "metadata": {},
   "outputs": [
    {
     "data": {
      "text/plain": [
       "<matplotlib.text.Text at 0x11cd75c50>"
      ]
     },
     "execution_count": 69,
     "metadata": {},
     "output_type": "execute_result"
    },
    {
     "data": {
      "image/png": "[encoded data removed]",
      "text/plain": [
       "<matplotlib.figure.Figure at 0x11cd432d0>"
      ]
     },
     "metadata": {},
     "output_type": "display_data"
    }
   ],
   "source": [
    "fig = plt.figure(figsize=(8, 5))\n",
    "ax = fig.add_subplot(111)\n",
    "\n",
    "ax.scatter(train_x.iloc[train_y.values.T[0] == 1, 3], train_x.iloc[train_y.values.T[0] == 1, 2], color=\"g\", alpha=.5, label=\"Min Index Win\")\n",
    "ax.scatter(train_x.iloc[train_y.values.T[0] == 0, 3], train_x.iloc[train_y.values.T[0] == 0, 2], color=\"r\", alpha=.5, label=\"Min Index Loss\")\n",
    "ax.legend()\n",
    "\n",
    "ax.set_title(\"Distribution of $\\pi_1-\\pi_2$ and Dominance dif\")\n",
    "ax.set_xlabel(\"$\\pi$ dif\")\n",
    "ax.set_ylabel(\"dominance dif\")"
   ]
  },
  {
   "cell_type": "markdown",
   "metadata": {},
   "source": [
    "#### These are now at march_madness_models.py / march_madness_classes.py"
   ]
  },
  {
   "cell_type": "code",
   "execution_count": 193,
   "metadata": {
    "collapsed": true
   },
   "outputs": [],
   "source": [
    "# see march madness models\n",
    "class ModelPredictor(object):\n",
    "    # init function\n",
    "    def __init__(self, model, dfs_arr, year):\n",
    "        self.model = model\n",
    "        self.dfs_arr = dfs_arr\n",
    "        self.year = year\n",
    "        return\n",
    "    \n",
    "    # head to head predicitons\n",
    "    def predict(self, team_1, team_2):\n",
    "        team_1 = int(team_1)\n",
    "        team_2 = int(team_2)\n",
    "        \n",
    "        # min and max index\n",
    "        min_index_team = min(team_1, team_2)\n",
    "        max_index_team = max(team_1, team_2)\n",
    "        \n",
    "        # get the x values\n",
    "        row = get_predictors_dif(min_index_team, max_index_team, self.year, self.dfs_arr)\n",
    "\n",
    "        # predict under model\n",
    "        y_hat = model.predict(row.reshape(1,-1))\n",
    "        \n",
    "        if y_hat == 1:\n",
    "            return min_index_team\n",
    "        else:\n",
    "            return max_index_team\n",
    "        "
   ]
  },
  {
   "cell_type": "code",
   "execution_count": 194,
   "metadata": {},
   "outputs": [],
   "source": [
    "year = 1992\n",
    "\n",
    "seeds = seeds_arr[year - 1985]\n",
    "slots = slots_arr[year - 1985]\n",
    "resul = tourney_arr[year - 1985]\n",
    "\n",
    "tourney_actual = mmc.Tournament(seeds, slots, mmc.ActualTournament(resul))\n",
    "tourney_actual.simulate_tournament()\n",
    "\n",
    "tourney_top_seed = mmc.Tournament(seeds, slots, mmc.BasicPredictor())\n",
    "tourney_top_seed.simulate_tournament()\n",
    "\n",
    "tourney_model = mmc.Tournament(seeds, slots, ModelPredictor(lda_model, predictor_dfs, year))\n",
    "tourney_model.simulate_tournament()"
   ]
  },
  {
   "cell_type": "code",
   "execution_count": 195,
   "metadata": {},
   "outputs": [
    {
     "name": "stdout",
     "output_type": "stream",
     "text": [
      "Total Points  : 1320\n",
      "\n",
      "Total Accuracy: 46 / 63 = 0.730158730159\n",
      "R1    Accuracy: 26 / 32 = 0.8125\n",
      "R2    Accuracy: 11 / 16 = 0.6875\n",
      "R3    Accuracy: 5 / 8 = 0.625\n",
      "R4    Accuracy: 2 / 4 = 0.5\n",
      "R5    Accuracy: 1 / 2 = 0.5\n",
      "R6    Accuracy: 1 / 1 = 1.0\n"
     ]
    },
    {
     "data": {
      "text/plain": [
       "(1320, 0.7301587301587301)"
      ]
     },
     "execution_count": 195,
     "metadata": {},
     "output_type": "execute_result"
    }
   ],
   "source": [
    "tourney_model.score_model(tourney_actual, print_res=True)"
   ]
  },
  {
   "cell_type": "code",
   "execution_count": 196,
   "metadata": {},
   "outputs": [
    {
     "name": "stdout",
     "output_type": "stream",
     "text": [
      "Total Points  : 1220\n",
      "\n",
      "Total Accuracy: 43 / 63 = 0.68253968254\n",
      "R1    Accuracy: 24 / 32 = 0.75\n",
      "R2    Accuracy: 11 / 16 = 0.6875\n",
      "R3    Accuracy: 5 / 8 = 0.625\n",
      "R4    Accuracy: 1 / 4 = 0.25\n",
      "R5    Accuracy: 1 / 2 = 0.5\n",
      "R6    Accuracy: 1 / 1 = 1.0\n"
     ]
    },
    {
     "data": {
      "text/plain": [
       "(1220, 0.6825396825396826)"
      ]
     },
     "execution_count": 196,
     "metadata": {},
     "output_type": "execute_result"
    }
   ],
   "source": [
    "tourney_top_seed.score_model(tourney_actual, print_res=True)"
   ]
  },
  {
   "cell_type": "code",
   "execution_count": 140,
   "metadata": {
    "collapsed": true
   },
   "outputs": [],
   "source": [
    "score_mod = np.zeros(len(range(1985, 2001)))\n",
    "accur_mod = np.zeros(len(range(1985, 2001)))\n",
    "\n",
    "score_top = np.zeros(len(range(1985, 2001)))\n",
    "accur_top = np.zeros(len(range(1985, 2001)))"
   ]
  },
  {
   "cell_type": "code",
   "execution_count": 141,
   "metadata": {
    "collapsed": true
   },
   "outputs": [],
   "source": [
    "i = 0\n",
    "for year in range(1985, 2001):\n",
    "    seeds = seeds_arr[year - 1985]\n",
    "    slots = slots_arr[year - 1985]\n",
    "    resul = tourney_arr[year - 1985]\n",
    "\n",
    "    tourney_actual = mmc.Tournament(seeds, slots, mmc.ActualTournament(resul))\n",
    "    tourney_actual.simulate_tournament()\n",
    "\n",
    "    tourney_top_seed = mmc.Tournament(seeds, slots, mmc.BasicPredictor())\n",
    "    tourney_top_seed.simulate_tournament()\n",
    "\n",
    "    tourney_model = mmc.Tournament(seeds, slots, ModelPredictor(lda_model, predictor_dfs, year))\n",
    "    tourney_model.simulate_tournament()\n",
    "    \n",
    "    score_mod[i], accur_mod[i] = tourney_model.score_model(tourney_actual, print_res=False)\n",
    "    score_top[i], accur_top[i] = tourney_top_seed.score_model(tourney_actual, print_res=False)\n",
    "    \n",
    "    i = i + 1"
   ]
  },
  {
   "cell_type": "code",
   "execution_count": 142,
   "metadata": {},
   "outputs": [
    {
     "name": "stdout",
     "output_type": "stream",
     "text": [
      "920.0\n",
      "0.650793650794\n"
     ]
    }
   ],
   "source": [
    "print np.mean(score_mod)\n",
    "print np.mean(accur_mod)"
   ]
  },
  {
   "cell_type": "code",
   "execution_count": 143,
   "metadata": {},
   "outputs": [
    {
     "name": "stdout",
     "output_type": "stream",
     "text": [
      "890.0\n",
      "0.64880952381\n"
     ]
    }
   ],
   "source": [
    "print np.mean(score_top)\n",
    "print np.mean(accur_top)"
   ]
  },
  {
   "cell_type": "code",
   "execution_count": null,
   "metadata": {
    "collapsed": true
   },
   "outputs": [],
   "source": []
  }
 ],
 "metadata": {
  "anaconda-cloud": {},
  "kernelspec": {
   "display_name": "Python 3",
   "language": "python",
   "name": "python3"
  },
  "language_info": {
   "codemirror_mode": {
    "name": "ipython",
    "version": 3
   },
   "file_extension": ".py",
   "mimetype": "text/x-python",
   "name": "python",
   "nbconvert_exporter": "python",
   "pygments_lexer": "ipython3",
   "version": "3.7.7"
  }
 },
 "nbformat": 4,
 "nbformat_minor": 1
}
