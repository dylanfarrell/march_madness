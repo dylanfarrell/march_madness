{
 "cells": [
  {
   "cell_type": "markdown",
   "metadata": {},
   "source": [
    "# Data Cleaning- Markov Chain\n",
    "- CS109a Project: Data Driven March Madness\n",
    "- Robert Shaw\n",
    "- See http://www2.isye.gatech.edu/~jsokol/ncaa.pdf\n",
    "\n",
    "In this file, we model the NCAA as a Markov Chain. Each team is represented by a state. The current state of the chain is the current \"best\" team in the country. At each time step, the chain reeevaluates its choice. It chooses another state randomly, and transitions to the other state with probability $p$ and stays in the current state with probability $1 - p$. The probability $p$ is filled by answering the question, given that $i$ beat $j$ by $x$ in the regular season, what is the probability they are better. We will see below how we answer that questions. Thus, better teams will have a higher steady state probability, becuase they will have a lot of heavy edges coming into them. Thus, our ranking is a \"PageRank\"- analogue. See how we do it below."
   ]
  },
  {
   "cell_type": "code",
   "execution_count": 2,
   "metadata": {
    "collapsed": true
   },
   "outputs": [],
   "source": [
    "# import libraries\n",
    "import numpy as np\n",
    "import pandas as pd\n",
    "import matplotlib\n",
    "import matplotlib.pyplot as plt\n",
    "%matplotlib inline"
   ]
  },
  {
   "cell_type": "code",
   "execution_count": 3,
   "metadata": {
    "collapsed": true
   },
   "outputs": [],
   "source": [
    "# read datasets\n",
    "regular_seasons = pd.read_csv(\"datasets/kaggle_data/RegularSeasonCompactResults.csv\")\n",
    "teams = pd.read_csv(\"datasets/kaggle_data/Teams.csv\")"
   ]
  },
  {
   "cell_type": "code",
   "execution_count": 4,
   "metadata": {
    "collapsed": false
   },
   "outputs": [
    {
     "data": {
      "text/html": [
       "<div>\n",
       "<table border=\"1\" class=\"dataframe\">\n",
       "  <thead>\n",
       "    <tr style=\"text-align: right;\">\n",
       "      <th></th>\n",
       "      <th>Season</th>\n",
       "      <th>Daynum</th>\n",
       "      <th>Wteam</th>\n",
       "      <th>Wscore</th>\n",
       "      <th>Lteam</th>\n",
       "      <th>Lscore</th>\n",
       "      <th>Wloc</th>\n",
       "      <th>Numot</th>\n",
       "    </tr>\n",
       "  </thead>\n",
       "  <tbody>\n",
       "    <tr>\n",
       "      <th>0</th>\n",
       "      <td>1985</td>\n",
       "      <td>20</td>\n",
       "      <td>1228</td>\n",
       "      <td>81</td>\n",
       "      <td>1328</td>\n",
       "      <td>64</td>\n",
       "      <td>N</td>\n",
       "      <td>0</td>\n",
       "    </tr>\n",
       "    <tr>\n",
       "      <th>1</th>\n",
       "      <td>1985</td>\n",
       "      <td>25</td>\n",
       "      <td>1106</td>\n",
       "      <td>77</td>\n",
       "      <td>1354</td>\n",
       "      <td>70</td>\n",
       "      <td>H</td>\n",
       "      <td>0</td>\n",
       "    </tr>\n",
       "    <tr>\n",
       "      <th>2</th>\n",
       "      <td>1985</td>\n",
       "      <td>25</td>\n",
       "      <td>1112</td>\n",
       "      <td>63</td>\n",
       "      <td>1223</td>\n",
       "      <td>56</td>\n",
       "      <td>H</td>\n",
       "      <td>0</td>\n",
       "    </tr>\n",
       "    <tr>\n",
       "      <th>3</th>\n",
       "      <td>1985</td>\n",
       "      <td>25</td>\n",
       "      <td>1165</td>\n",
       "      <td>70</td>\n",
       "      <td>1432</td>\n",
       "      <td>54</td>\n",
       "      <td>H</td>\n",
       "      <td>0</td>\n",
       "    </tr>\n",
       "    <tr>\n",
       "      <th>4</th>\n",
       "      <td>1985</td>\n",
       "      <td>25</td>\n",
       "      <td>1192</td>\n",
       "      <td>86</td>\n",
       "      <td>1447</td>\n",
       "      <td>74</td>\n",
       "      <td>H</td>\n",
       "      <td>0</td>\n",
       "    </tr>\n",
       "  </tbody>\n",
       "</table>\n",
       "</div>"
      ],
      "text/plain": [
       "   Season  Daynum  Wteam  Wscore  Lteam  Lscore Wloc  Numot\n",
       "0    1985      20   1228      81   1328      64    N      0\n",
       "1    1985      25   1106      77   1354      70    H      0\n",
       "2    1985      25   1112      63   1223      56    H      0\n",
       "3    1985      25   1165      70   1432      54    H      0\n",
       "4    1985      25   1192      86   1447      74    H      0"
      ]
     },
     "execution_count": 4,
     "metadata": {},
     "output_type": "execute_result"
    }
   ],
   "source": [
    "regular_seasons.head()"
   ]
  },
  {
   "cell_type": "code",
   "execution_count": 5,
   "metadata": {
    "collapsed": true
   },
   "outputs": [],
   "source": [
    "# filtration function\n",
    "def filter_season(data, season):\n",
    "    return data[data[\"Season\"] == season]\n",
    "    \n",
    "def filter_into_seasons(data):\n",
    "    # buffer to hold list of seasons\n",
    "    season_arr = []\n",
    "    \n",
    "    # min and max\n",
    "    max_season = data[\"Season\"].max()\n",
    "    min_season = data[\"Season\"].min()\n",
    "    \n",
    "    # filter\n",
    "    for season in range(min_season, max_season + 1):\n",
    "        season_arr.append(filter_season(data, season))\n",
    "        \n",
    "    return season_arr"
   ]
  },
  {
   "cell_type": "code",
   "execution_count": 6,
   "metadata": {
    "collapsed": false
   },
   "outputs": [],
   "source": [
    "# filtered seasons\n",
    "seasons = filter_into_seasons(regular_seasons)"
   ]
  },
  {
   "cell_type": "markdown",
   "metadata": {},
   "source": [
    "---"
   ]
  },
  {
   "cell_type": "markdown",
   "metadata": {},
   "source": [
    "### 1) Create Home and Home Pairs\n",
    "\n",
    "To see the transistion matrix, we need to find out the probability of being better giving a scoring difference $x$. To do this, we extract teams that played 2 times in a given year, and fit a logisitic model to the probability of a win in the second game, given the score in the first game. To do this, we first find all pairs of games."
   ]
  },
  {
   "cell_type": "markdown",
   "metadata": {},
   "source": [
    "Note: The code below is slow and not optimized."
   ]
  },
  {
   "cell_type": "code",
   "execution_count": 7,
   "metadata": {
    "collapsed": false,
    "scrolled": false
   },
   "outputs": [
    {
     "name": "stdout",
     "output_type": "stream",
     "text": [
      "0\n",
      "1\n",
      "2\n",
      "3\n",
      "4\n",
      "5\n",
      "6\n",
      "7\n",
      "8\n",
      "9\n",
      "10\n",
      "11\n",
      "12\n",
      "13\n",
      "14\n",
      "15\n",
      "16\n",
      "17\n",
      "18\n",
      "19\n",
      "20\n",
      "21\n",
      "22\n",
      "23\n",
      "24\n",
      "25\n",
      "26\n",
      "27\n",
      "28\n",
      "29\n",
      "30\n",
      "31\n"
     ]
    }
   ],
   "source": [
    "home_and_home_list = []\n",
    "\n",
    "i = 0\n",
    "for season in seasons:\n",
    "    print i\n",
    "    \n",
    "    for index, row in season.iterrows():\n",
    "        w_team = row[\"Wteam\"]\n",
    "        l_team = row[\"Lteam\"]\n",
    "        w_loc  = row[\"Wloc\"]\n",
    "        \n",
    "        # construct location\n",
    "        if w_loc == \"H\":\n",
    "            l_loc = \"A\"\n",
    "        elif w_loc == \"A\":\n",
    "            l_loc = \"H\"\n",
    "        # ignore neutral site\n",
    "        elif w_loc == \"N\":\n",
    "            l_loc = \"N/a\"\n",
    "            w_loc = \"N/a\"\n",
    "            \n",
    "        # wteam wins both \n",
    "        case_1 = ((season['Wteam'] == w_team) & (season['Lteam'] == l_team) & (season['Wloc'] == l_loc))\n",
    "        # wteam wins one and lteam wins the other\n",
    "        case_2 = ((season['Wteam'] == l_team) & (season['Lteam'] == w_team) & (season['Wloc'] == w_loc))\n",
    " \n",
    "        # opposite home and home game\n",
    "        games = season[(case_1 | case_2)].index\n",
    "        \n",
    "        # if there is a home and home\n",
    "        if games.shape[0] > 0:\n",
    "   \n",
    "            # add to pairs list\n",
    "            min_index = min(index, games.values[0])\n",
    "            max_index = max(index, games.values[0])\n",
    "            home_and_home_list.append((min_index, max_index))\n",
    "\n",
    "    i = i + 1"
   ]
  },
  {
   "cell_type": "code",
   "execution_count": 8,
   "metadata": {
    "collapsed": false
   },
   "outputs": [],
   "source": [
    "# generate pairs\n",
    "home_and_home_pairs = pd.DataFrame(data = home_and_home_list, columns=[\"game1\", \"game2\"])"
   ]
  },
  {
   "cell_type": "code",
   "execution_count": null,
   "metadata": {
    "collapsed": true
   },
   "outputs": [],
   "source": [
    "home_and_home_pairs.to_csv(\"datasets/our_data/home_and_home_pairs_full.csv\")"
   ]
  },
  {
   "cell_type": "code",
   "execution_count": 9,
   "metadata": {
    "collapsed": true
   },
   "outputs": [],
   "source": [
    "# drop dupicate rows\n",
    "home_and_home_pairs_unique = home_and_home_pairs.drop_duplicates()"
   ]
  },
  {
   "cell_type": "code",
   "execution_count": 10,
   "metadata": {
    "collapsed": false
   },
   "outputs": [
    {
     "name": "stdout",
     "output_type": "stream",
     "text": [
      "   game1  game2\n",
      "0      1   1262\n"
     ]
    }
   ],
   "source": [
    "# test, see no more duplicates remain\n",
    "print home_and_home_pairs_unique[((home_and_home_pairs_unique['game1'] == 1)&(home_and_home_pairs_unique['game2'] == 1262))]"
   ]
  },
  {
   "cell_type": "code",
   "execution_count": null,
   "metadata": {
    "collapsed": false
   },
   "outputs": [],
   "source": [
    "# export to csv\n",
    "home_and_home = home_and_home_pairs_unique\n",
    "home_and_home.to_csv(\"datasets/our_data/home_and_home_pairs.csv\")"
   ]
  },
  {
   "cell_type": "code",
   "execution_count": 17,
   "metadata": {
    "collapsed": false
   },
   "outputs": [],
   "source": [
    "home_and_home = home_and_home_pairs_unique\n",
    "home_and_home = home_and_home.reset_index(drop=True)"
   ]
  },
  {
   "cell_type": "code",
   "execution_count": 18,
   "metadata": {
    "collapsed": false
   },
   "outputs": [
    {
     "data": {
      "text/html": [
       "<div>\n",
       "<table border=\"1\" class=\"dataframe\">\n",
       "  <thead>\n",
       "    <tr style=\"text-align: right;\">\n",
       "      <th></th>\n",
       "      <th>game1</th>\n",
       "      <th>game2</th>\n",
       "      <th>home_x</th>\n",
       "      <th>away_x</th>\n",
       "    </tr>\n",
       "  </thead>\n",
       "  <tbody>\n",
       "    <tr>\n",
       "      <th>0</th>\n",
       "      <td>1</td>\n",
       "      <td>1262</td>\n",
       "      <td>0.0</td>\n",
       "      <td>0.0</td>\n",
       "    </tr>\n",
       "    <tr>\n",
       "      <th>1</th>\n",
       "      <td>4</td>\n",
       "      <td>1762</td>\n",
       "      <td>0.0</td>\n",
       "      <td>0.0</td>\n",
       "    </tr>\n",
       "    <tr>\n",
       "      <th>2</th>\n",
       "      <td>8</td>\n",
       "      <td>641</td>\n",
       "      <td>0.0</td>\n",
       "      <td>0.0</td>\n",
       "    </tr>\n",
       "    <tr>\n",
       "      <th>3</th>\n",
       "      <td>9</td>\n",
       "      <td>732</td>\n",
       "      <td>0.0</td>\n",
       "      <td>0.0</td>\n",
       "    </tr>\n",
       "    <tr>\n",
       "      <th>4</th>\n",
       "      <td>35</td>\n",
       "      <td>739</td>\n",
       "      <td>0.0</td>\n",
       "      <td>0.0</td>\n",
       "    </tr>\n",
       "  </tbody>\n",
       "</table>\n",
       "</div>"
      ],
      "text/plain": [
       "   game1  game2  home_x  away_x\n",
       "0      1   1262     0.0     0.0\n",
       "1      4   1762     0.0     0.0\n",
       "2      8    641     0.0     0.0\n",
       "3      9    732     0.0     0.0\n",
       "4     35    739     0.0     0.0"
      ]
     },
     "execution_count": 18,
     "metadata": {},
     "output_type": "execute_result"
    }
   ],
   "source": [
    "home_and_home[\"home_x\"] = np.zeros(home_and_home.shape[0])\n",
    "home_and_home[\"away_x\"] = np.zeros(home_and_home.shape[0])\n",
    "\n",
    "home_and_home.head()"
   ]
  },
  {
   "cell_type": "markdown",
   "metadata": {},
   "source": [
    "---"
   ]
  },
  {
   "cell_type": "markdown",
   "metadata": {},
   "source": [
    "### 2) Get Home Team Results, Away Team Results\n",
    "- Get the scoring differences to fill in the home_x, away_x cols."
   ]
  },
  {
   "cell_type": "code",
   "execution_count": 19,
   "metadata": {
    "collapsed": false,
    "scrolled": true
   },
   "outputs": [
    {
     "name": "stdout",
     "output_type": "stream",
     "text": [
      "0\n",
      "100\n",
      "200\n",
      "300\n",
      "400\n",
      "500\n",
      "600\n",
      "700\n",
      "800\n",
      "900\n",
      "1000\n",
      "1100\n",
      "1200\n",
      "1300\n",
      "1400\n",
      "1500\n",
      "1600\n",
      "1700\n",
      "1800\n",
      "1900\n",
      "2000\n",
      "2100\n",
      "2200\n",
      "2300\n",
      "2400\n",
      "2500\n",
      "2600\n",
      "2700\n",
      "2800\n",
      "2900\n",
      "3000\n",
      "3100\n",
      "3200\n",
      "3300\n",
      "3400\n",
      "3500\n",
      "3600\n",
      "3700\n",
      "3800\n",
      "3900\n",
      "4000\n",
      "4100\n",
      "4200\n",
      "4300\n",
      "4400\n",
      "4500\n",
      "4600\n",
      "4700\n",
      "4800\n",
      "4900\n",
      "5000\n",
      "5100\n",
      "5200\n",
      "5300\n",
      "5400\n",
      "5500\n",
      "5600\n",
      "5700\n",
      "5800\n",
      "5900\n",
      "6000\n",
      "6100\n",
      "6200\n",
      "6300\n",
      "6400\n",
      "6500\n",
      "6600\n",
      "6700\n",
      "6800\n",
      "6900\n",
      "7000\n",
      "7100\n",
      "7200\n",
      "7300\n",
      "7400\n",
      "7500\n",
      "7600\n",
      "7700\n",
      "7800\n",
      "7900\n",
      "8000\n",
      "8100\n",
      "8200\n",
      "8300\n",
      "8400\n",
      "8500\n",
      "8600\n",
      "8700\n",
      "8800\n",
      "8900\n",
      "9000\n",
      "9100\n",
      "9200\n",
      "9300\n",
      "9400\n",
      "9500\n",
      "9600\n",
      "9700\n",
      "9800\n",
      "9900\n",
      "10000\n",
      "10100\n",
      "10200\n",
      "10300\n",
      "10400\n",
      "10500\n",
      "10600\n",
      "10700\n",
      "10800\n",
      "10900\n",
      "11000\n",
      "11100\n",
      "11200\n",
      "11300\n",
      "11400\n",
      "11500\n",
      "11600\n",
      "11700\n",
      "11800\n",
      "11900\n",
      "12000\n",
      "12100\n",
      "12200\n",
      "12300\n",
      "12400\n",
      "12500\n",
      "12600\n",
      "12700\n",
      "12800\n",
      "12900\n",
      "13000\n",
      "13100\n",
      "13200\n",
      "13300\n",
      "13400\n",
      "13500\n",
      "13600\n",
      "13700\n",
      "13800\n",
      "13900\n",
      "14000\n",
      "14100\n",
      "14200\n",
      "14300\n",
      "14400\n",
      "14500\n",
      "14600\n",
      "14700\n",
      "14800\n",
      "14900\n",
      "15000\n",
      "15100\n",
      "15200\n",
      "15300\n",
      "15400\n",
      "15500\n",
      "15600\n",
      "15700\n",
      "15800\n",
      "15900\n",
      "16000\n",
      "16100\n",
      "16200\n",
      "16300\n",
      "16400\n",
      "16500\n",
      "16600\n",
      "16700\n",
      "16800\n",
      "16900\n",
      "17000\n",
      "17100\n",
      "17200\n",
      "17300\n",
      "17400\n",
      "17500\n",
      "17600\n",
      "17700\n",
      "17800\n",
      "17900\n",
      "18000\n",
      "18100\n",
      "18200\n",
      "18300\n",
      "18400\n",
      "18500\n",
      "18600\n",
      "18700\n",
      "18800\n",
      "18900\n",
      "19000\n",
      "19100\n",
      "19200\n",
      "19300\n",
      "19400\n",
      "19500\n",
      "19600\n",
      "19700\n",
      "19800\n",
      "19900\n",
      "20000\n",
      "20100\n",
      "20200\n",
      "20300\n",
      "20400\n",
      "20500\n",
      "20600\n",
      "20700\n",
      "20800\n",
      "20900\n",
      "21000\n",
      "21100\n",
      "21200\n",
      "21300\n",
      "21400\n",
      "21500\n",
      "21600\n",
      "21700\n",
      "21800\n",
      "21900\n",
      "22000\n",
      "22100\n",
      "22200\n",
      "22300\n",
      "22400\n",
      "22500\n",
      "22600\n",
      "22700\n",
      "22800\n",
      "22900\n",
      "23000\n",
      "23100\n",
      "23200\n",
      "23300\n",
      "23400\n",
      "23500\n",
      "23600\n",
      "23700\n",
      "23800\n",
      "23900\n",
      "24000\n",
      "24100\n",
      "24200\n",
      "24300\n",
      "24400\n",
      "24500\n",
      "24600\n",
      "24700\n",
      "24800\n",
      "24900\n",
      "25000\n",
      "25100\n",
      "25200\n",
      "25300\n",
      "25400\n",
      "25500\n",
      "25600\n",
      "25700\n",
      "25800\n",
      "25900\n",
      "26000\n",
      "26100\n",
      "26200\n",
      "26300\n",
      "26400\n",
      "26500\n",
      "26600\n",
      "26700\n",
      "26800\n",
      "26900\n",
      "27000\n",
      "27100\n",
      "27200\n",
      "27300\n",
      "27400\n",
      "27500\n",
      "27600\n",
      "27700\n",
      "27800\n",
      "27900\n",
      "28000\n",
      "28100\n",
      "28200\n",
      "28300\n",
      "28400\n",
      "28500\n",
      "28600\n",
      "28700\n",
      "28800\n",
      "28900\n",
      "29000\n",
      "29100\n",
      "29200\n",
      "29300\n",
      "29400\n",
      "29500\n",
      "29600\n",
      "29700\n",
      "29800\n",
      "29900\n",
      "30000\n",
      "30100\n",
      "30200\n",
      "30300\n",
      "30400\n",
      "30500\n",
      "30600\n",
      "30700\n",
      "30800\n",
      "30900\n",
      "31000\n",
      "31100\n",
      "31200\n",
      "31300\n",
      "31400\n",
      "31500\n",
      "31600\n",
      "31700\n",
      "31800\n",
      "31900\n",
      "32000\n",
      "32100\n",
      "32200\n",
      "32300\n",
      "32400\n",
      "32500\n",
      "32600\n",
      "32700\n",
      "32800\n",
      "32900\n",
      "33000\n",
      "33100\n",
      "33200\n",
      "33300\n",
      "33400\n",
      "33500\n",
      "33600\n",
      "33700\n",
      "33800\n",
      "33900\n",
      "34000\n",
      "34100\n",
      "34200\n",
      "34300\n",
      "34400\n",
      "34500\n",
      "34600\n",
      "34700\n",
      "34800\n",
      "34900\n",
      "35000\n",
      "35100\n",
      "35200\n",
      "35300\n",
      "35400\n",
      "35500\n",
      "35600\n",
      "35700\n",
      "35800\n",
      "35900\n",
      "36000\n",
      "36100\n",
      "36200\n",
      "36300\n",
      "36400\n",
      "36500\n",
      "36600\n",
      "36700\n",
      "36800\n",
      "36900\n",
      "37000\n",
      "37100\n",
      "37200\n",
      "37300\n",
      "37400\n",
      "37500\n",
      "37600\n",
      "37700\n",
      "37800\n",
      "37900\n",
      "38000\n",
      "38100\n",
      "38200\n",
      "38300\n",
      "38400\n",
      "38500\n",
      "38600\n",
      "38700\n",
      "38800\n",
      "38900\n",
      "39000\n"
     ]
    }
   ],
   "source": [
    "# iterate games\n",
    "for index, pair in home_and_home.iterrows():\n",
    "    if index % 100 == 0:\n",
    "        print index\n",
    "    \n",
    "    # games\n",
    "    game_1 = regular_seasons.loc[pair[0]]\n",
    "    game_2 = regular_seasons.loc[pair[1]]\n",
    "    \n",
    "    # game 1 scoring dif\n",
    "    if game_1[\"Wloc\"] == \"H\":\n",
    "        # home team wins game 1\n",
    "        game_1_dif = game_1[\"Wscore\"] - game_1[\"Lscore\"]\n",
    "    else:\n",
    "        # away team wins game 1\n",
    "        game_1_dif = game_1[\"Lscore\"] - game_1[\"Wscore\"]\n",
    "    \n",
    "    # game 2 scoring dif\n",
    "    if game_2[\"Wloc\"] == \"H\":\n",
    "        # home team wins game 2\n",
    "        game_2_dif = game_2[\"Lscore\"] - game_2[\"Wscore\"]\n",
    "    else:\n",
    "        # away team wins game 2\n",
    "        game_2_dif = game_2[\"Wscore\"] - game_2[\"Lscore\"]\n",
    "    \n",
    "    home_and_home.loc[index, \"home_x\"] = game_1_dif\n",
    "    home_and_home.loc[index, \"away_x\"]= game_2_dif"
   ]
  },
  {
   "cell_type": "code",
   "execution_count": 20,
   "metadata": {
    "collapsed": false
   },
   "outputs": [
    {
     "data": {
      "text/html": [
       "<div>\n",
       "<table border=\"1\" class=\"dataframe\">\n",
       "  <thead>\n",
       "    <tr style=\"text-align: right;\">\n",
       "      <th></th>\n",
       "      <th>game1</th>\n",
       "      <th>game2</th>\n",
       "      <th>home_x</th>\n",
       "      <th>away_x</th>\n",
       "    </tr>\n",
       "  </thead>\n",
       "  <tbody>\n",
       "    <tr>\n",
       "      <th>0</th>\n",
       "      <td>1</td>\n",
       "      <td>1262</td>\n",
       "      <td>7.0</td>\n",
       "      <td>-5.0</td>\n",
       "    </tr>\n",
       "    <tr>\n",
       "      <th>1</th>\n",
       "      <td>4</td>\n",
       "      <td>1762</td>\n",
       "      <td>12.0</td>\n",
       "      <td>10.0</td>\n",
       "    </tr>\n",
       "    <tr>\n",
       "      <th>2</th>\n",
       "      <td>8</td>\n",
       "      <td>641</td>\n",
       "      <td>18.0</td>\n",
       "      <td>11.0</td>\n",
       "    </tr>\n",
       "    <tr>\n",
       "      <th>3</th>\n",
       "      <td>9</td>\n",
       "      <td>732</td>\n",
       "      <td>8.0</td>\n",
       "      <td>-9.0</td>\n",
       "    </tr>\n",
       "    <tr>\n",
       "      <th>4</th>\n",
       "      <td>35</td>\n",
       "      <td>739</td>\n",
       "      <td>45.0</td>\n",
       "      <td>-8.0</td>\n",
       "    </tr>\n",
       "  </tbody>\n",
       "</table>\n",
       "</div>"
      ],
      "text/plain": [
       "   game1  game2  home_x  away_x\n",
       "0      1   1262     7.0    -5.0\n",
       "1      4   1762    12.0    10.0\n",
       "2      8    641    18.0    11.0\n",
       "3      9    732     8.0    -9.0\n",
       "4     35    739    45.0    -8.0"
      ]
     },
     "execution_count": 20,
     "metadata": {},
     "output_type": "execute_result"
    }
   ],
   "source": [
    "home_and_home.head()"
   ]
  },
  {
   "cell_type": "code",
   "execution_count": 21,
   "metadata": {
    "collapsed": false
   },
   "outputs": [],
   "source": [
    "# convert to 0-1\n",
    "home_and_home[\"away_win\"] = np.zeros(home_and_home.shape[0])\n",
    "for index, pair in home_and_home.iterrows():\n",
    "    if pair[\"away_x\"] > 0:\n",
    "        home_and_home.loc[index, \"away_win\"] = 1\n",
    "    else:\n",
    "        home_and_home.loc[index, \"away_win\"] = 0"
   ]
  },
  {
   "cell_type": "code",
   "execution_count": 22,
   "metadata": {
    "collapsed": false
   },
   "outputs": [
    {
     "data": {
      "text/html": [
       "<div>\n",
       "<table border=\"1\" class=\"dataframe\">\n",
       "  <thead>\n",
       "    <tr style=\"text-align: right;\">\n",
       "      <th></th>\n",
       "      <th>game1</th>\n",
       "      <th>game2</th>\n",
       "      <th>home_x</th>\n",
       "      <th>away_x</th>\n",
       "      <th>away_win</th>\n",
       "    </tr>\n",
       "  </thead>\n",
       "  <tbody>\n",
       "    <tr>\n",
       "      <th>0</th>\n",
       "      <td>1</td>\n",
       "      <td>1262</td>\n",
       "      <td>7.0</td>\n",
       "      <td>-5.0</td>\n",
       "      <td>0.0</td>\n",
       "    </tr>\n",
       "    <tr>\n",
       "      <th>1</th>\n",
       "      <td>4</td>\n",
       "      <td>1762</td>\n",
       "      <td>12.0</td>\n",
       "      <td>10.0</td>\n",
       "      <td>1.0</td>\n",
       "    </tr>\n",
       "    <tr>\n",
       "      <th>2</th>\n",
       "      <td>8</td>\n",
       "      <td>641</td>\n",
       "      <td>18.0</td>\n",
       "      <td>11.0</td>\n",
       "      <td>1.0</td>\n",
       "    </tr>\n",
       "    <tr>\n",
       "      <th>3</th>\n",
       "      <td>9</td>\n",
       "      <td>732</td>\n",
       "      <td>8.0</td>\n",
       "      <td>-9.0</td>\n",
       "      <td>0.0</td>\n",
       "    </tr>\n",
       "    <tr>\n",
       "      <th>4</th>\n",
       "      <td>35</td>\n",
       "      <td>739</td>\n",
       "      <td>45.0</td>\n",
       "      <td>-8.0</td>\n",
       "      <td>0.0</td>\n",
       "    </tr>\n",
       "  </tbody>\n",
       "</table>\n",
       "</div>"
      ],
      "text/plain": [
       "   game1  game2  home_x  away_x  away_win\n",
       "0      1   1262     7.0    -5.0       0.0\n",
       "1      4   1762    12.0    10.0       1.0\n",
       "2      8    641    18.0    11.0       1.0\n",
       "3      9    732     8.0    -9.0       0.0\n",
       "4     35    739    45.0    -8.0       0.0"
      ]
     },
     "execution_count": 22,
     "metadata": {},
     "output_type": "execute_result"
    }
   ],
   "source": [
    "home_and_home.head()"
   ]
  },
  {
   "cell_type": "code",
   "execution_count": null,
   "metadata": {
    "collapsed": true
   },
   "outputs": [],
   "source": [
    "home_and_home.to_csv(\"datasets/our_data/home_and_home_data.csv\")"
   ]
  },
  {
   "cell_type": "markdown",
   "metadata": {},
   "source": [
    "### 3) Fit Logistic Regression Model\n",
    "- As described above, we model the probability of a win in the away game, given the home scoring difference of $x$."
   ]
  },
  {
   "cell_type": "code",
   "execution_count": 23,
   "metadata": {
    "collapsed": false
   },
   "outputs": [],
   "source": [
    "from sklearn.linear_model import LogisticRegression as LogReg\n",
    "from sklearn.cross_validation import train_test_split"
   ]
  },
  {
   "cell_type": "code",
   "execution_count": 24,
   "metadata": {
    "collapsed": false
   },
   "outputs": [
    {
     "name": "stdout",
     "output_type": "stream",
     "text": [
      "[[ 0.05457784]]\n",
      "[-0.79096196]\n"
     ]
    }
   ],
   "source": [
    "# train_x and train_y\n",
    "train_x = home_and_home[\"home_x\"].values.reshape((home_and_home.shape[0],1))\n",
    "train_y = home_and_home[\"away_win\"].values\n",
    "\n",
    "# fit log_reg_model\n",
    "log_reg_model = LogReg()\n",
    "log_reg_model.fit(train_x, train_y)\n",
    "\n",
    "print log_reg_model.coef_\n",
    "print log_reg_model.intercept_"
   ]
  },
  {
   "cell_type": "code",
   "execution_count": 25,
   "metadata": {
    "collapsed": false
   },
   "outputs": [],
   "source": [
    "from math import exp"
   ]
  },
  {
   "cell_type": "code",
   "execution_count": 35,
   "metadata": {
    "collapsed": false
   },
   "outputs": [
    {
     "name": "stderr",
     "output_type": "stream",
     "text": [
      "/Users/robertshaw/anaconda/lib/python2.7/site-packages/ipykernel/__main__.py:5: VisibleDeprecationWarning: using a non-integer number instead of an integer will result in an error in the future\n"
     ]
    }
   ],
   "source": [
    "# formatting for our graph\n",
    "min_x = train_x.min()\n",
    "max_x = train_x.max()\n",
    "\n",
    "samp_prob = np.zeros(max_x - min_x + 1)\n",
    "i = 0\n",
    "for x in range(int(min_x), int(max_x) + 1):\n",
    "    count = home_and_home[home_and_home[\"home_x\"] == x]\n",
    "    wins = count[count[\"away_win\"] == 1]\n",
    "    \n",
    "    if count.shape[0] > 0:\n",
    "        samp_prob[i] =  float(wins.shape[0]) / count.shape[0] \n",
    "        i = i + 1"
   ]
  },
  {
   "cell_type": "code",
   "execution_count": null,
   "metadata": {
    "collapsed": false
   },
   "outputs": [],
   "source": [
    "# save so we do not have to run the code again\n",
    "home_and_home.to_csv(\"datasets/our_data/sample_p_away_win_given_home_x.csv\")"
   ]
  },
  {
   "cell_type": "code",
   "execution_count": 36,
   "metadata": {
    "collapsed": false
   },
   "outputs": [
    {
     "data": {
      "text/plain": [
       "<matplotlib.legend.Legend at 0x11c586fd0>"
      ]
     },
     "execution_count": 36,
     "metadata": {},
     "output_type": "execute_result"
    },
    {
     "data": {
      "image/png": "[encoded data removed]",
      "text/plain": [
       "<matplotlib.figure.Figure at 0x11c67b650>"
      ]
     },
     "metadata": {},
     "output_type": "display_data"
    }
   ],
   "source": [
    "# init\n",
    "fig = plt.figure(figsize=(8, 4))\n",
    "ax = fig.add_subplot(111)\n",
    "min_x = train_x.min()\n",
    "max_x = train_x.max()\n",
    "x_values = np.array(range(int(min_x), int(max_x) + 1))\n",
    "\n",
    "# calculate probabilities\n",
    "odds = np.exp(x_values * log_reg_model.coef_ + log_reg_model.intercept_)\n",
    "log_prob = odds / (1. + odds)\n",
    "\n",
    "# plot\n",
    "ax.plot(x_values, log_prob[0], label=\"logistic probability\")\n",
    "ax.bar(x_values, samp_prob, .005, color=\"black\", label=\"samp probability\")\n",
    "ax.set_xlabel(\"Home Score Diff\")\n",
    "ax.set_ylabel(\"P(Away Win)\")\n",
    "ax.set_title(\"P(win_away | Home Score Difference)\")\n",
    "ax.set_xlim([min_x, max_x])\n",
    "ax.legend(bbox_to_anchor=(1.05, 1), loc=2, borderaxespad=0.)"
   ]
  },
  {
   "cell_type": "code",
   "execution_count": 37,
   "metadata": {
    "collapsed": false
   },
   "outputs": [],
   "source": [
    "# p win away given home scoring differential\n",
    "x_values = np.array(range(-100, 101))\n",
    "odds = np.exp((x_values) * log_reg_model.coef_ + log_reg_model.intercept_)\n",
    "prob = odds / (1. + odds)      \n",
    "\n",
    "s_x_h = pd.DataFrame(data=prob[0], index=x_values, columns=[\"prob\"])"
   ]
  },
  {
   "cell_type": "code",
   "execution_count": 38,
   "metadata": {
    "collapsed": false
   },
   "outputs": [
    {
     "data": {
      "text/plain": [
       "prob    0.493282\n",
       "Name: 14, dtype: float64"
      ]
     },
     "execution_count": 38,
     "metadata": {},
     "output_type": "execute_result"
    }
   ],
   "source": [
    "s_x_h.loc[14]"
   ]
  },
  {
   "cell_type": "markdown",
   "metadata": {},
   "source": [
    "We see s_x_h = .5 (P(win away | home scoring differential)) when x = 14.\n",
    "Thus, home court advantage is 7 points."
   ]
  },
  {
   "cell_type": "markdown",
   "metadata": {},
   "source": [
    "In order to convert from P(win away | home scoring dif x), to P(better | home scoring dif x), we need to find the value of home court. We see that P(win away | home scoring dif x) = .5 when x = 14. So home court advantage is 7 points. Thus, P(better | home scoring dif 7) = .5 (and we shift all values by 7)."
   ]
  },
  {
   "cell_type": "markdown",
   "metadata": {},
   "source": [
    "$r_x^H = s_{x+h}^H$ where $r_x^H$ = P(better | home scoring dif x) and  $s_{x+h}^H$ = P(win away | home scoring dif x) "
   ]
  },
  {
   "cell_type": "code",
   "execution_count": 39,
   "metadata": {
    "collapsed": true
   },
   "outputs": [],
   "source": [
    "home_court_advantage = 7"
   ]
  },
  {
   "cell_type": "code",
   "execution_count": 40,
   "metadata": {
    "collapsed": false
   },
   "outputs": [],
   "source": [
    "x_values = np.array(range(-100, 101))\n",
    "odds = np.exp((x_values + home_court_advantage) * log_reg_model.coef_ + log_reg_model.intercept_)\n",
    "prob = odds / (1. + odds)                  \n",
    "                    \n",
    "probability_better_given_home_dif = prob"
   ]
  },
  {
   "cell_type": "code",
   "execution_count": 41,
   "metadata": {
    "collapsed": false
   },
   "outputs": [],
   "source": [
    "probability_better_given_home_dif_df = pd.DataFrame(data=probability_better_given_home_dif[0], index=x_values, columns=[\"prob\"])"
   ]
  },
  {
   "cell_type": "code",
   "execution_count": null,
   "metadata": {
    "collapsed": false
   },
   "outputs": [],
   "source": [
    "probability_better_given_home_dif_df.to_csv(\"datasets/our_data/r_x_h\")"
   ]
  },
  {
   "cell_type": "code",
   "execution_count": 42,
   "metadata": {
    "collapsed": false
   },
   "outputs": [
    {
     "data": {
      "text/html": [
       "<div>\n",
       "<table border=\"1\" class=\"dataframe\">\n",
       "  <thead>\n",
       "    <tr style=\"text-align: right;\">\n",
       "      <th></th>\n",
       "      <th>prob</th>\n",
       "    </tr>\n",
       "  </thead>\n",
       "  <tbody>\n",
       "    <tr>\n",
       "      <th>-100</th>\n",
       "      <td>0.002824</td>\n",
       "    </tr>\n",
       "    <tr>\n",
       "      <th>-99</th>\n",
       "      <td>0.002982</td>\n",
       "    </tr>\n",
       "    <tr>\n",
       "      <th>-98</th>\n",
       "      <td>0.003149</td>\n",
       "    </tr>\n",
       "    <tr>\n",
       "      <th>-97</th>\n",
       "      <td>0.003325</td>\n",
       "    </tr>\n",
       "    <tr>\n",
       "      <th>-96</th>\n",
       "      <td>0.003511</td>\n",
       "    </tr>\n",
       "  </tbody>\n",
       "</table>\n",
       "</div>"
      ],
      "text/plain": [
       "          prob\n",
       "-100  0.002824\n",
       "-99   0.002982\n",
       "-98   0.003149\n",
       "-97   0.003325\n",
       "-96   0.003511"
      ]
     },
     "execution_count": 42,
     "metadata": {},
     "output_type": "execute_result"
    }
   ],
   "source": [
    "probability_better_given_home_dif_df.head()"
   ]
  },
  {
   "cell_type": "code",
   "execution_count": 43,
   "metadata": {
    "collapsed": false
   },
   "outputs": [],
   "source": [
    "# probability better given home dif of x \n",
    "r_x_h = probability_better_given_home_dif_df"
   ]
  },
  {
   "cell_type": "markdown",
   "metadata": {},
   "source": [
    "$r_x^A = 1 - r_{-x}^H$  ---- P(better | away scoring dif x) = 1 - P(better | home scoring dif - x)"
   ]
  },
  {
   "cell_type": "code",
   "execution_count": 44,
   "metadata": {
    "collapsed": true
   },
   "outputs": [],
   "source": [
    "# probability better given away dif of x\n",
    "# r_x_a = 1 - r_-x_h\n",
    "helper_df = 1. - r_x_h\n",
    "helper_df.index = range(100, -101, -1)\n",
    "r_x_a = helper_df.sort_index()"
   ]
  },
  {
   "cell_type": "code",
   "execution_count": null,
   "metadata": {
    "collapsed": false
   },
   "outputs": [],
   "source": [
    "r_x_a.to_csv(\"datasets/our_data/r_x_a\")"
   ]
  },
  {
   "cell_type": "markdown",
   "metadata": {},
   "source": [
    "$r_x^N = r_{x+h}^H = s_{x + 2h}^H$"
   ]
  },
  {
   "cell_type": "code",
   "execution_count": 45,
   "metadata": {
    "collapsed": true
   },
   "outputs": [],
   "source": [
    "# probability better given neutral dif of x\n",
    "x_values = np.array(range(-100, 101))\n",
    "odds_neutral = np.exp((x_values + 2 * home_court_advantage) * log_reg_model.coef_ + log_reg_model.intercept_)\n",
    "prob_neutral = odds_neutral / (1. + odds_neutral)                  \n",
    "                    \n",
    "r_x_n = pd.DataFrame(data=prob_neutral[0], index=x_values, columns=[\"prob\"])"
   ]
  },
  {
   "cell_type": "code",
   "execution_count": null,
   "metadata": {
    "collapsed": false
   },
   "outputs": [],
   "source": [
    "r_x_n.to_csv(\"datasets/our_data/r_x_n\")"
   ]
  },
  {
   "cell_type": "markdown",
   "metadata": {},
   "source": [
    "### 4) Generate Markov Chain\n",
    "- Given this Logisitic Regression Model for the transition probabilities, we now have to seed the markov chain. To do this, we need to get the results in each year of all possible matchups."
   ]
  },
  {
   "cell_type": "markdown",
   "metadata": {},
   "source": [
    "- Games Played Matrix"
   ]
  },
  {
   "cell_type": "code",
   "execution_count": 46,
   "metadata": {
    "collapsed": false
   },
   "outputs": [],
   "source": [
    "# counts of a teams wins and losses_\n",
    "games_np = np.zeros((len(seasons), teams.shape[0]))\n",
    "\n",
    "# iterate seasons\n",
    "i = 0\n",
    "for season in seasons:\n",
    "    games = 0\n",
    "    \n",
    "    # count wins/losses\n",
    "    win_counts = season[\"Wteam\"].value_counts(sort=False) \n",
    "    loss_counts = season[\"Lteam\"].value_counts(sort=False) \n",
    "    \n",
    "    # iterate teams\n",
    "    j = 0\n",
    "    for team in range(teams[\"Team_Id\"].min(), teams[\"Team_Id\"].max() + 1):           \n",
    "        # if a team has a win in the year, extract from wins count\n",
    "        if team in win_counts.index:\n",
    "            games = games + win_counts[team]\n",
    "            \n",
    "        # if a team has a loss in the year, extract from loss count\n",
    "        if team in loss_counts.index:\n",
    "            games = games + loss_counts[team]\n",
    "        \n",
    "        # update buffer\n",
    "        if games == 0:\n",
    "            games_np[i, j] = np.nan\n",
    "        else:\n",
    "            games_np[i, j] = games\n",
    "                    \n",
    "        j = j + 1\n",
    "        \n",
    "        games = 0\n",
    "                    \n",
    "    i = i + 1"
   ]
  },
  {
   "cell_type": "code",
   "execution_count": 47,
   "metadata": {
    "collapsed": true
   },
   "outputs": [],
   "source": [
    "games_matrix = pd.DataFrame(data=games_np, columns=teams[\"Team_Id\"], index=range(1985, 2017))"
   ]
  },
  {
   "cell_type": "code",
   "execution_count": null,
   "metadata": {
    "collapsed": false
   },
   "outputs": [],
   "source": [
    "games_matrix.to_csv(\"datasets/our_data/games_matrix\")"
   ]
  },
  {
   "cell_type": "code",
   "execution_count": 48,
   "metadata": {
    "collapsed": false
   },
   "outputs": [
    {
     "data": {
      "text/html": [
       "<div>\n",
       "<table border=\"1\" class=\"dataframe\">\n",
       "  <thead>\n",
       "    <tr style=\"text-align: right;\">\n",
       "      <th>Team_Id</th>\n",
       "      <th>1101</th>\n",
       "      <th>1102</th>\n",
       "      <th>1103</th>\n",
       "      <th>1104</th>\n",
       "      <th>1105</th>\n",
       "      <th>1106</th>\n",
       "      <th>1107</th>\n",
       "      <th>1108</th>\n",
       "      <th>1109</th>\n",
       "      <th>1110</th>\n",
       "      <th>...</th>\n",
       "      <th>1455</th>\n",
       "      <th>1456</th>\n",
       "      <th>1457</th>\n",
       "      <th>1458</th>\n",
       "      <th>1459</th>\n",
       "      <th>1460</th>\n",
       "      <th>1461</th>\n",
       "      <th>1462</th>\n",
       "      <th>1463</th>\n",
       "      <th>1464</th>\n",
       "    </tr>\n",
       "  </thead>\n",
       "  <tbody>\n",
       "    <tr>\n",
       "      <th>1985</th>\n",
       "      <td>NaN</td>\n",
       "      <td>24.0</td>\n",
       "      <td>23.0</td>\n",
       "      <td>30.0</td>\n",
       "      <td>NaN</td>\n",
       "      <td>24.0</td>\n",
       "      <td>NaN</td>\n",
       "      <td>25.0</td>\n",
       "      <td>24.0</td>\n",
       "      <td>25.0</td>\n",
       "      <td>...</td>\n",
       "      <td>29.0</td>\n",
       "      <td>27.0</td>\n",
       "      <td>NaN</td>\n",
       "      <td>26.0</td>\n",
       "      <td>NaN</td>\n",
       "      <td>NaN</td>\n",
       "      <td>26.0</td>\n",
       "      <td>28.0</td>\n",
       "      <td>23.0</td>\n",
       "      <td>27.0</td>\n",
       "    </tr>\n",
       "    <tr>\n",
       "      <th>1986</th>\n",
       "      <td>NaN</td>\n",
       "      <td>25.0</td>\n",
       "      <td>25.0</td>\n",
       "      <td>30.0</td>\n",
       "      <td>NaN</td>\n",
       "      <td>24.0</td>\n",
       "      <td>NaN</td>\n",
       "      <td>25.0</td>\n",
       "      <td>24.0</td>\n",
       "      <td>25.0</td>\n",
       "      <td>...</td>\n",
       "      <td>27.0</td>\n",
       "      <td>27.0</td>\n",
       "      <td>NaN</td>\n",
       "      <td>25.0</td>\n",
       "      <td>NaN</td>\n",
       "      <td>NaN</td>\n",
       "      <td>29.0</td>\n",
       "      <td>27.0</td>\n",
       "      <td>23.0</td>\n",
       "      <td>26.0</td>\n",
       "    </tr>\n",
       "    <tr>\n",
       "      <th>1987</th>\n",
       "      <td>NaN</td>\n",
       "      <td>23.0</td>\n",
       "      <td>26.0</td>\n",
       "      <td>30.0</td>\n",
       "      <td>NaN</td>\n",
       "      <td>25.0</td>\n",
       "      <td>NaN</td>\n",
       "      <td>25.0</td>\n",
       "      <td>24.0</td>\n",
       "      <td>23.0</td>\n",
       "      <td>...</td>\n",
       "      <td>31.0</td>\n",
       "      <td>25.0</td>\n",
       "      <td>26.0</td>\n",
       "      <td>28.0</td>\n",
       "      <td>NaN</td>\n",
       "      <td>NaN</td>\n",
       "      <td>30.0</td>\n",
       "      <td>26.0</td>\n",
       "      <td>25.0</td>\n",
       "      <td>25.0</td>\n",
       "    </tr>\n",
       "    <tr>\n",
       "      <th>1988</th>\n",
       "      <td>NaN</td>\n",
       "      <td>24.0</td>\n",
       "      <td>25.0</td>\n",
       "      <td>30.0</td>\n",
       "      <td>NaN</td>\n",
       "      <td>25.0</td>\n",
       "      <td>NaN</td>\n",
       "      <td>26.0</td>\n",
       "      <td>24.0</td>\n",
       "      <td>27.0</td>\n",
       "      <td>...</td>\n",
       "      <td>28.0</td>\n",
       "      <td>27.0</td>\n",
       "      <td>26.0</td>\n",
       "      <td>28.0</td>\n",
       "      <td>NaN</td>\n",
       "      <td>25.0</td>\n",
       "      <td>30.0</td>\n",
       "      <td>27.0</td>\n",
       "      <td>26.0</td>\n",
       "      <td>27.0</td>\n",
       "    </tr>\n",
       "    <tr>\n",
       "      <th>1989</th>\n",
       "      <td>NaN</td>\n",
       "      <td>24.0</td>\n",
       "      <td>28.0</td>\n",
       "      <td>30.0</td>\n",
       "      <td>NaN</td>\n",
       "      <td>26.0</td>\n",
       "      <td>NaN</td>\n",
       "      <td>24.0</td>\n",
       "      <td>24.0</td>\n",
       "      <td>25.0</td>\n",
       "      <td>...</td>\n",
       "      <td>28.0</td>\n",
       "      <td>26.0</td>\n",
       "      <td>25.0</td>\n",
       "      <td>26.0</td>\n",
       "      <td>NaN</td>\n",
       "      <td>24.0</td>\n",
       "      <td>31.0</td>\n",
       "      <td>31.0</td>\n",
       "      <td>26.0</td>\n",
       "      <td>24.0</td>\n",
       "    </tr>\n",
       "  </tbody>\n",
       "</table>\n",
       "<p>5 rows × 364 columns</p>\n",
       "</div>"
      ],
      "text/plain": [
       "Team_Id  1101  1102  1103  1104  1105  1106  1107  1108  1109  1110  ...   \\\n",
       "1985      NaN  24.0  23.0  30.0   NaN  24.0   NaN  25.0  24.0  25.0  ...    \n",
       "1986      NaN  25.0  25.0  30.0   NaN  24.0   NaN  25.0  24.0  25.0  ...    \n",
       "1987      NaN  23.0  26.0  30.0   NaN  25.0   NaN  25.0  24.0  23.0  ...    \n",
       "1988      NaN  24.0  25.0  30.0   NaN  25.0   NaN  26.0  24.0  27.0  ...    \n",
       "1989      NaN  24.0  28.0  30.0   NaN  26.0   NaN  24.0  24.0  25.0  ...    \n",
       "\n",
       "Team_Id  1455  1456  1457  1458  1459  1460  1461  1462  1463  1464  \n",
       "1985     29.0  27.0   NaN  26.0   NaN   NaN  26.0  28.0  23.0  27.0  \n",
       "1986     27.0  27.0   NaN  25.0   NaN   NaN  29.0  27.0  23.0  26.0  \n",
       "1987     31.0  25.0  26.0  28.0   NaN   NaN  30.0  26.0  25.0  25.0  \n",
       "1988     28.0  27.0  26.0  28.0   NaN  25.0  30.0  27.0  26.0  27.0  \n",
       "1989     28.0  26.0  25.0  26.0   NaN  24.0  31.0  31.0  26.0  24.0  \n",
       "\n",
       "[5 rows x 364 columns]"
      ]
     },
     "execution_count": 48,
     "metadata": {},
     "output_type": "execute_result"
    }
   ],
   "source": [
    "games_matrix.head()"
   ]
  },
  {
   "cell_type": "markdown",
   "metadata": {},
   "source": [
    "- Helper Functions"
   ]
  },
  {
   "cell_type": "code",
   "execution_count": 49,
   "metadata": {
    "collapsed": false
   },
   "outputs": [],
   "source": [
    "# extracts list of games between two teams\n",
    "def get_games(games, team_1, team_2):\n",
    "    \n",
    "    # filter team 1 wins/ losses\n",
    "    team_1_win = games[(games[\"Wteam\"] == team_1) & (games[\"Lteam\"] == team_2)]\n",
    "    team_1_loss = games[(games[\"Wteam\"] == team_2) & (games[\"Lteam\"] == team_1)]\n",
    "    \n",
    "    # filter location\n",
    "    team_1_win_home = team_1_win[(team_1_win[\"Wloc\"] == \"H\")]\n",
    "    team_1_win_away = team_1_win[(team_1_win[\"Wloc\"] == \"A\")]\n",
    "    team_1_win_neutral = team_1_win[(team_1_win[\"Wloc\"] == \"N\")]\n",
    "    \n",
    "    # filter location\n",
    "    team_1_loss_home = team_1_loss[(team_1_loss[\"Wloc\"] == \"A\")]\n",
    "    team_1_loss_away = team_1_loss[(team_1_loss[\"Wloc\"] == \"H\")]\n",
    "    team_1_loss_neutral = team_1_loss[(team_1_loss[\"Wloc\"] == \"N\")]\n",
    "    \n",
    "    # get score differences\n",
    "    home_games = get_score_difs(team_1_win_home, team_1_loss_home)\n",
    "    away_games = get_score_difs(team_1_win_away, team_1_loss_away)\n",
    "    neutral_games = get_score_difs(team_1_win_neutral, team_1_loss_neutral)\n",
    "    \n",
    "    return home_games, away_games, neutral_games\n",
    "            \n",
    "\n",
    "# given dfs of games, extract scoring differences\n",
    "def get_score_difs(wins, losses):\n",
    "    # buffer to hold values\n",
    "    arr = []\n",
    "    \n",
    "    # iter wins\n",
    "    for index, game in wins.iterrows():\n",
    "        # calc score differences\n",
    "        dif = game[\"Wscore\"] - game[\"Lscore\"]\n",
    "        arr.append(dif)\n",
    "        \n",
    "    # iter losses\n",
    "    for index, game in losses.iterrows():\n",
    "        # calc score differences \n",
    "        dif = game[\"Lscore\"] - game[\"Wscore\"]\n",
    "        arr.append(dif)\n",
    "        \n",
    "    return arr\n",
    "\n",
    "# extract probs team 2 > team 1\n",
    "def extract_rxs(score_difs, probs):\n",
    "    rxs = []\n",
    "    for dif in score_difs:\n",
    "\n",
    "        # prob(team 2 > team 1) = 1 - prob(team 1 > team 2)\n",
    "        rxs.append(1. - probs.loc[int(dif)])\n",
    "        \n",
    "    return rxs\n"
   ]
  },
  {
   "cell_type": "markdown",
   "metadata": {},
   "source": [
    "- Gen Markov Chain Function"
   ]
  },
  {
   "cell_type": "code",
   "execution_count": 50,
   "metadata": {
    "collapsed": true
   },
   "outputs": [],
   "source": [
    "import math"
   ]
  },
  {
   "cell_type": "code",
   "execution_count": 51,
   "metadata": {
    "collapsed": false
   },
   "outputs": [],
   "source": [
    "# generate markov chain\n",
    "def gen_markov_chain_transition_matrix(season, teams, games_count, home_rx_matrix, away_rx_matrix, neutral_rx_matrix):\n",
    "    played_game = []\n",
    "    # filter teams with 0 games played\n",
    "    for i in range(teams.shape[0]):\n",
    "        if math.isnan(games_count.iloc[i]):\n",
    "            played_game.append(False)\n",
    "        else:\n",
    "            played_game.append(True)\n",
    "    \n",
    "    # indexes\n",
    "    rows = teams[played_game]\n",
    "    columns = rows\n",
    "    \n",
    "    # probability matrix\n",
    "    probs_np = np.zeros((rows.shape[0], columns.shape[0]))\n",
    "    probs_df = pd.DataFrame(data=probs_np, columns=columns, index=rows)\n",
    "    \n",
    "    # calculate t_{i,j} for all i != j\n",
    "    for index, row in probs_df.iterrows():        \n",
    "        # games played\n",
    "        n_i = float(games_count.loc[index])\n",
    "        \n",
    "        # team 1\n",
    "        team_1 = index\n",
    "\n",
    "        # filter team 1's games\n",
    "        team_1_games = season[(season[\"Wteam\"] == team_1) | (season[\"Lteam\"] == team_1)]\n",
    "        opponents = np.unique(team_1_games[[\"Wteam\", \"Lteam\"]])\n",
    "\n",
    "        # iterate all opponents\n",
    "        for team_2 in opponents:\n",
    "            home_difs, away_difs, neutral_difs = get_games(team_1_games, team_1, team_2)        \n",
    "\n",
    "            # check for 0\n",
    "            if (home_difs, away_difs, neutral_difs) == (None, None, None):\n",
    "                probs[i, team_2 - 1101] = 0.\n",
    "\n",
    "            else:\n",
    "                # get rxs (probability team 2 better than team 1, given score dif)\n",
    "                home_rxs = extract_rxs(home_difs, home_rx_matrix)\n",
    "                away_rxs = extract_rxs(away_difs, away_rx_matrix)\n",
    "                neutral_rxs = extract_rxs(neutral_difs, neutral_rx_matrix)\n",
    "\n",
    "                # transition probability\n",
    "                probs_df.set_value(team_1, team_2, (sum(home_rxs) + sum(away_rxs) + sum(neutral_rxs)) / n_i)\n",
    "        \n",
    "    # calculate t_{i,i}\n",
    "    for index, row in probs_df.iterrows():\n",
    "        team_1 = index\n",
    "        \n",
    "        # games played\n",
    "        n_i = float(games_count.loc[index])\n",
    "\n",
    "        # t_ii = 1 - sum_{j} t_ij\n",
    "        probs_df.set_value(team_1, team_1, 1. - probs_df.loc[team_1, :].sum())\n",
    "            \n",
    "    return probs_df     "
   ]
  },
  {
   "cell_type": "markdown",
   "metadata": {},
   "source": [
    "- Gen Stationary Distribution --> $\\pi P = \\lambda \\pi$ (the first eigenvector is the steady state distribution)"
   ]
  },
  {
   "cell_type": "code",
   "execution_count": 52,
   "metadata": {
    "collapsed": false
   },
   "outputs": [],
   "source": [
    "from scipy.linalg import eig"
   ]
  },
  {
   "cell_type": "code",
   "execution_count": 53,
   "metadata": {
    "collapsed": true
   },
   "outputs": [],
   "source": [
    "# generate stationary distibution\n",
    "def generate_stationary_distribution(probs, teams, games):\n",
    "    eigenvalues, eigenvectors = eig(probs,left=True,right=False)\n",
    "\n",
    "    # stationary distibution is primary eigenvector\n",
    "    # pi = pi * P\n",
    "    stationary = eigenvectors[:, 0]\n",
    "    stationary = stationary / np.sum(stationary)\n",
    "    \n",
    "    # confirm it works\n",
    "    if stationary[np.iscomplex(stationary)].shape[0] == 0:\n",
    "        # convert to reals\n",
    "        stationary = stationary.astype(float)\n",
    "    else:\n",
    "        print \"complex!!\"\n",
    "\n",
    "    played_game = []\n",
    "    # filter teams with 0 games played\n",
    "    for i in range(teams.shape[0]):\n",
    "        if math.isnan(games.iloc[i]):\n",
    "            played_game.append(False)\n",
    "        else:\n",
    "            played_game.append(True)\n",
    "\n",
    "    # indexes of dataframe are only those teams who played games\n",
    "    indexes = teams[played_game][\"Team_Id\"].values\n",
    "\n",
    "    print indexes.shape\n",
    "    print stationary.shape\n",
    "    # return dataframe\n",
    "    return pd.DataFrame(data=stationary, index = indexes, columns =[\"pi_i\"])"
   ]
  },
  {
   "cell_type": "markdown",
   "metadata": {},
   "source": [
    "- Test Code on 1985"
   ]
  },
  {
   "cell_type": "code",
   "execution_count": 54,
   "metadata": {
    "collapsed": false,
    "scrolled": false
   },
   "outputs": [],
   "source": [
    "probs_1985 = gen_markov_chain_transition_matrix(seasons[0], teams[\"Team_Id\"], games_matrix.iloc[0, :], r_x_h, r_x_a, r_x_n)"
   ]
  },
  {
   "cell_type": "code",
   "execution_count": 55,
   "metadata": {
    "collapsed": false
   },
   "outputs": [
    {
     "name": "stdout",
     "output_type": "stream",
     "text": [
      "(282,)\n",
      "(282,)\n"
     ]
    },
    {
     "name": "stderr",
     "output_type": "stream",
     "text": [
      "/Users/robertshaw/anaconda/lib/python2.7/site-packages/ipykernel/__main__.py:13: ComplexWarning: Casting complex values to real discards the imaginary part\n"
     ]
    }
   ],
   "source": [
    "stationary_1985_df = generate_stationary_distribution(probs_1985, teams, games_matrix.iloc[0, :])"
   ]
  },
  {
   "cell_type": "code",
   "execution_count": 56,
   "metadata": {
    "collapsed": false
   },
   "outputs": [
    {
     "data": {
      "text/html": [
       "<div>\n",
       "<table border=\"1\" class=\"dataframe\">\n",
       "  <thead>\n",
       "    <tr style=\"text-align: right;\">\n",
       "      <th></th>\n",
       "      <th>pi_i</th>\n",
       "    </tr>\n",
       "  </thead>\n",
       "  <tbody>\n",
       "    <tr>\n",
       "      <th>1102</th>\n",
       "      <td>0.001977</td>\n",
       "    </tr>\n",
       "    <tr>\n",
       "      <th>1103</th>\n",
       "      <td>0.002041</td>\n",
       "    </tr>\n",
       "    <tr>\n",
       "      <th>1104</th>\n",
       "      <td>0.006740</td>\n",
       "    </tr>\n",
       "    <tr>\n",
       "      <th>1106</th>\n",
       "      <td>0.002103</td>\n",
       "    </tr>\n",
       "    <tr>\n",
       "      <th>1108</th>\n",
       "      <td>0.004213</td>\n",
       "    </tr>\n",
       "  </tbody>\n",
       "</table>\n",
       "</div>"
      ],
      "text/plain": [
       "          pi_i\n",
       "1102  0.001977\n",
       "1103  0.002041\n",
       "1104  0.006740\n",
       "1106  0.002103\n",
       "1108  0.004213"
      ]
     },
     "execution_count": 56,
     "metadata": {},
     "output_type": "execute_result"
    }
   ],
   "source": [
    "stationary_1985_df.head()"
   ]
  },
  {
   "cell_type": "code",
   "execution_count": 63,
   "metadata": {
    "collapsed": false
   },
   "outputs": [
    {
     "data": {
      "text/plain": [
       "pi_i    1.0\n",
       "dtype: float64"
      ]
     },
     "execution_count": 63,
     "metadata": {},
     "output_type": "execute_result"
    }
   ],
   "source": [
    "# confirm sums to 1\n",
    "stationary_1985_df.sum()"
   ]
  },
  {
   "cell_type": "markdown",
   "metadata": {},
   "source": [
    "See if there is any predictive power with a crude data exploration."
   ]
  },
  {
   "cell_type": "code",
   "execution_count": 65,
   "metadata": {
    "collapsed": false
   },
   "outputs": [],
   "source": [
    "tourney_wins = pd.read_csv(\"datasets/our_data/team_summary_data/tourney_wins_matrix\", index_col=0)\n",
    "in_tourney = pd.read_csv(\"datasets/our_data/team_summary_data/in_tourney_matrix\", index_col=0)"
   ]
  },
  {
   "cell_type": "code",
   "execution_count": 66,
   "metadata": {
    "collapsed": false
   },
   "outputs": [],
   "source": [
    "from sklearn.linear_model import LinearRegression as LinReg"
   ]
  },
  {
   "cell_type": "code",
   "execution_count": 67,
   "metadata": {
    "collapsed": false
   },
   "outputs": [],
   "source": [
    "in_tourney_1985 = in_tourney.loc[1985]\n",
    "teams_in_tourney_1985 = in_tourney_1985[in_tourney_1985 == 1.].index"
   ]
  },
  {
   "cell_type": "code",
   "execution_count": 68,
   "metadata": {
    "collapsed": false,
    "scrolled": true
   },
   "outputs": [],
   "source": [
    "tourney_wins_1985_filt = tourney_wins.loc[1985, teams_in_tourney_1985]"
   ]
  },
  {
   "cell_type": "code",
   "execution_count": 71,
   "metadata": {
    "collapsed": false
   },
   "outputs": [],
   "source": [
    "pi_i_1985 = pd.read_csv(\"datasets/our_data/markov_data/1985_stationary_distribution\", index_col=0)\n",
    "\n",
    "pi_i_1985.index = pi_i_1985.index.astype(str)\n",
    "pi_i_1985_filt = pi_i_1985.loc[teams_in_tourney_1985, \"pi_i\"]"
   ]
  },
  {
   "cell_type": "code",
   "execution_count": 72,
   "metadata": {
    "collapsed": false
   },
   "outputs": [
    {
     "data": {
      "text/plain": [
       "<matplotlib.legend.Legend at 0x11fc88a10>"
      ]
     },
     "execution_count": 72,
     "metadata": {},
     "output_type": "execute_result"
    },
    {
     "data": {
      "image/png": "[encoded data removed]",
      "text/plain": [
       "<matplotlib.figure.Figure at 0x11c512990>"
      ]
     },
     "metadata": {},
     "output_type": "display_data"
    }
   ],
   "source": [
    "lin_reg = LinReg()\n",
    "y = tourney_wins_1985_filt.values.reshape(64,1)\n",
    "x = pi_i_1985_filt.values.reshape(64,1)\n",
    "lin_reg.fit(x,y)\n",
    "\n",
    "\n",
    "x_vals = np.array([0, .01])\n",
    "y_vals = x_vals * lin_reg.coef_[0] + lin_reg.intercept_\n",
    "\n",
    "fig = plt.figure(figsize=(8,4))\n",
    "ax = fig.add_subplot(111)\n",
    "ax.scatter(x, y, color=\"Blue\", label=\"Data\")\n",
    "ax.plot(x_vals, y_vals, color=\"green\", label=\"Regression Line\")\n",
    "ax.set_xlim([0, .01])\n",
    "ax.set_ylim([-2,7])\n",
    "ax.set_title(\"1985 Relationship Between pi_i and Tournament Wins\")\n",
    "ax.set_xlabel(\"pi_i (stationary distribution probability of ith team)\")\n",
    "ax.set_ylabel(\"Tournament Wins\")\n",
    "ax.legend(bbox_to_anchor=(1.05, 1), loc=2, borderaxespad=0.)"
   ]
  },
  {
   "cell_type": "markdown",
   "metadata": {},
   "source": [
    "There appears to be a strong relationship between our predictor and the number of tournament wins. As such, this predictor should be powerful in our heaad to head model."
   ]
  },
  {
   "cell_type": "markdown",
   "metadata": {},
   "source": [
    "### 5) Gen Transition Matrix For All Years\n",
    "- After confirming everything works for 1985, we will do it for all 31 years.\n",
    "- Note: This code is very slow, but only needs to be run once. Should take ~15 mins to generate all years. I accidentally cleared all of the cells, and am not going to run this again."
   ]
  },
  {
   "cell_type": "code",
   "execution_count": null,
   "metadata": {
    "collapsed": false
   },
   "outputs": [],
   "source": [
    "transition_matricies = []\n",
    "stationary_distributions = []\n",
    "\n",
    "i = 1985\n",
    "for season in seasons:\n",
    "    # generate transition matrix\n",
    "    transition_matrix_df = gen_markov_chain_transition_matrix(season, teams[\"Team_Id\"], games_matrix.iloc[i - 1985, :], r_x_h, r_x_a, r_x_n)\n",
    "    \n",
    "    # save as a file\n",
    "    file_path = \"datasets/our_data/markov_data/{}_transition_matrix\".format(i)\n",
    "    transition_matrix_df.to_csv(file_path)\n",
    "    \n",
    "    # append to list\n",
    "    transition_matricies.append(transition_matrix_df)\n",
    "    \n",
    "    # generate stationary distibution\n",
    "    stationary_df = generate_stationary_distribution(transition_matrix_df, teams, games_matrix.iloc[i - 1985, :])\n",
    "    \n",
    "    # save as a file\n",
    "    file_path = \"datasets/our_data/markov_data/{}_stationary_distribution\".format(i)\n",
    "    stationary_df.to_csv(file_path)\n",
    "    \n",
    "    # append to list\n",
    "    stationary_distributions.append(stationary_df)\n",
    "    \n",
    "    print stationary_df.sum()\n",
    "      \n",
    "    i = i + 1 "
   ]
  },
  {
   "cell_type": "markdown",
   "metadata": {},
   "source": [
    "#### Vert Crude Train-Test Split ---> we end up using a windowing approach ---> see Modeling-Model Seleciton Page"
   ]
  },
  {
   "cell_type": "code",
   "execution_count": null,
   "metadata": {
    "collapsed": false
   },
   "outputs": [],
   "source": [
    "import random"
   ]
  },
  {
   "cell_type": "code",
   "execution_count": null,
   "metadata": {
    "collapsed": false
   },
   "outputs": [],
   "source": [
    "i = 1985\n",
    "j = 0 \n",
    "cutoff = .7\n",
    "\n",
    "preds_train = []\n",
    "resps_train = []\n",
    "\n",
    "preds_cross = []\n",
    "resps_cross = []\n",
    "\n",
    "# crude train test split\n",
    "for season in seasons:\n",
    "    # filter tourney wins\n",
    "    cur_season_in_tourney = in_tourney.loc[i][in_tourney.loc[i] == 1].index\n",
    "    cur_season_tourney_wins = tourney_wins.loc[i, cur_season_in_tourney]\n",
    "    \n",
    "    # filter current \n",
    "    pi = stationary_distributions[j].loc[cur_season_in_tourney.astype(int)]\n",
    "    \n",
    "    if random.uniform(0,1) < .7:\n",
    "        preds_train.append(pi)\n",
    "        resps_train.append(cur_season_tourney_wins)\n",
    "    else:\n",
    "        preds_cross.append(pi)\n",
    "        resps_cross.append(cur_season_tourney_wins) \n",
    "    \n",
    "    i = i + 1\n",
    "    j = j + 1"
   ]
  },
  {
   "cell_type": "code",
   "execution_count": null,
   "metadata": {
    "collapsed": false
   },
   "outputs": [],
   "source": [
    "# train test split\n",
    "x_train = pd.concat(preds_train).values\n",
    "y_train = pd.concat(resps_train).values\n",
    "x_train = x_train.reshape(x_train.shape[0],1)\n",
    "y_train = y_train.reshape(y_train.shape[0],1)\n",
    "\n",
    "x_cross = pd.concat(preds_cross).values\n",
    "y_cross = pd.concat(resps_cross).values\n",
    "x_cross = x_cross.reshape(x_cross.shape[0],1)\n",
    "y_cross = y_cross.reshape(y_cross.shape[0],1)\n",
    "\n",
    "# fit model to test\n",
    "lin_reg = LinReg()\n",
    "lin_reg.fit(x_train,y_train)\n",
    "test_r2 = lin_reg.score(x_cross, y_cross)\n",
    "\n",
    "# line to plot\n",
    "x_vals = np.array([0, .02])\n",
    "y_vals = x_vals * lin_reg.coef_[0] + lin_reg.intercept_\n",
    "\n",
    "# init plot\n",
    "fig = plt.figure(figsize=(8,4))\n",
    "ax = fig.add_subplot(111)\n",
    "\n",
    "# scatter and plot line\n",
    "ax.scatter(x_cross, y_cross, color=\"Blue\", label=\"Test Data Points\", alpha=.5)\n",
    "ax.plot(x_vals, y_vals, color=\"green\", label=\"Regression Line\")\n",
    "\n",
    "# format axis\n",
    "ax.set_xlim([.001, .012])\n",
    "ax.set_ylim([-1,7])\n",
    "ax.set_title(\"$\\pi_i$ vs. Tournament Wins, test r^2 = {}\".format(round(test_r2, 2)))\n",
    "ax.set_xlabel(\"pi_i (stationary distribution probability of ith team)\")\n",
    "ax.set_ylabel(\"Tournament Wins\")\n",
    "ax.legend(bbox_to_anchor=(1.05, 1), loc=2, borderaxespad=0.)"
   ]
  }
 ],
 "metadata": {
  "kernelspec": {
   "display_name": "Python [Root]",
   "language": "python",
   "name": "Python [Root]"
  },
  "language_info": {
   "codemirror_mode": {
    "name": "ipython",
    "version": 2
   },
   "file_extension": ".py",
   "mimetype": "text/x-python",
   "name": "python",
   "nbconvert_exporter": "python",
   "pygments_lexer": "ipython2",
   "version": "2.7.12"
  }
 },
 "nbformat": 4,
 "nbformat_minor": 0
}
