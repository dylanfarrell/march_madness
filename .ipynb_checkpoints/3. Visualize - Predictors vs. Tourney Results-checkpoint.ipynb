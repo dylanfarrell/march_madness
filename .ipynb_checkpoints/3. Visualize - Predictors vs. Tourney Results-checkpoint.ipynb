{
 "cells": [
  {
   "cell_type": "code",
   "execution_count": 12,
   "metadata": {},
   "outputs": [],
   "source": [
    "import numpy as np\n",
    "import pandas as pd\n",
    "import matplotlib.pyplot as plt\n",
    "%matplotlib inline"
   ]
  },
  {
   "cell_type": "code",
   "execution_count": 25,
   "metadata": {},
   "outputs": [],
   "source": [
    "teams = pd.read_csv(\"datasets/kaggle_data/MTeams.csv\")\n",
    "seeds = pd.read_csv(\"datasets/kaggle_data/MNCAATourneySeeds.csv\")"
   ]
  },
  {
   "cell_type": "code",
   "execution_count": 26,
   "metadata": {},
   "outputs": [],
   "source": [
    "min_season = seeds[\"Season\"].min()\n",
    "max_season = seeds[\"Season\"].max()\n",
    "min_team = teams[\"TeamID\"].min()\n",
    "max_team = teams[\"TeamID\"].max()"
   ]
  },
  {
   "cell_type": "code",
   "execution_count": 45,
   "metadata": {},
   "outputs": [],
   "source": [
    "def filter_nan(data, year):\n",
    "    series = data.loc[year, :]\n",
    "    return data.loc[year, series.notnull()]"
   ]
  },
  {
   "cell_type": "code",
   "execution_count": 74,
   "metadata": {},
   "outputs": [],
   "source": [
    "def plot_correlation(min_year, max_year, in_tourney, tourney_wins, predictor, color, ax, nan):\n",
    "    for season in range(min_year, max_year):\n",
    "        # teams in the tournemnt\n",
    "        tourney_status = in_tourney.loc[season, :]\n",
    "        tourney_teams = tourney_status[tourney_status[:] > 0].index\n",
    "\n",
    "        # filtered predictor\n",
    "        if nan:\n",
    "            pred = filter_nan(predictor, season)   \n",
    "        else:\n",
    "            pred = predictor.loc[season, :]\n",
    "        \n",
    "        pred_tourney_teams = pred.loc[tourney_teams]\n",
    "    \n",
    "        # filtered tourney wins\n",
    "        wins = tourney_wins_matrix.loc[season]\n",
    "        wins_tourney_teams = wins[tourney_teams]\n",
    "\n",
    "        # index of positive wins in tourney\n",
    "        ax.scatter(pred_tourney_teams, wins_tourney_teams, color=color)"
   ]
  },
  {
   "cell_type": "markdown",
   "metadata": {},
   "source": [
    "### Load in variables"
   ]
  },
  {
   "cell_type": "code",
   "execution_count": 75,
   "metadata": {},
   "outputs": [],
   "source": [
    "in_tourney_matrix = pd.read_csv(\"datasets/generated_data/in_tourney_matrix\", index_col=0)\n",
    "tourney_wins_matrix = pd.read_csv(\"datasets/generated_data/tourney_wins_matrix\", index_col=0)"
   ]
  },
  {
   "cell_type": "code",
   "execution_count": 76,
   "metadata": {},
   "outputs": [
    {
     "data": {
      "text/plain": [
       "(37, 372)"
      ]
     },
     "execution_count": 76,
     "metadata": {},
     "output_type": "execute_result"
    }
   ],
   "source": [
    "rpi_matrix.shape"
   ]
  },
  {
   "cell_type": "code",
   "execution_count": 77,
   "metadata": {},
   "outputs": [
    {
     "data": {
      "text/plain": [
       "1985"
      ]
     },
     "execution_count": 77,
     "metadata": {},
     "output_type": "execute_result"
    }
   ],
   "source": [
    "min_season"
   ]
  },
  {
   "cell_type": "markdown",
   "metadata": {},
   "source": [
    "### Visualize"
   ]
  },
  {
   "cell_type": "markdown",
   "metadata": {},
   "source": [
    "1) <b>RPI (SOS)</b>"
   ]
  },
  {
   "cell_type": "code",
   "execution_count": 81,
   "metadata": {},
   "outputs": [
    {
     "data": {
      "image/png": "[encoded data removed]",
      "text/plain": [
       "<Figure size 432x288 with 1 Axes>"
      ]
     },
     "metadata": {
      "needs_background": "light"
     },
     "output_type": "display_data"
    }
   ],
   "source": [
    "rpi_matrix = pd.read_csv(\"datasets/generated_data/regular_season_rpi_matrix\", index_col=0)\n",
    "\n",
    "fig = plt.figure()\n",
    "ax = fig.add_subplot(111)\n",
    "\n",
    "# plot rpi \n",
    "plot_correlation(min_season, max_season, in_tourney_matrix, tourney_wins_matrix, rpi_matrix, \"green\", ax, True)\n",
    "\n",
    "ax.set_xlabel(\"Rpi\")\n",
    "ax.set_ylabel(\"Tournament wins\")\n",
    "ax.set_title(\"Tournament Wins as a Function of RPI\")\n",
    "plt.show()"
   ]
  },
  {
   "cell_type": "code",
   "execution_count": null,
   "metadata": {},
   "outputs": [],
   "source": []
  },
  {
   "cell_type": "code",
   "execution_count": null,
   "metadata": {},
   "outputs": [],
   "source": []
  }
 ],
 "metadata": {
  "kernelspec": {
   "display_name": "Python 3",
   "language": "python",
   "name": "python3"
  },
  "language_info": {
   "codemirror_mode": {
    "name": "ipython",
    "version": 3
   },
   "file_extension": ".py",
   "mimetype": "text/x-python",
   "name": "python",
   "nbconvert_exporter": "python",
   "pygments_lexer": "ipython3",
   "version": "3.7.7"
  }
 },
 "nbformat": 4,
 "nbformat_minor": 2
}
