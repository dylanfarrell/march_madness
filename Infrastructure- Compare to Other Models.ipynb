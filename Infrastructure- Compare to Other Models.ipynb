{
 "cells": [
  {
   "cell_type": "markdown",
   "metadata": {},
   "source": [
    "# Compare to Other Models"
   ]
  },
  {
   "cell_type": "markdown",
   "metadata": {},
   "source": [
    "- Robert Shaw\n",
    "- Data Driven March Madness\n",
    "\n",
    "In this file, we test code written in march_madness_classes. The code allows us to train a head to head model predicting the the probability of team 1 beating team 2 in a college basketball games based on a logistic model of the probability. We run the tournament n times, counting the expected score of each team over the iterations. We then take the total score over the n iterations and predict head to head matchups as arg_max(points_1, points_2)."
   ]
  },
  {
   "cell_type": "code",
   "execution_count": 1,
   "metadata": {
    "collapsed": false
   },
   "outputs": [],
   "source": [
    "import march_madness_classes as mmc\n",
    "import march_madness_games as mmg\n",
    "import march_madness_models as mmm\n",
    "import pandas as pd\n",
    "from sklearn.preprocessing import StandardScaler\n",
    "from sklearn.linear_model import LogisticRegression as LogReg"
   ]
  },
  {
   "cell_type": "code",
   "execution_count": 2,
   "metadata": {
    "collapsed": false
   },
   "outputs": [],
   "source": [
    "# read in the dataset\n",
    "seeds = pd.read_csv(\"datasets/kaggle_data/TourneySeeds.csv\")\n",
    "slots = pd.read_csv(\"datasets/kaggle_data/TourneySlots.csv\")\n",
    "games = pd.read_csv(\"datasets/kaggle_data/TourneyCompactResults.csv\")\n",
    "\n",
    "seeds_arr = mmg.filter_into_seasons(seeds)\n",
    "slots_arr = mmg.filter_into_seasons(slots)\n",
    "games_arr = mmg.filter_into_seasons(games)"
   ]
  },
  {
   "cell_type": "code",
   "execution_count": 3,
   "metadata": {
    "collapsed": true
   },
   "outputs": [],
   "source": [
    "# extract predictors\n",
    "markov_data = pd.read_csv(\"datasets/our_data/stationary\", index_col=0)\n",
    "consistency = pd.read_csv(\"datasets/our_data/consistency\", index_col=0)\n",
    "dominance = pd.read_csv(\"datasets/our_data/dominance\", index_col=0)\n",
    "past_resul = pd.read_csv(\"datasets/our_data/past_results\", index_col=0)\n",
    "rpi = pd.read_csv(\"datasets/our_data/rpi\", index_col=0)\n",
    "bad_losses = pd.read_csv(\"datasets/our_data/bad_losses\", index_col=0)\n",
    "tough_wins = pd.read_csv(\"datasets/our_data/tough_wins\", index_col=0)\n",
    "close_games= pd.read_csv(\"datasets/our_data/close_games\", index_col=0)\n",
    "close_wins = pd.read_csv(\"datasets/our_data/close_wins\",index_col=0)\n",
    "close_wins_perc = pd.read_csv(\"datasets/our_data/close_wins_perc\", index_col=0)\n",
    "momentum = pd.read_csv(\"datasets/our_data/momentum\", index_col=0)\n",
    "weighted_wins = pd.read_csv(\"datasets/our_data/weighted_wins\", index_col=0)\n",
    "seed_matrix_df = pd.read_csv(\"datasets/our_data/team_summary_data/seeds_matrix\", index_col=0)"
   ]
  },
  {
   "cell_type": "code",
   "execution_count": 4,
   "metadata": {
    "collapsed": true
   },
   "outputs": [],
   "source": [
    "# get data into correct format\n",
    "predictor_names = [\"min_index_id\", \"max_index_id\", \"markov\", \"dominance\", \"rpi\", \"bad_losses\", \"tough_wins\", \"close_wins\", \"close_wins_perc\", \"weighted_wins\", \"past_resul\", \"momentum\"] \n",
    "predictor_dfs = [markov_data, dominance, rpi, bad_losses, tough_wins, close_wins, close_wins_perc, weighted_wins, past_resul, momentum]                                           "
   ]
  },
  {
   "cell_type": "code",
   "execution_count": 5,
   "metadata": {
    "collapsed": false
   },
   "outputs": [],
   "source": [
    "pred, resp = mmg.generate_multiple_years_of_games(range(1987, 2001), \n",
    "                                                  seeds_arr, \n",
    "                                                  slots_arr, \n",
    "                                                  games_arr, \n",
    "                                                  [\"min_index_id\", \"max_index_id\", \"markov\", \"dominance\", \"rpi\", \"bad_losses\", \"tough_wins\", \"close_wins\", \"close_wins_perc\", \"weighted_wins\", \"past_resul\", \"momentum\"], \n",
    "                                                  [markov_data, dominance, rpi, bad_losses, tough_wins, close_wins, close_wins_perc, weighted_wins, past_resul, momentum],\n",
    "                                                  scoring_dif = False)\n"
   ]
  },
  {
   "cell_type": "code",
   "execution_count": 7,
   "metadata": {
    "collapsed": false
   },
   "outputs": [
    {
     "data": {
      "text/plain": [
       "LogisticRegression(C=10, class_weight=None, dual=False, fit_intercept=True,\n",
       "          intercept_scaling=1, max_iter=100, multi_class='ovr', n_jobs=1,\n",
       "          penalty='l2', random_state=None, solver='liblinear', tol=0.0001,\n",
       "          verbose=0, warm_start=False)"
      ]
     },
     "execution_count": 7,
     "metadata": {},
     "output_type": "execute_result"
    }
   ],
   "source": [
    "scaler = StandardScaler().fit(pred.iloc[:, [2,4,5,6,7,10]])\n",
    "\n",
    "log_reg_model = LogReg(C = 10)\n",
    "log_reg_model.fit(scaler.transform(pred.iloc[:, [2,4,5,6,7,10]]), resp.values.T[0])"
   ]
  },
  {
   "cell_type": "markdown",
   "metadata": {},
   "source": [
    "#### Test on 2002"
   ]
  },
  {
   "cell_type": "code",
   "execution_count": 87,
   "metadata": {
    "collapsed": false
   },
   "outputs": [
    {
     "data": {
      "text/plain": [
       "<module 'march_madness_models' from 'march_madness_models.py'>"
      ]
     },
     "execution_count": 87,
     "metadata": {},
     "output_type": "execute_result"
    }
   ],
   "source": [
    "reload(mmc)\n",
    "reload(mmm)"
   ]
  },
  {
   "cell_type": "code",
   "execution_count": 95,
   "metadata": {
    "collapsed": false
   },
   "outputs": [],
   "source": [
    "year = 2005\n",
    "seeds = seeds_arr[year - 1985]\n",
    "slots = slots_arr[year - 1985]\n",
    "resul = games_arr[year - 1985]\n",
    "\n",
    "# biased model ---> predicts upsets with proability p + .05 (where p comes from log reg model)\n",
    "head_to_head_biased_model = mmm.ModelPredictor(log_reg_model, \n",
    "                                               scaler,\n",
    "                                               predictor_dfs, \n",
    "                                               year, \n",
    "                                               simulation=False, \n",
    "                                               higher_seed_bias=True, \n",
    "                                               seeds_df=seeds, \n",
    "                                               higher_seed_bias_delta=.05)\n",
    "\n",
    "\n",
    "# biased model with cooling ----> predicts upsets with proability p + .05 * cooling_factor (where p comes from log reg model)\n",
    "head_to_head_biased_model_cooling = mmm.ModelPredictor(log_reg_model, \n",
    "                                                       scaler, \n",
    "                                                       predictor_dfs, \n",
    "                                                       year, \n",
    "                                                       seeds_df=seeds, \n",
    "                                                       simulation=False, \n",
    "                                                       higher_seed_bias=True, \n",
    "                                                       higher_seed_bias_delta=.01,\n",
    "                                                       cooling = {6:10, 5:10, 4:10, 3:10, 2:-5, 1:-5}\n",
    "                                                      )\n",
    "\n",
    "# unbiased model ----> predicts based on head to head log reg model\n",
    "head_to_head_unbiased_model = mmm.ModelPredictor(log_reg_model, scaler, predictor_dfs, year, simulation=False, higher_seed_bias=False, seeds_df=seeds)\n",
    "\n",
    "\n",
    "# for comparison\n",
    "tourney_actual = mmc.Tournament(seeds, slots, mmm.ActualTournament(resul))\n",
    "tourney_top_seed = mmc.Tournament(seeds, slots, mmm.BasicPredictor())\n",
    "\n",
    "# predict tournament\n",
    "tourney_biased_model = mmc.Tournament(seeds, slots, head_to_head_biased_model)\n",
    "tourney_biased_model_cooling = mmc.Tournament(seeds, slots, head_to_head_biased_model_cooling)\n",
    "tourney_unbiased_model = mmc.Tournament(seeds, slots, head_to_head_unbiased_model)"
   ]
  },
  {
   "cell_type": "code",
   "execution_count": 96,
   "metadata": {
    "collapsed": false
   },
   "outputs": [
    {
     "name": "stdout",
     "output_type": "stream",
     "text": [
      "7     1338\n",
      "23    1280\n",
      "30    1301\n",
      "39    1104\n",
      "48    1257\n",
      "53    1328\n",
      "55    1242\n",
      "56    1257\n",
      "60    1228\n",
      "61    1314\n",
      "62    1228\n",
      "Name: Prediction, dtype: object\n",
      "7     1334\n",
      "23    1280\n",
      "30    1301\n",
      "39    1454\n",
      "48    1257\n",
      "53    1246\n",
      "55    1458\n",
      "56    1257\n",
      "60    1228\n",
      "61    1314\n",
      "62    1314\n",
      "Name: Prediction, dtype: object\n",
      "6\n",
      "2\n",
      "11\n"
     ]
    },
    {
     "ename": "NameError",
     "evalue": "global name 'a' is not defined",
     "output_type": "error",
     "traceback": [
      "\u001b[0;31m---------------------------------------------------------------------------\u001b[0m",
      "\u001b[0;31mNameError\u001b[0m                                 Traceback (most recent call last)",
      "\u001b[0;32m<ipython-input-96-3639671969b1>\u001b[0m in \u001b[0;36m<module>\u001b[0;34m()\u001b[0m\n\u001b[0;32m----> 1\u001b[0;31m \u001b[0mtourney_biased_model\u001b[0m\u001b[0;34m.\u001b[0m\u001b[0mcompare_to_dif_tournament\u001b[0m\u001b[0;34m(\u001b[0m\u001b[0mtourney_actual\u001b[0m\u001b[0;34m,\u001b[0m \u001b[0mtourney_top_seed\u001b[0m\u001b[0;34m)\u001b[0m\u001b[0;34m\u001b[0m\u001b[0m\n\u001b[0m",
      "\u001b[0;32m/Users/robertshaw/Documents/2016 Fall/CS109/project/march_madness_classes.pyc\u001b[0m in \u001b[0;36mcompare_to_dif_tournament\u001b[0;34m(self, act_results, dif_results, print_res, scoring)\u001b[0m\n\u001b[1;32m    308\u001b[0m \u001b[0;34m\u001b[0m\u001b[0m\n\u001b[1;32m    309\u001b[0m \u001b[0;34m\u001b[0m\u001b[0m\n\u001b[0;32m--> 310\u001b[0;31m             \u001b[0;32mprint\u001b[0m \u001b[0ma\u001b[0m\u001b[0;34m\u001b[0m\u001b[0m\n\u001b[0m\u001b[1;32m    311\u001b[0m \u001b[0;34m\u001b[0m\u001b[0m\n\u001b[1;32m    312\u001b[0m \u001b[0;34m\u001b[0m\u001b[0m\n",
      "\u001b[0;31mNameError\u001b[0m: global name 'a' is not defined"
     ]
    }
   ],
   "source": [
    "tourney_biased_model.compare_to_dif_tournament(tourney_actual, tourney_top_seed)"
   ]
  },
  {
   "cell_type": "code",
   "execution_count": null,
   "metadata": {
    "collapsed": true
   },
   "outputs": [],
   "source": []
  },
  {
   "cell_type": "code",
   "execution_count": null,
   "metadata": {
    "collapsed": true
   },
   "outputs": [],
   "source": []
  }
 ],
 "metadata": {
  "anaconda-cloud": {},
  "kernelspec": {
   "display_name": "Python [Root]",
   "language": "python",
   "name": "Python [Root]"
  },
  "language_info": {
   "codemirror_mode": {
    "name": "ipython",
    "version": 2
   },
   "file_extension": ".py",
   "mimetype": "text/x-python",
   "name": "python",
   "nbconvert_exporter": "python",
   "pygments_lexer": "ipython2",
   "version": "2.7.12"
  }
 },
 "nbformat": 4,
 "nbformat_minor": 0
}
