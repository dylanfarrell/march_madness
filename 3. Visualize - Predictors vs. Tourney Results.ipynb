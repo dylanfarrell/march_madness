{
 "cells": [
  {
   "cell_type": "code",
   "execution_count": 12,
   "metadata": {},
   "outputs": [],
   "source": [
    "import numpy as np\n",
    "import pandas as pd\n",
    "import matplotlib.pyplot as plt\n",
    "%matplotlib inline"
   ]
  },
  {
   "cell_type": "code",
   "execution_count": 25,
   "metadata": {},
   "outputs": [],
   "source": [
    "teams = pd.read_csv(\"datasets/kaggle_data/MTeams.csv\")\n",
    "seeds = pd.read_csv(\"datasets/kaggle_data/MNCAATourneySeeds.csv\")"
   ]
  },
  {
   "cell_type": "code",
   "execution_count": 26,
   "metadata": {},
   "outputs": [],
   "source": [
    "min_season = seeds[\"Season\"].min()\n",
    "max_season = seeds[\"Season\"].max()\n",
    "min_team = teams[\"TeamID\"].min()\n",
    "max_team = teams[\"TeamID\"].max()"
   ]
  },
  {
   "cell_type": "code",
   "execution_count": 45,
   "metadata": {},
   "outputs": [],
   "source": [
    "def filter_nan(data, year):\n",
    "    series = data.loc[year, :]\n",
    "    return data.loc[year, series.notnull()]"
   ]
  },
  {
   "cell_type": "code",
   "execution_count": 74,
   "metadata": {},
   "outputs": [],
   "source": [
    "def plot_correlation(min_year, max_year, in_tourney, tourney_wins, predictor, color, ax, nan):\n",
    "    for season in range(min_year, max_year):\n",
    "        # teams in the tournemnt\n",
    "        tourney_status = in_tourney.loc[season, :]\n",
    "        tourney_teams = tourney_status[tourney_status[:] > 0].index\n",
    "\n",
    "        # filtered predictor\n",
    "        if nan:\n",
    "            pred = filter_nan(predictor, season)   \n",
    "        else:\n",
    "            pred = predictor.loc[season, :]\n",
    "        \n",
    "        pred_tourney_teams = pred.loc[tourney_teams]\n",
    "    \n",
    "        # filtered tourney wins\n",
    "        wins = tourney_wins_matrix.loc[season]\n",
    "        wins_tourney_teams = wins[tourney_teams]\n",
    "\n",
    "        # index of positive wins in tourney\n",
    "        ax.scatter(pred_tourney_teams, wins_tourney_teams, color=color)"
   ]
  },
  {
   "cell_type": "markdown",
   "metadata": {},
   "source": [
    "### Load in variables"
   ]
  },
  {
   "cell_type": "code",
   "execution_count": 75,
   "metadata": {},
   "outputs": [],
   "source": [
    "in_tourney_matrix = pd.read_csv(\"datasets/generated_data/in_tourney_matrix\", index_col=0)\n",
    "tourney_wins_matrix = pd.read_csv(\"datasets/generated_data/tourney_wins_matrix\", index_col=0)"
   ]
  },
  {
   "cell_type": "code",
   "execution_count": 76,
   "metadata": {},
   "outputs": [
    {
     "data": {
      "text/plain": [
       "(37, 372)"
      ]
     },
     "execution_count": 76,
     "metadata": {},
     "output_type": "execute_result"
    }
   ],
   "source": [
    "rpi_matrix.shape"
   ]
  },
  {
   "cell_type": "code",
   "execution_count": 77,
   "metadata": {},
   "outputs": [
    {
     "data": {
      "text/plain": [
       "1985"
      ]
     },
     "execution_count": 77,
     "metadata": {},
     "output_type": "execute_result"
    }
   ],
   "source": [
    "min_season"
   ]
  },
  {
   "cell_type": "markdown",
   "metadata": {},
   "source": [
    "### Visualize"
   ]
  },
  {
   "cell_type": "markdown",
   "metadata": {},
   "source": [
    "<b>1) RPI (SOS)</b>"
   ]
  },
  {
   "cell_type": "code",
   "execution_count": 82,
   "metadata": {},
   "outputs": [
    {
     "data": {
      "image/png": "[encoded data removed]",
      "text/plain": [
       "<Figure size 432x288 with 1 Axes>"
      ]
     },
     "metadata": {
      "needs_background": "light"
     },
     "output_type": "display_data"
    }
   ],
   "source": [
    "rpi_matrix = pd.read_csv(\"datasets/generated_data/regular_season_rpi_matrix\", index_col=0)\n",
    "\n",
    "fig = plt.figure()\n",
    "ax = fig.add_subplot(111)\n",
    "\n",
    "# plot rpi \n",
    "plot_correlation(min_season, max_season, in_tourney_matrix, tourney_wins_matrix, rpi_matrix, \"green\", ax, True)\n",
    "\n",
    "ax.set_xlabel(\"Rpi\")\n",
    "ax.set_ylabel(\"Tournament wins\")\n",
    "ax.set_title(\"Tournament Wins as a Function of RPI\")\n",
    "plt.show()"
   ]
  },
  {
   "cell_type": "markdown",
   "metadata": {},
   "source": [
    "As we can see, there appears to be some correlation between RPI and tournament wins, as we would expect. Thus it seems valid to consider including RPI or some other metric of strenght of schedule in our model to predict whether a team will win a tournament game."
   ]
  },
  {
   "cell_type": "markdown",
   "metadata": {},
   "source": [
    "<b>2) Win Percentage vs. Tournament Teams <b>"
   ]
  },
  {
   "cell_type": "code",
   "execution_count": 84,
   "metadata": {},
   "outputs": [
    {
     "ename": "NameError",
     "evalue": "name 'win_percentage_vs_tourney_teams_matrix' is not defined",
     "output_type": "error",
     "traceback": [
      "\u001b[0;31m---------------------------------------------------------------------------\u001b[0m",
      "\u001b[0;31mNameError\u001b[0m                                 Traceback (most recent call last)",
      "\u001b[0;32m<ipython-input-84-82ac9b1beb4c>\u001b[0m in \u001b[0;36m<module>\u001b[0;34m\u001b[0m\n\u001b[1;32m      8\u001b[0m \u001b[0;34m\u001b[0m\u001b[0m\n\u001b[1;32m      9\u001b[0m     \u001b[0;31m# filtered predictor\u001b[0m\u001b[0;34m\u001b[0m\u001b[0;34m\u001b[0m\u001b[0;34m\u001b[0m\u001b[0m\n\u001b[0;32m---> 10\u001b[0;31m     \u001b[0mpred\u001b[0m \u001b[0;34m=\u001b[0m \u001b[0mwin_percentage_vs_tourney_teams_matrix\u001b[0m\u001b[0;34m.\u001b[0m\u001b[0mloc\u001b[0m\u001b[0;34m[\u001b[0m\u001b[0mseason\u001b[0m\u001b[0;34m,\u001b[0m \u001b[0;34m:\u001b[0m\u001b[0;34m]\u001b[0m\u001b[0;34m\u001b[0m\u001b[0;34m\u001b[0m\u001b[0m\n\u001b[0m\u001b[1;32m     11\u001b[0m     \u001b[0mpred_tourney_teams\u001b[0m \u001b[0;34m=\u001b[0m \u001b[0mpred\u001b[0m\u001b[0;34m.\u001b[0m\u001b[0mloc\u001b[0m\u001b[0;34m[\u001b[0m\u001b[0mtourney_teams\u001b[0m\u001b[0;34m.\u001b[0m\u001b[0mastype\u001b[0m\u001b[0;34m(\u001b[0m\u001b[0mnp\u001b[0m\u001b[0;34m.\u001b[0m\u001b[0mfloat\u001b[0m\u001b[0;34m)\u001b[0m\u001b[0;34m]\u001b[0m\u001b[0;34m\u001b[0m\u001b[0;34m\u001b[0m\u001b[0m\n\u001b[1;32m     12\u001b[0m \u001b[0;34m\u001b[0m\u001b[0m\n",
      "\u001b[0;31mNameError\u001b[0m: name 'win_percentage_vs_tourney_teams_matrix' is not defined"
     ]
    },
    {
     "data": {
      "image/png": "[encoded data removed]",
      "text/plain": [
       "<Figure size 432x288 with 1 Axes>"
      ]
     },
     "metadata": {
      "needs_background": "light"
     },
     "output_type": "display_data"
    }
   ],
   "source": [
    "\n",
    "\n",
    "fig2 = plt.figure()\n",
    "ax2 = fig2.add_subplot(111)\n",
    "\n",
    "for season in range(min_season, max_season):\n",
    "    # teams in the tournemnt\n",
    "    tourney_status = in_tourney_matrix.loc[season, :]\n",
    "    tourney_teams = tourney_status[tourney_status[:] > 0].index.values\n",
    "\n",
    "    # filtered predictor\n",
    "    pred = win_percentage_vs_tourney_teams_matrix.loc[season, :]\n",
    "    pred_tourney_teams = pred.loc[tourney_teams.astype(np.float)]\n",
    "    \n",
    "    # filtered tourney wins\n",
    "    wins = tourney_wins_matrix.loc[season]\n",
    "    wins_tourney_teams = wins[tourney_teams]\n",
    "\n",
    "    # index of positive wins in tourney\n",
    "    ax2.scatter(pred_tourney_teams, wins_tourney_teams, color=\"red\", alpha=.25)\n",
    "    \n",
    "ax2.set_xlabel(\"Win Percentage Vs. Tournament Teams Regular Season\")\n",
    "ax2.set_ylabel(\"Tournament wins\")\n",
    "ax2.set_title(\"Tournament Wins as a Function of Reg Season Percentage Vs. Tournament Teams\")\n",
    "plt.show()"
   ]
  },
  {
   "cell_type": "markdown",
   "metadata": {},
   "source": [
    "As we can see there is only a very small correlation between the win percentage in the regular season and tournament wins, which is somewhat unexpected. However, we could think that teams which win in the tournament are \"battle tested\" and will have played serveral regular season games against good teams, leading to a low percentage of wins versus highly ranked teams. As such, we will consider total wins instead of win percentage."
   ]
  }
 ],
 "metadata": {
  "kernelspec": {
   "display_name": "Python 3",
   "language": "python",
   "name": "python3"
  },
  "language_info": {
   "codemirror_mode": {
    "name": "ipython",
    "version": 3
   },
   "file_extension": ".py",
   "mimetype": "text/x-python",
   "name": "python",
   "nbconvert_exporter": "python",
   "pygments_lexer": "ipython3",
   "version": "3.7.7"
  }
 },
 "nbformat": 4,
 "nbformat_minor": 2
}
