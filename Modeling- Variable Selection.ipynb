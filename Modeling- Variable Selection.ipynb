{
 "cells": [
  {
   "cell_type": "markdown",
   "metadata": {},
   "source": [
    "# Modeling- Variable Selection\n",
    "- Robert Shaw, Sean Coleman, Spencer Evans, Daniel Alpert\n",
    "- CS109a Project- Data Driven March Madness\n",
    "\n",
    "---\n",
    "\n",
    "In this file, we perform variable selection for our logistic regression model of head to head games. To do this, we will use a combination of subset selection methods and regularization methods. Further, we will consider looking at scoring differential and using lasso regression as a variable selection method.\n",
    "\n",
    "\n",
    "Further, we will also look at random forest, lda, and svc to see if there is a major improvement in our model's accuracy. However, we like the interpretaion available using logistic regression, so unless we see a major improvement in accuracy we will stick with logistic regession.\n",
    "\n",
    "---"
   ]
  },
  {
   "cell_type": "code",
   "execution_count": 279,
   "metadata": {
    "collapsed": false
   },
   "outputs": [],
   "source": [
    "import march_madness_classes as mmc\n",
    "import march_madness_games as mmg\n",
    "import march_madness_models as mmm\n",
    "import march_madness_train_and_tune as mmtt\n",
    "\n",
    "import pandas as pd\n",
    "import numpy as np\n",
    "import matplotlib\n",
    "import matplotlib.pyplot as plt\n",
    "%matplotlib inline\n",
    "\n",
    "from sklearn.preprocessing import StandardScaler\n",
    "from sklearn.linear_model import LogisticRegression as LogReg\n",
    "from sklearn.linear_model import Lasso as Lasso\n",
    "from sklearn.ensemble import RandomForestClassifier as random_forest"
   ]
  },
  {
   "cell_type": "markdown",
   "metadata": {},
   "source": [
    "### 1) Load Our Data"
   ]
  },
  {
   "cell_type": "code",
   "execution_count": 2,
   "metadata": {
    "collapsed": true
   },
   "outputs": [],
   "source": [
    "# read in the dataset\n",
    "seeds = pd.read_csv(\"datasets/kaggle_data/TourneySeeds.csv\")\n",
    "slots = pd.read_csv(\"datasets/kaggle_data/TourneySlots.csv\")\n",
    "games = pd.read_csv(\"datasets/kaggle_data/TourneyCompactResults.csv\")\n",
    "\n",
    "seeds_arr = mmg.filter_into_seasons(seeds)\n",
    "slots_arr = mmg.filter_into_seasons(slots)\n",
    "games_arr = mmg.filter_into_seasons(games)"
   ]
  },
  {
   "cell_type": "code",
   "execution_count": 110,
   "metadata": {
    "collapsed": false
   },
   "outputs": [],
   "source": [
    "# extract predictors\n",
    "markov          = pd.read_csv(\"datasets/our_data/stationary\", index_col=0)\n",
    "rpi             = pd.read_csv(\"datasets/our_data/rpi\", index_col=0)\n",
    "weighted_wins   = pd.read_csv(\"datasets/our_data/weighted_wins\", index_col=0)\n",
    "consistency     = pd.read_csv(\"datasets/our_data/consistency\", index_col=0)\n",
    "dominance       = pd.read_csv(\"datasets/our_data/dominance\", index_col=0)\n",
    "bad_losses      = pd.read_csv(\"datasets/our_data/bad_losses\", index_col=0)\n",
    "tough_wins      = pd.read_csv(\"datasets/our_data/tough_wins\", index_col=0)\n",
    "close_wins      = pd.read_csv(\"datasets/our_data/close_wins\",index_col=0)\n",
    "close_wins_perc = pd.read_csv(\"datasets/our_data/close_wins_perc\", index_col=0)\n",
    "momentum        = pd.read_csv(\"datasets/our_data/momentum\", index_col=0)\n",
    "past_resul      = pd.read_csv(\"datasets/our_data/past_results\", index_col=0)\n",
    "def_eff         = pd.read_csv(\"datasets/our_data/def_eff\", index_col=0)\n",
    "off_eff         = pd.read_csv(\"datasets/our_data/off_eff\", index_col=0)\n",
    "tempo           = pd.read_csv(\"datasets/our_data/tempo\", index_col=0)\n",
    "win_ratio       = pd.read_csv(\"datasets/our_data/win_ratio\", index_col=0)\n",
    "wins            = pd.read_csv(\"datasets/our_data/team_summary_data/regular_season_wins\", index_col=0)\n",
    "losses          = pd.read_csv(\"datasets/our_data/team_summary_data/regular_season_loss_matrix\", index_col=0)\n",
    "luck            = pd.read_csv(\"datasets/our_data/luck\", index_col=0)\n",
    "\n",
    "# seeds\n",
    "seed_matrix_df  = pd.read_csv(\"datasets/our_data/team_summary_data/seeds_matrix\", index_col=0)"
   ]
  },
  {
   "cell_type": "code",
   "execution_count": 13,
   "metadata": {
    "collapsed": false
   },
   "outputs": [
    {
     "data": {
      "text/plain": [
       "<module 'march_madness_games' from 'march_madness_games.py'>"
      ]
     },
     "execution_count": 13,
     "metadata": {},
     "output_type": "execute_result"
    }
   ],
   "source": [
    "reload(mmg)"
   ]
  },
  {
   "cell_type": "code",
   "execution_count": 111,
   "metadata": {
    "collapsed": false
   },
   "outputs": [],
   "source": [
    "# get data into correct format\n",
    "predictor_names = [\"min_index_id\", \n",
    "                   \"max_index_id\", \n",
    "                   \"markov\",\n",
    "                   \"rpi\",\n",
    "                   \"weighted_wins\",\n",
    "                   \"consistency\",\n",
    "                   \"dominance\", \n",
    "                   \"bad_losses\", \n",
    "                   \"tough_wins\", \n",
    "                   \"close_wins\", \n",
    "                   \"close_wins_perc\", \n",
    "                   \"momentum\",\n",
    "                   \"past_resul\",\n",
    "                   \"def_eff\",\n",
    "                   \"off_eff\",\n",
    "                   \"tempo\",\n",
    "                   \"win ratio\",\n",
    "                   \"wins\",\n",
    "                   \"losses\",\n",
    "                   \"luck\"] \n",
    "\n",
    "# package the predictors into an array\n",
    "predictor_dfs = [markov, \n",
    "                 rpi,\n",
    "                 weighted_wins,  \n",
    "                 consistency,\n",
    "                 dominance, \n",
    "                 bad_losses, \n",
    "                 tough_wins, \n",
    "                 close_wins, \n",
    "                 close_wins_perc, \n",
    "                 momentum,\n",
    "                 past_resul,\n",
    "                 def_eff,\n",
    "                 off_eff,\n",
    "                 tempo,\n",
    "                 win_ratio,\n",
    "                 wins,\n",
    "                 losses,\n",
    "                 luck] "
   ]
  },
  {
   "cell_type": "code",
   "execution_count": 99,
   "metadata": {
    "collapsed": false
   },
   "outputs": [],
   "source": [
    "pred, resp = mmg.generate_multiple_years_of_games(range(2003, 2016), \n",
    "                                                  seeds_arr, \n",
    "                                                  slots_arr, \n",
    "                                                  games_arr, \n",
    "                                                  predictor_names,\n",
    "                                                  predictor_dfs,\n",
    "                                                  scoring_dif = False)"
   ]
  },
  {
   "cell_type": "code",
   "execution_count": 100,
   "metadata": {
    "collapsed": false
   },
   "outputs": [
    {
     "data": {
      "text/html": [
       "<div>\n",
       "<table border=\"1\" class=\"dataframe\">\n",
       "  <thead>\n",
       "    <tr style=\"text-align: right;\">\n",
       "      <th></th>\n",
       "      <th>min_index_id</th>\n",
       "      <th>max_index_id</th>\n",
       "      <th>markov</th>\n",
       "      <th>rpi</th>\n",
       "      <th>weighted_wins</th>\n",
       "      <th>consistency</th>\n",
       "      <th>dominance</th>\n",
       "      <th>bad_losses</th>\n",
       "      <th>tough_wins</th>\n",
       "      <th>close_wins</th>\n",
       "      <th>close_wins_perc</th>\n",
       "      <th>momentum</th>\n",
       "      <th>past_resul</th>\n",
       "      <th>def_eff</th>\n",
       "      <th>off_eff</th>\n",
       "      <th>tempo</th>\n",
       "      <th>win ratio</th>\n",
       "      <th>wins</th>\n",
       "      <th>luck</th>\n",
       "    </tr>\n",
       "  </thead>\n",
       "  <tbody>\n",
       "    <tr>\n",
       "      <th>0</th>\n",
       "      <td>1328.0</td>\n",
       "      <td>1354.0</td>\n",
       "      <td>0.004267</td>\n",
       "      <td>0.147791</td>\n",
       "      <td>1.438690</td>\n",
       "      <td>-4.0</td>\n",
       "      <td>4.0</td>\n",
       "      <td>-8.0</td>\n",
       "      <td>3.0</td>\n",
       "      <td>1.0</td>\n",
       "      <td>0.166667</td>\n",
       "      <td>0.027911</td>\n",
       "      <td>4.0</td>\n",
       "      <td>-0.061449</td>\n",
       "      <td>0.098682</td>\n",
       "      <td>-242.600</td>\n",
       "      <td>0.312454</td>\n",
       "      <td>4.0</td>\n",
       "      <td>3.687546</td>\n",
       "    </tr>\n",
       "    <tr>\n",
       "      <th>1</th>\n",
       "      <td>1190.0</td>\n",
       "      <td>1448.0</td>\n",
       "      <td>-0.003134</td>\n",
       "      <td>-0.099574</td>\n",
       "      <td>-0.922222</td>\n",
       "      <td>5.0</td>\n",
       "      <td>-7.0</td>\n",
       "      <td>8.0</td>\n",
       "      <td>-2.0</td>\n",
       "      <td>2.0</td>\n",
       "      <td>0.000000</td>\n",
       "      <td>-0.011056</td>\n",
       "      <td>-1.0</td>\n",
       "      <td>0.031186</td>\n",
       "      <td>-0.093820</td>\n",
       "      <td>67.550</td>\n",
       "      <td>-0.265337</td>\n",
       "      <td>-7.0</td>\n",
       "      <td>-6.734663</td>\n",
       "    </tr>\n",
       "    <tr>\n",
       "      <th>2</th>\n",
       "      <td>1264.0</td>\n",
       "      <td>1393.0</td>\n",
       "      <td>-0.001668</td>\n",
       "      <td>-0.060741</td>\n",
       "      <td>-1.209524</td>\n",
       "      <td>1.0</td>\n",
       "      <td>-1.0</td>\n",
       "      <td>4.0</td>\n",
       "      <td>-2.0</td>\n",
       "      <td>-1.0</td>\n",
       "      <td>-0.371429</td>\n",
       "      <td>-0.027433</td>\n",
       "      <td>-1.0</td>\n",
       "      <td>-0.024369</td>\n",
       "      <td>-0.040364</td>\n",
       "      <td>-27.200</td>\n",
       "      <td>-0.033941</td>\n",
       "      <td>-1.0</td>\n",
       "      <td>-0.966059</td>\n",
       "    </tr>\n",
       "    <tr>\n",
       "      <th>3</th>\n",
       "      <td>1122.0</td>\n",
       "      <td>1257.0</td>\n",
       "      <td>-0.003825</td>\n",
       "      <td>-0.074778</td>\n",
       "      <td>-1.672619</td>\n",
       "      <td>1.0</td>\n",
       "      <td>-4.0</td>\n",
       "      <td>4.0</td>\n",
       "      <td>0.0</td>\n",
       "      <td>4.0</td>\n",
       "      <td>0.317460</td>\n",
       "      <td>-0.005877</td>\n",
       "      <td>0.0</td>\n",
       "      <td>0.058379</td>\n",
       "      <td>-0.098145</td>\n",
       "      <td>-349.875</td>\n",
       "      <td>-0.303111</td>\n",
       "      <td>-4.0</td>\n",
       "      <td>-3.696889</td>\n",
       "    </tr>\n",
       "    <tr>\n",
       "      <th>4</th>\n",
       "      <td>1139.0</td>\n",
       "      <td>1280.0</td>\n",
       "      <td>-0.001750</td>\n",
       "      <td>-0.022623</td>\n",
       "      <td>-1.723077</td>\n",
       "      <td>-4.0</td>\n",
       "      <td>3.0</td>\n",
       "      <td>-2.0</td>\n",
       "      <td>-3.0</td>\n",
       "      <td>4.0</td>\n",
       "      <td>0.375000</td>\n",
       "      <td>-0.006086</td>\n",
       "      <td>0.0</td>\n",
       "      <td>0.109495</td>\n",
       "      <td>0.077419</td>\n",
       "      <td>-242.275</td>\n",
       "      <td>-0.058307</td>\n",
       "      <td>3.0</td>\n",
       "      <td>3.058307</td>\n",
       "    </tr>\n",
       "  </tbody>\n",
       "</table>\n",
       "</div>"
      ],
      "text/plain": [
       "   min_index_id  max_index_id    markov       rpi  weighted_wins  consistency  \\\n",
       "0        1328.0        1354.0  0.004267  0.147791       1.438690         -4.0   \n",
       "1        1190.0        1448.0 -0.003134 -0.099574      -0.922222          5.0   \n",
       "2        1264.0        1393.0 -0.001668 -0.060741      -1.209524          1.0   \n",
       "3        1122.0        1257.0 -0.003825 -0.074778      -1.672619          1.0   \n",
       "4        1139.0        1280.0 -0.001750 -0.022623      -1.723077         -4.0   \n",
       "\n",
       "   dominance  bad_losses  tough_wins  close_wins  close_wins_perc  momentum  \\\n",
       "0        4.0        -8.0         3.0         1.0         0.166667  0.027911   \n",
       "1       -7.0         8.0        -2.0         2.0         0.000000 -0.011056   \n",
       "2       -1.0         4.0        -2.0        -1.0        -0.371429 -0.027433   \n",
       "3       -4.0         4.0         0.0         4.0         0.317460 -0.005877   \n",
       "4        3.0        -2.0        -3.0         4.0         0.375000 -0.006086   \n",
       "\n",
       "   past_resul   def_eff   off_eff    tempo  win ratio  wins      luck  \n",
       "0         4.0 -0.061449  0.098682 -242.600   0.312454   4.0  3.687546  \n",
       "1        -1.0  0.031186 -0.093820   67.550  -0.265337  -7.0 -6.734663  \n",
       "2        -1.0 -0.024369 -0.040364  -27.200  -0.033941  -1.0 -0.966059  \n",
       "3         0.0  0.058379 -0.098145 -349.875  -0.303111  -4.0 -3.696889  \n",
       "4         0.0  0.109495  0.077419 -242.275  -0.058307   3.0  3.058307  "
      ]
     },
     "execution_count": 100,
     "metadata": {},
     "output_type": "execute_result"
    }
   ],
   "source": [
    "pred.head()"
   ]
  },
  {
   "cell_type": "code",
   "execution_count": 101,
   "metadata": {
    "collapsed": false
   },
   "outputs": [
    {
     "data": {
      "text/html": [
       "<div>\n",
       "<table border=\"1\" class=\"dataframe\">\n",
       "  <thead>\n",
       "    <tr style=\"text-align: right;\">\n",
       "      <th></th>\n",
       "      <th>min_index_win</th>\n",
       "    </tr>\n",
       "  </thead>\n",
       "  <tbody>\n",
       "    <tr>\n",
       "      <th>0</th>\n",
       "      <td>1.0</td>\n",
       "    </tr>\n",
       "    <tr>\n",
       "      <th>1</th>\n",
       "      <td>0.0</td>\n",
       "    </tr>\n",
       "    <tr>\n",
       "      <th>2</th>\n",
       "      <td>0.0</td>\n",
       "    </tr>\n",
       "    <tr>\n",
       "      <th>3</th>\n",
       "      <td>0.0</td>\n",
       "    </tr>\n",
       "    <tr>\n",
       "      <th>4</th>\n",
       "      <td>1.0</td>\n",
       "    </tr>\n",
       "  </tbody>\n",
       "</table>\n",
       "</div>"
      ],
      "text/plain": [
       "   min_index_win\n",
       "0            1.0\n",
       "1            0.0\n",
       "2            0.0\n",
       "3            0.0\n",
       "4            1.0"
      ]
     },
     "execution_count": 101,
     "metadata": {},
     "output_type": "execute_result"
    }
   ],
   "source": [
    "resp.head()"
   ]
  },
  {
   "cell_type": "markdown",
   "metadata": {},
   "source": [
    "---\n",
    "\n",
    "### 2) Train Test Split\n",
    "\n",
    "For our train test splits, we will be using a \"window\" approach. For each year, we will build a model based on the previous 3 years. This will allow us to avoid issues about the idea that the games from year to year are a dependent time series, and will prevent us from over fitting to a specific year."
   ]
  },
  {
   "cell_type": "code",
   "execution_count": 112,
   "metadata": {
    "collapsed": false
   },
   "outputs": [],
   "source": [
    "train_test_arr = []\n",
    "\n",
    "window   = 3\n",
    "min_year = 2006\n",
    "max_year = 2014\n",
    "\n",
    "year_range = range(min_year, max_year)\n",
    "\n",
    "# generate our train test split for each year\n",
    "for year in year_range:\n",
    "    # do the split for the current year\n",
    "    train_test_tuple = mmtt.train_test_split(window, \n",
    "                                             year, \n",
    "                                             seeds_arr, \n",
    "                                             slots_arr, \n",
    "                                             games_arr, \n",
    "                                             predictor_names, \n",
    "                                             predictor_dfs)\n",
    "    \n",
    "    # add to our array\n",
    "    train_test_arr.append(train_test_tuple)"
   ]
  },
  {
   "cell_type": "markdown",
   "metadata": {},
   "source": [
    "--- \n",
    "\n",
    "### 3) Variable Selection"
   ]
  },
  {
   "cell_type": "markdown",
   "metadata": {},
   "source": [
    "We will try a few methods: \n",
    "\n",
    "- Forward Step Wise with Logistic Regression\n",
    "- Random Forest"
   ]
  },
  {
   "cell_type": "code",
   "execution_count": 370,
   "metadata": {
    "collapsed": false
   },
   "outputs": [],
   "source": [
    "# runs logisitic model on each year\n",
    "def run_logistic_model (train_test_arr, variables, c=1, max_year=2014, min_year=2006, print_res=True):\n",
    "    # high regularization\n",
    "\n",
    "    # buffer for scores\n",
    "    scores = np.zeros(max_year - min_year)\n",
    "    coef_arr = np.zeros((scores.shape[0], len(variables)))\n",
    "\n",
    "    # iterate years\n",
    "    for year in year_range:\n",
    "        # get train data\n",
    "        train_x = train_test_arr[year - min_year][0][variables]\n",
    "        train_y = train_test_arr[year - min_year][1].values[:, 0]\n",
    "\n",
    "        # get cross validation set\n",
    "        cross_x = train_test_arr[year - min_year][2][variables]\n",
    "        cross_y = train_test_arr[year - min_year][3].values[:, 0]\n",
    "\n",
    "        # scaling\n",
    "        scaler = StandardScaler().fit(train_x)\n",
    "        scaled_train_x = scaler.transform(train_x)\n",
    "        scaled_cross_x = scaler.transform(cross_x)\n",
    "\n",
    "        # init model\n",
    "        model = LogReg(C=c)\n",
    "\n",
    "        # fit model\n",
    "        model.fit(scaled_train_x, train_y)\n",
    "\n",
    "        # get coefs\n",
    "        coef_arr[year - min_year, :] = model.coef_[0]\n",
    "\n",
    "        # score model\n",
    "        scores[year - min_year] = model.score(scaled_cross_x, cross_y)\n",
    "\n",
    "    # results \n",
    "    mean_coefs = np.average(coef_arr, axis=0)\n",
    "    coef_series = pd.Series(mean_coefs, index=variables)\n",
    "\n",
    "    if print_res:\n",
    "        print \"Average Beta:\"\n",
    "        print coef_series.sort_values(ascending=False)\n",
    "    \n",
    "    # return the average score\n",
    "    return np.average(scores), coef_series"
   ]
  },
  {
   "cell_type": "code",
   "execution_count": 302,
   "metadata": {
    "collapsed": true
   },
   "outputs": [],
   "source": [
    "# runs logisitic model on each year\n",
    "def run_random_forest_model (train_test_arr, variables, max_year=2014, min_year=2006):\n",
    "    # high regularization\n",
    "    c = 1\n",
    "\n",
    "    # buffer for scores\n",
    "    scores = np.zeros(max_year - min_year)\n",
    "    coef_arr = np.zeros((scores.shape[0], len(variables)))\n",
    "\n",
    "    # iterate years\n",
    "    for year in year_range:\n",
    "        # get train data\n",
    "        train_x = train_test_arr[year - min_year][0][variables]\n",
    "        train_y = train_test_arr[year - min_year][1].values[:, 0]\n",
    "\n",
    "        # get cross validation set\n",
    "        cross_x = train_test_arr[year - min_year][2][variables]\n",
    "        cross_y = train_test_arr[year - min_year][3].values[:, 0]\n",
    "\n",
    "        # scaling\n",
    "        scaler = StandardScaler().fit(train_x)\n",
    "        scaled_train_x = scaler.transform(train_x)\n",
    "        scaled_cross_x = scaler.transform(cross_x)\n",
    "\n",
    "        # init model\n",
    "        model = random_forest(n_estimators = 100, max_depth=2)\n",
    "\n",
    "        # fit model\n",
    "        model.fit(scaled_train_x, train_y)\n",
    "\n",
    "        # get coefs\n",
    "        coef_arr[year - min_year, :] = model.feature_importances_\n",
    "\n",
    "        # score model\n",
    "        scores[year - min_year] = model.score(scaled_cross_x, cross_y)\n",
    "\n",
    "    # results \n",
    "    mean_coefs = np.average(coef_arr, axis=0)\n",
    "    coef_series = pd.Series(mean_coefs, index=variables)\n",
    "\n",
    "    print \"Average Beta:\"\n",
    "    print coef_series.sort_values(ascending=False)\n",
    "    \n",
    "    # return the average score\n",
    "    return np.average(scores), coef_series"
   ]
  },
  {
   "cell_type": "code",
   "execution_count": 304,
   "metadata": {
    "collapsed": true
   },
   "outputs": [],
   "source": [
    "# runs logisitic model on each year\n",
    "def run_lasso_model (train_test_arr, variables, alpha, max_year=2014, min_year=2006, print_res=True):\n",
    "    # buffer for scores\n",
    "    scores = np.zeros(max_year - min_year)\n",
    "    coef_arr = np.zeros((scores.shape[0], len(variables)))\n",
    "\n",
    "    # iterate years\n",
    "    for year in year_range:\n",
    "        # get train data\n",
    "        train_x = train_test_arr[year - min_year][0][variables]\n",
    "        train_y = train_test_arr[year - min_year][1].values[:, 0]\n",
    "\n",
    "        # get cross validation set\n",
    "        cross_x = train_test_arr[year - min_year][2][variables]\n",
    "        cross_y = train_test_arr[year - min_year][3].values[:, 0]\n",
    "\n",
    "        # scaling\n",
    "        scaler = StandardScaler().fit(train_x)\n",
    "        scaled_train_x = scaler.transform(train_x)\n",
    "        scaled_cross_x = scaler.transform(cross_x)\n",
    "\n",
    "        # init model\n",
    "        model = Lasso(alpha=alpha)\n",
    "\n",
    "        # fit model\n",
    "        model.fit(scaled_train_x, train_y)\n",
    "\n",
    "        # get coefs\n",
    "        coef_arr[year - min_year, :] = model.coef_\n",
    "\n",
    "        # score model\n",
    "        scores[year - min_year] = model.score(scaled_cross_x, cross_y)\n",
    "\n",
    "    # results \n",
    "    mean_coefs = np.average(coef_arr, axis=0)\n",
    "    coef_series = pd.Series(mean_coefs, index=variables)\n",
    "\n",
    "    if print_res:\n",
    "        print \"Average Beta:\"\n",
    "        print coef_series.sort_values(ascending=False)\n",
    "    \n",
    "    # return the average score\n",
    "    return np.average(scores), coef_series"
   ]
  },
  {
   "cell_type": "markdown",
   "metadata": {},
   "source": [
    "---\n",
    "#### Backwards Stepwise Logistic\n",
    "\n",
    "- Since all of our variables are standardized, we can compare the coefficients one-to-one in order to see which are more important. We will remove one at a time, picking the lowest abs(beta) in each step. Once we have tried models with all numbers of predictors (1 to 14), we will simply choose the model with the maximum cross validation score."
   ]
  },
  {
   "cell_type": "code",
   "execution_count": 169,
   "metadata": {
    "collapsed": false
   },
   "outputs": [
    {
     "name": "stdout",
     "output_type": "stream",
     "text": [
      "Average Beta:\n",
      "markov             0.835301\n",
      "rpi                0.564075\n",
      "momentum           0.295006\n",
      "off_eff            0.160792\n",
      "luck               0.068955\n",
      "losses             0.068442\n",
      "consistency        0.068442\n",
      "dominance          0.067438\n",
      "wins               0.067438\n",
      "tough_wins         0.013625\n",
      "win ratio          0.004624\n",
      "close_wins_perc   -0.022888\n",
      "close_wins        -0.100854\n",
      "tempo             -0.117812\n",
      "def_eff           -0.137567\n",
      "past_resul        -0.178838\n",
      "weighted_wins     -0.239996\n",
      "bad_losses        -0.402662\n",
      "dtype: float64\n",
      "\n",
      "Avg Accuracy : 0.688492063492\n",
      "\n",
      "Min Predictor: win ratio\n"
     ]
    }
   ],
   "source": [
    "# list of the variables we care about\n",
    "variables = predictor_names[2:]\n",
    "\n",
    "# array of accuracies\n",
    "accuracy_arr = np.zeros(len(variables))\n",
    "\n",
    "# print with current set of variables\n",
    "accuracy_arr[0], coef_series = run_logistic_model(train_test_arr, variables)\n",
    "\n",
    "# minimum absolute value beta\n",
    "min_abs_x = coef_series.abs().sort_values().index[0]\n",
    "\n",
    "print \"\\nAvg Accuracy : {}\".format(accuracy_arr[0])\n",
    "print \"\\nMin Predictor: {}\".format(min_abs_x)"
   ]
  },
  {
   "cell_type": "code",
   "execution_count": 170,
   "metadata": {
    "collapsed": false
   },
   "outputs": [
    {
     "name": "stdout",
     "output_type": "stream",
     "text": [
      "Average Beta:\n",
      "markov             0.836934\n",
      "rpi                0.564859\n",
      "momentum           0.294612\n",
      "off_eff            0.167185\n",
      "luck               0.067656\n",
      "dominance          0.066964\n",
      "wins               0.066964\n",
      "losses             0.066830\n",
      "consistency        0.066830\n",
      "tough_wins         0.009523\n",
      "close_wins_perc   -0.023386\n",
      "close_wins        -0.100343\n",
      "tempo             -0.115292\n",
      "def_eff           -0.139813\n",
      "past_resul        -0.175708\n",
      "weighted_wins     -0.239589\n",
      "bad_losses        -0.402061\n",
      "dtype: float64\n",
      "\n",
      "Avg Accuracy : 0.690476190476\n",
      "\n",
      "Min Predictor: tough_wins\n"
     ]
    }
   ],
   "source": [
    "variables.remove(min_abs_x)\n",
    "i = 1\n",
    "\n",
    "# print with current set of variables\n",
    "accuracy_arr[i], coef_series = run_logistic_model(train_test_arr, variables)\n",
    "\n",
    "# minimum absolute value beta\n",
    "min_abs_x = coef_series.abs().sort_values().index[0]\n",
    "\n",
    "print \"\\nAvg Accuracy : {}\".format(accuracy_arr[i])\n",
    "print \"\\nMin Predictor: {}\".format(min_abs_x)"
   ]
  },
  {
   "cell_type": "code",
   "execution_count": 171,
   "metadata": {
    "collapsed": false
   },
   "outputs": [
    {
     "name": "stdout",
     "output_type": "stream",
     "text": [
      "Average Beta:\n",
      "markov             0.811013\n",
      "rpi                0.567666\n",
      "momentum           0.287956\n",
      "off_eff            0.148186\n",
      "luck               0.072703\n",
      "wins               0.072658\n",
      "dominance          0.072658\n",
      "losses             0.065790\n",
      "consistency        0.065790\n",
      "close_wins_perc   -0.009305\n",
      "close_wins        -0.111646\n",
      "def_eff           -0.123289\n",
      "tempo             -0.124044\n",
      "past_resul        -0.154570\n",
      "weighted_wins     -0.219354\n",
      "bad_losses        -0.393630\n",
      "dtype: float64\n",
      "\n",
      "Avg Accuracy : 0.698412698413\n",
      "\n",
      "Min Predictor: close_wins_perc\n"
     ]
    }
   ],
   "source": [
    "variables.remove(min_abs_x)\n",
    "i = 2\n",
    "\n",
    "# print with current set of variables\n",
    "accuracy_arr[i], coef_series = run_logistic_model(train_test_arr, variables)\n",
    "\n",
    "# minimum absolute value beta\n",
    "min_abs_x = coef_series.abs().sort_values().index[0]\n",
    "\n",
    "print \"\\nAvg Accuracy : {}\".format(accuracy_arr[i])\n",
    "print \"\\nMin Predictor: {}\".format(min_abs_x)"
   ]
  },
  {
   "cell_type": "code",
   "execution_count": 172,
   "metadata": {
    "collapsed": false
   },
   "outputs": [
    {
     "name": "stdout",
     "output_type": "stream",
     "text": [
      "Average Beta:\n",
      "markov           0.746489\n",
      "rpi              0.569686\n",
      "momentum         0.311733\n",
      "off_eff          0.147271\n",
      "wins             0.080103\n",
      "dominance        0.080103\n",
      "losses           0.077506\n",
      "consistency      0.077506\n",
      "luck             0.077165\n",
      "past_resul      -0.126679\n",
      "close_wins      -0.126821\n",
      "def_eff         -0.129177\n",
      "tempo           -0.136741\n",
      "weighted_wins   -0.215174\n",
      "bad_losses      -0.392537\n",
      "dtype: float64\n",
      "\n",
      "Avg Accuracy : 0.702380952381\n",
      "\n",
      "Min Predictor: luck\n"
     ]
    }
   ],
   "source": [
    "variables.remove(min_abs_x)\n",
    "i = 3\n",
    "\n",
    "# print with current set of variables\n",
    "accuracy_arr[i], coef_series = run_logistic_model(train_test_arr, variables)\n",
    "\n",
    "# minimum absolute value beta\n",
    "min_abs_x = coef_series.abs().sort_values().index[0]\n",
    "\n",
    "print \"\\nAvg Accuracy : {}\".format(accuracy_arr[i])\n",
    "print \"\\nMin Predictor: {}\".format(min_abs_x)"
   ]
  },
  {
   "cell_type": "code",
   "execution_count": 173,
   "metadata": {
    "collapsed": false
   },
   "outputs": [
    {
     "name": "stdout",
     "output_type": "stream",
     "text": [
      "Average Beta:\n",
      "markov           0.747012\n",
      "rpi              0.570645\n",
      "momentum         0.313457\n",
      "off_eff          0.147865\n",
      "wins             0.110353\n",
      "dominance        0.110353\n",
      "losses           0.071717\n",
      "consistency      0.071717\n",
      "close_wins      -0.124954\n",
      "past_resul      -0.127171\n",
      "def_eff         -0.130495\n",
      "tempo           -0.133471\n",
      "weighted_wins   -0.216190\n",
      "bad_losses      -0.392366\n",
      "dtype: float64\n",
      "\n",
      "Avg Accuracy : 0.700396825397\n",
      "\n",
      "Min Predictor: consistency\n"
     ]
    }
   ],
   "source": [
    "variables.remove(min_abs_x)\n",
    "i = 4\n",
    "\n",
    "# print with current set of variables\n",
    "accuracy_arr[i], coef_series = run_logistic_model(train_test_arr, variables)\n",
    "\n",
    "# minimum absolute value beta\n",
    "min_abs_x = coef_series.abs().sort_values().index[0]\n",
    "\n",
    "print \"\\nAvg Accuracy : {}\".format(accuracy_arr[i])\n",
    "print \"\\nMin Predictor: {}\".format(min_abs_x)"
   ]
  },
  {
   "cell_type": "code",
   "execution_count": 174,
   "metadata": {
    "collapsed": false
   },
   "outputs": [
    {
     "name": "stdout",
     "output_type": "stream",
     "text": [
      "Average Beta:\n",
      "markov           0.750641\n",
      "rpi              0.568232\n",
      "momentum         0.313453\n",
      "off_eff          0.144412\n",
      "losses           0.127200\n",
      "wins             0.103947\n",
      "dominance        0.103947\n",
      "close_wins      -0.124893\n",
      "past_resul      -0.127338\n",
      "def_eff         -0.127924\n",
      "tempo           -0.129393\n",
      "weighted_wins   -0.215402\n",
      "bad_losses      -0.390121\n",
      "dtype: float64\n",
      "\n",
      "Avg Accuracy : 0.700396825397\n",
      "\n",
      "Min Predictor: dominance\n"
     ]
    }
   ],
   "source": [
    "variables.remove(min_abs_x)\n",
    "i = 5\n",
    "\n",
    "# print with current set of variables\n",
    "accuracy_arr[i], coef_series = run_logistic_model(train_test_arr, variables)\n",
    "\n",
    "# minimum absolute value beta\n",
    "min_abs_x = coef_series.abs().sort_values().index[0]\n",
    "\n",
    "print \"\\nAvg Accuracy : {}\".format(accuracy_arr[i])\n",
    "print \"\\nMin Predictor: {}\".format(min_abs_x)"
   ]
  },
  {
   "cell_type": "code",
   "execution_count": 175,
   "metadata": {
    "collapsed": false
   },
   "outputs": [
    {
     "name": "stdout",
     "output_type": "stream",
     "text": [
      "Average Beta:\n",
      "markov           0.751498\n",
      "rpi              0.570891\n",
      "momentum         0.316712\n",
      "wins             0.171414\n",
      "off_eff          0.148745\n",
      "losses           0.105170\n",
      "close_wins      -0.121336\n",
      "tempo           -0.123129\n",
      "past_resul      -0.128408\n",
      "def_eff         -0.133399\n",
      "weighted_wins   -0.217460\n",
      "bad_losses      -0.390213\n",
      "dtype: float64\n",
      "\n",
      "Avg Accuracy : 0.708333333333\n",
      "\n",
      "Min Predictor: losses\n"
     ]
    }
   ],
   "source": [
    "variables.remove(min_abs_x)\n",
    "i = 6\n",
    "\n",
    "# print with current set of variables\n",
    "accuracy_arr[i], coef_series = run_logistic_model(train_test_arr, variables)\n",
    "\n",
    "# minimum absolute value beta\n",
    "min_abs_x = coef_series.abs().sort_values().index[0]\n",
    "\n",
    "print \"\\nAvg Accuracy : {}\".format(accuracy_arr[i])\n",
    "print \"\\nMin Predictor: {}\".format(min_abs_x)"
   ]
  },
  {
   "cell_type": "code",
   "execution_count": 176,
   "metadata": {
    "collapsed": false
   },
   "outputs": [
    {
     "name": "stdout",
     "output_type": "stream",
     "text": [
      "Average Beta:\n",
      "markov           0.775962\n",
      "rpi              0.556440\n",
      "momentum         0.316272\n",
      "off_eff          0.123989\n",
      "wins             0.094678\n",
      "tempo           -0.096500\n",
      "def_eff         -0.115350\n",
      "close_wins      -0.122114\n",
      "past_resul      -0.128763\n",
      "weighted_wins   -0.212245\n",
      "bad_losses      -0.373213\n",
      "dtype: float64\n",
      "\n",
      "Avg Accuracy : 0.710317460317\n",
      "\n",
      "Min Predictor: wins\n"
     ]
    }
   ],
   "source": [
    "variables.remove(min_abs_x)\n",
    "i = 7\n",
    "\n",
    "# print with current set of variables\n",
    "accuracy_arr[i], coef_series = run_logistic_model(train_test_arr, variables)\n",
    "\n",
    "# minimum absolute value beta\n",
    "min_abs_x = coef_series.abs().sort_values().index[0]\n",
    "\n",
    "print \"\\nAvg Accuracy : {}\".format(accuracy_arr[i])\n",
    "print \"\\nMin Predictor: {}\".format(min_abs_x)"
   ]
  },
  {
   "cell_type": "code",
   "execution_count": 177,
   "metadata": {
    "collapsed": false
   },
   "outputs": [
    {
     "name": "stdout",
     "output_type": "stream",
     "text": [
      "Average Beta:\n",
      "markov           0.731109\n",
      "rpi              0.623834\n",
      "momentum         0.319433\n",
      "off_eff          0.179899\n",
      "tempo           -0.089422\n",
      "close_wins      -0.099887\n",
      "past_resul      -0.126730\n",
      "def_eff         -0.174728\n",
      "weighted_wins   -0.220403\n",
      "bad_losses      -0.357551\n",
      "dtype: float64\n",
      "\n",
      "Avg Accuracy : 0.71626984127\n",
      "\n",
      "Min Predictor: tempo\n"
     ]
    }
   ],
   "source": [
    "variables.remove(min_abs_x)\n",
    "i = 8\n",
    "\n",
    "# print with current set of variables\n",
    "accuracy_arr[i], coef_series = run_logistic_model(train_test_arr, variables)\n",
    "\n",
    "# minimum absolute value beta\n",
    "min_abs_x = coef_series.abs().sort_values().index[0]\n",
    "\n",
    "print \"\\nAvg Accuracy : {}\".format(accuracy_arr[i])\n",
    "print \"\\nMin Predictor: {}\".format(min_abs_x)"
   ]
  },
  {
   "cell_type": "code",
   "execution_count": 178,
   "metadata": {
    "collapsed": false
   },
   "outputs": [
    {
     "name": "stdout",
     "output_type": "stream",
     "text": [
      "Average Beta:\n",
      "markov           0.663088\n",
      "rpi              0.618914\n",
      "momentum         0.298188\n",
      "off_eff          0.188059\n",
      "close_wins      -0.102235\n",
      "past_resul      -0.124982\n",
      "def_eff         -0.187764\n",
      "weighted_wins   -0.213885\n",
      "bad_losses      -0.373071\n",
      "dtype: float64\n",
      "\n",
      "Avg Accuracy : 0.708333333333\n",
      "\n",
      "Min Predictor: close_wins\n"
     ]
    }
   ],
   "source": [
    "variables.remove(min_abs_x)\n",
    "i = 9\n",
    "\n",
    "# print with current set of variables\n",
    "accuracy_arr[i], coef_series = run_logistic_model(train_test_arr, variables)\n",
    "\n",
    "# minimum absolute value beta\n",
    "min_abs_x = coef_series.abs().sort_values().index[0]\n",
    "\n",
    "print \"\\nAvg Accuracy : {}\".format(accuracy_arr[i])\n",
    "print \"\\nMin Predictor: {}\".format(min_abs_x)"
   ]
  },
  {
   "cell_type": "code",
   "execution_count": 179,
   "metadata": {
    "collapsed": false
   },
   "outputs": [
    {
     "name": "stdout",
     "output_type": "stream",
     "text": [
      "Average Beta:\n",
      "markov           0.705238\n",
      "rpi              0.596071\n",
      "momentum         0.250743\n",
      "off_eff          0.217637\n",
      "past_resul      -0.115820\n",
      "weighted_wins   -0.209006\n",
      "def_eff         -0.211680\n",
      "bad_losses      -0.347275\n",
      "dtype: float64\n",
      "\n",
      "Avg Accuracy : 0.698412698413\n",
      "\n",
      "Min Predictor: past_resul\n"
     ]
    }
   ],
   "source": [
    "variables.remove(min_abs_x)\n",
    "i = 10\n",
    "\n",
    "# print with current set of variables\n",
    "accuracy_arr[i], coef_series = run_logistic_model(train_test_arr, variables)\n",
    "\n",
    "# minimum absolute value beta\n",
    "min_abs_x = coef_series.abs().sort_values().index[0]\n",
    "\n",
    "print \"\\nAvg Accuracy : {}\".format(accuracy_arr[i])\n",
    "print \"\\nMin Predictor: {}\".format(min_abs_x)"
   ]
  },
  {
   "cell_type": "code",
   "execution_count": 180,
   "metadata": {
    "collapsed": false
   },
   "outputs": [
    {
     "name": "stdout",
     "output_type": "stream",
     "text": [
      "Average Beta:\n",
      "markov           0.685882\n",
      "rpi              0.539828\n",
      "momentum         0.243739\n",
      "off_eff          0.212124\n",
      "def_eff         -0.212024\n",
      "weighted_wins   -0.214893\n",
      "bad_losses      -0.312466\n",
      "dtype: float64\n",
      "\n",
      "Avg Accuracy : 0.690476190476\n",
      "\n",
      "Min Predictor: def_eff\n"
     ]
    }
   ],
   "source": [
    "variables.remove(min_abs_x)\n",
    "i = 11\n",
    "\n",
    "# print with current set of variables\n",
    "accuracy_arr[i], coef_series = run_logistic_model(train_test_arr, variables)\n",
    "\n",
    "# minimum absolute value beta\n",
    "min_abs_x = coef_series.abs().sort_values().index[0]\n",
    "\n",
    "print \"\\nAvg Accuracy : {}\".format(accuracy_arr[i])\n",
    "print \"\\nMin Predictor: {}\".format(min_abs_x)"
   ]
  },
  {
   "cell_type": "code",
   "execution_count": 181,
   "metadata": {
    "collapsed": false
   },
   "outputs": [
    {
     "name": "stdout",
     "output_type": "stream",
     "text": [
      "Average Beta:\n",
      "markov           0.918705\n",
      "rpi              0.496722\n",
      "momentum         0.237007\n",
      "off_eff          0.076667\n",
      "weighted_wins   -0.268042\n",
      "bad_losses      -0.349951\n",
      "dtype: float64\n",
      "\n",
      "Avg Accuracy : 0.690476190476\n",
      "\n",
      "Min Predictor: off_eff\n"
     ]
    }
   ],
   "source": [
    "variables.remove(min_abs_x)\n",
    "i = 12\n",
    "\n",
    "# print with current set of variables\n",
    "accuracy_arr[i], coef_series = run_logistic_model(train_test_arr, variables)\n",
    "\n",
    "# minimum absolute value beta\n",
    "min_abs_x = coef_series.abs().sort_values().index[0]\n",
    "\n",
    "print \"\\nAvg Accuracy : {}\".format(accuracy_arr[i])\n",
    "print \"\\nMin Predictor: {}\".format(min_abs_x)"
   ]
  },
  {
   "cell_type": "code",
   "execution_count": 182,
   "metadata": {
    "collapsed": false
   },
   "outputs": [
    {
     "name": "stdout",
     "output_type": "stream",
     "text": [
      "Average Beta:\n",
      "markov           0.960648\n",
      "rpi              0.474713\n",
      "momentum         0.219379\n",
      "weighted_wins   -0.248433\n",
      "bad_losses      -0.367529\n",
      "dtype: float64\n",
      "\n",
      "Avg Accuracy : 0.698412698413\n",
      "\n",
      "Min Predictor: momentum\n"
     ]
    }
   ],
   "source": [
    "variables.remove(min_abs_x)\n",
    "i = 13\n",
    "\n",
    "# print with current set of variables\n",
    "accuracy_arr[i], coef_series = run_logistic_model(train_test_arr, variables)\n",
    "\n",
    "# minimum absolute value beta\n",
    "min_abs_x = coef_series.abs().sort_values().index[0]\n",
    "\n",
    "print \"\\nAvg Accuracy : {}\".format(accuracy_arr[i])\n",
    "print \"\\nMin Predictor: {}\".format(min_abs_x)"
   ]
  },
  {
   "cell_type": "code",
   "execution_count": 183,
   "metadata": {
    "collapsed": false
   },
   "outputs": [
    {
     "name": "stdout",
     "output_type": "stream",
     "text": [
      "Average Beta:\n",
      "markov           1.062516\n",
      "rpi              0.532616\n",
      "weighted_wins   -0.210669\n",
      "bad_losses      -0.332528\n",
      "dtype: float64\n",
      "\n",
      "Avg Accuracy : 0.708333333333\n",
      "\n",
      "Min Predictor: weighted_wins\n"
     ]
    }
   ],
   "source": [
    "variables.remove(min_abs_x)\n",
    "i = 14\n",
    "\n",
    "# print with current set of variables\n",
    "accuracy_arr[i], coef_series = run_logistic_model(train_test_arr, variables)\n",
    "\n",
    "# minimum absolute value beta\n",
    "min_abs_x = coef_series.abs().sort_values().index[0]\n",
    "\n",
    "print \"\\nAvg Accuracy : {}\".format(accuracy_arr[i])\n",
    "print \"\\nMin Predictor: {}\".format(min_abs_x)"
   ]
  },
  {
   "cell_type": "code",
   "execution_count": 184,
   "metadata": {
    "collapsed": false
   },
   "outputs": [
    {
     "name": "stdout",
     "output_type": "stream",
     "text": [
      "Average Beta:\n",
      "markov        0.982989\n",
      "rpi           0.391584\n",
      "bad_losses   -0.359787\n",
      "dtype: float64\n",
      "\n",
      "Avg Accuracy : 0.714285714286\n",
      "\n",
      "Min Predictor: bad_losses\n"
     ]
    }
   ],
   "source": [
    "variables.remove(min_abs_x)\n",
    "i = 15\n",
    "\n",
    "# print with current set of variables\n",
    "accuracy_arr[i], coef_series = run_logistic_model(train_test_arr, variables)\n",
    "\n",
    "# minimum absolute value beta\n",
    "min_abs_x = coef_series.abs().sort_values().index[0]\n",
    "\n",
    "print \"\\nAvg Accuracy : {}\".format(accuracy_arr[i])\n",
    "print \"\\nMin Predictor: {}\".format(min_abs_x)"
   ]
  },
  {
   "cell_type": "code",
   "execution_count": 185,
   "metadata": {
    "collapsed": false
   },
   "outputs": [
    {
     "name": "stdout",
     "output_type": "stream",
     "text": [
      "Average Beta:\n",
      "markov    1.046127\n",
      "rpi       0.608434\n",
      "dtype: float64\n",
      "\n",
      "Avg Accuracy : 0.708333333333\n",
      "\n",
      "Min Predictor: rpi\n"
     ]
    }
   ],
   "source": [
    "variables.remove(min_abs_x)\n",
    "i = 16\n",
    "\n",
    "# print with current set of variables\n",
    "accuracy_arr[i], coef_series = run_logistic_model(train_test_arr, variables)\n",
    "\n",
    "# minimum absolute value beta\n",
    "min_abs_x = coef_series.abs().sort_values().index[0]\n",
    "\n",
    "print \"\\nAvg Accuracy : {}\".format(accuracy_arr[i])\n",
    "print \"\\nMin Predictor: {}\".format(min_abs_x)"
   ]
  },
  {
   "cell_type": "code",
   "execution_count": 186,
   "metadata": {
    "collapsed": false
   },
   "outputs": [
    {
     "name": "stdout",
     "output_type": "stream",
     "text": [
      "Average Beta:\n",
      "markov    1.526167\n",
      "dtype: float64\n",
      "\n",
      "Avg Accuracy : 0.710317460317\n",
      "\n",
      "Min Predictor: markov\n"
     ]
    }
   ],
   "source": [
    "variables.remove(min_abs_x)\n",
    "i = 17\n",
    "\n",
    "# print with current set of variables\n",
    "accuracy_arr[i], coef_series = run_logistic_model(train_test_arr, variables)\n",
    "\n",
    "# minimum absolute value beta\n",
    "min_abs_x = coef_series.abs().sort_values().index[0]\n",
    "\n",
    "print \"\\nAvg Accuracy : {}\".format(accuracy_arr[i])\n",
    "print \"\\nMin Predictor: {}\".format(min_abs_x)"
   ]
  },
  {
   "cell_type": "markdown",
   "metadata": {},
   "source": [
    "We see a maximum when there is 10 variables, but this is essentially the same as having only 3 variables in our model. As such, we will use the model that has 3 variables, which are markov, rpi, and bad losses."
   ]
  },
  {
   "cell_type": "markdown",
   "metadata": {},
   "source": [
    "---\n",
    "#### Random Forest "
   ]
  },
  {
   "cell_type": "code",
   "execution_count": 303,
   "metadata": {
    "collapsed": false
   },
   "outputs": [
    {
     "name": "stdout",
     "output_type": "stream",
     "text": [
      "Average Beta:\n",
      "markov             0.180721\n",
      "rpi                0.164619\n",
      "win ratio          0.110281\n",
      "momentum           0.097683\n",
      "bad_losses         0.075358\n",
      "weighted_wins      0.056131\n",
      "luck               0.051845\n",
      "wins               0.041618\n",
      "tough_wins         0.038232\n",
      "dominance          0.037921\n",
      "off_eff            0.032098\n",
      "consistency        0.025604\n",
      "losses             0.021562\n",
      "def_eff            0.019752\n",
      "tempo              0.018909\n",
      "past_resul         0.018153\n",
      "close_wins_perc    0.005282\n",
      "close_wins         0.004232\n",
      "dtype: float64\n",
      "\n",
      "Avg Accuracy : 0.690476190476\n",
      "\n",
      "Min Predictor: markov\n"
     ]
    }
   ],
   "source": [
    "# list of the variables we care about\n",
    "variables = predictor_names[2:]\n",
    "\n",
    "# print with current set of variables\n",
    "accuracy_rf, importances_series = run_random_forest_model(train_test_arr, variables)\n",
    "\n",
    "# minimum absolute value beta\n",
    "min_abs_x = coef_series.abs().sort_values().index[0]\n",
    "\n",
    "print \"\\nAvg Accuracy : {}\".format(accuracy_rf)\n",
    "print \"\\nMin Predictor: {}\".format(min_abs_x)"
   ]
  },
  {
   "cell_type": "markdown",
   "metadata": {},
   "source": [
    "---\n",
    "\n",
    "#### Lasso"
   ]
  },
  {
   "cell_type": "code",
   "execution_count": 282,
   "metadata": {
    "collapsed": false
   },
   "outputs": [
    {
     "data": {
      "text/plain": [
       "<module 'march_madness_train_and_tune' from 'march_madness_train_and_tune.py'>"
      ]
     },
     "execution_count": 282,
     "metadata": {},
     "output_type": "execute_result"
    }
   ],
   "source": [
    "reload(mmtt)"
   ]
  },
  {
   "cell_type": "code",
   "execution_count": 291,
   "metadata": {
    "collapsed": false
   },
   "outputs": [],
   "source": [
    "train_test_arr_score_x = []\n",
    "\n",
    "window   = 3\n",
    "min_year = 2006\n",
    "max_year = 2014\n",
    "\n",
    "year_range = range(min_year, max_year)\n",
    "\n",
    "# generate our train test split for each year\n",
    "for year in year_range:\n",
    "    # do the split for the current year\n",
    "    train_test_tuple = mmtt.train_test_split(window, \n",
    "                                             year, \n",
    "                                             seeds_arr, \n",
    "                                             slots_arr, \n",
    "                                             games_arr, \n",
    "                                             predictor_names, \n",
    "                                             predictor_dfs,\n",
    "                                             scoring_dif=True)\n",
    "    \n",
    "    # add to our array\n",
    "    train_test_arr_score_x.append(train_test_tuple)"
   ]
  },
  {
   "cell_type": "code",
   "execution_count": 328,
   "metadata": {
    "collapsed": false
   },
   "outputs": [
    {
     "name": "stdout",
     "output_type": "stream",
     "text": [
      "Max r2 of 0.38371122671 with Alpha = 1\n"
     ]
    }
   ],
   "source": [
    "# cross validate the lambda\n",
    "alpha_arr = range(-7, 8)\n",
    "r2_scores = np.zeros(len(alpha_arr))\n",
    "\n",
    "i = 0\n",
    "for alpha in alpha_arr:\n",
    "    # un lasso, get r2\n",
    "    r2_scores[i], x = run_lasso_model(train_test_arr_score_x, variables, 10**alpha, print_res=False)\n",
    "    \n",
    "    i = i + 1\n",
    "\n",
    "max_score = r2_scores.max()\n",
    "max_index = r2_scores.argmax()\n",
    "\n",
    "print \"Max r2 of {} with Alpha = {}\".format(max_score, 10**range(-7,8)[max_index])"
   ]
  },
  {
   "cell_type": "code",
   "execution_count": 324,
   "metadata": {
    "collapsed": false
   },
   "outputs": [
    {
     "name": "stdout",
     "output_type": "stream",
     "text": [
      "Average Beta:\n",
      "rpi                3.547760\n",
      "markov             3.275812\n",
      "win ratio          0.946130\n",
      "momentum           0.532639\n",
      "past_resul         0.111317\n",
      "dominance          0.070944\n",
      "off_eff            0.039211\n",
      "close_wins         0.000000\n",
      "weighted_wins      0.000000\n",
      "tough_wins         0.000000\n",
      "luck               0.000000\n",
      "losses             0.000000\n",
      "def_eff            0.000000\n",
      "tempo              0.000000\n",
      "wins               0.000000\n",
      "close_wins_perc    0.000000\n",
      "consistency       -0.100189\n",
      "bad_losses        -0.543115\n",
      "dtype: float64\n",
      "\n",
      "Avg R2 : 0.383706635824\n"
     ]
    }
   ],
   "source": [
    "# list of the variables we care about\n",
    "variables = predictor_names[2:]\n",
    "\n",
    "# print with current set of variables\n",
    "r2_lasso, importances_series = run_lasso_model(train_test_arr_score_x, variables, 1, print_res=True)\n",
    "\n",
    "# minimum absolute value beta\n",
    "min_abs_x = coef_series.abs().sort_values().index[0]\n",
    "\n",
    "print \"\\nAvg R2 : {}\".format(r2_lasso)"
   ]
  },
  {
   "cell_type": "markdown",
   "metadata": {},
   "source": [
    "Lasso Regression identifies the important variables for predicting the score of the games. We fit a logistic model on these variables (with nonzero coefficients) and compare it to our other models."
   ]
  },
  {
   "cell_type": "code",
   "execution_count": 326,
   "metadata": {
    "collapsed": true
   },
   "outputs": [],
   "source": [
    "variables = [\"rpi\", \"markov\", \"win ratio\", \"momentum\", \"past_resul\", \"dominance\", \"off_eff\", \"consistency\", \"bad_losses\"]"
   ]
  },
  {
   "cell_type": "code",
   "execution_count": 327,
   "metadata": {
    "collapsed": false
   },
   "outputs": [
    {
     "name": "stdout",
     "output_type": "stream",
     "text": [
      "Average Beta:\n",
      "markov         0.636353\n",
      "rpi            0.435175\n",
      "win ratio      0.335957\n",
      "momentum       0.216902\n",
      "dominance      0.050811\n",
      "off_eff        0.043199\n",
      "consistency    0.035364\n",
      "past_resul    -0.125404\n",
      "bad_losses    -0.360872\n",
      "dtype: float64\n",
      "\n",
      "Avg Accuracy : 0.714285714286\n"
     ]
    }
   ],
   "source": [
    "# print with current set of variables\n",
    "accuracy_log_reg_lasso_vars, coef_series = run_logistic_model(train_test_arr, variables)\n",
    "\n",
    "print \"\\nAvg Accuracy : {}\".format(accuracy_arr[i])"
   ]
  },
  {
   "cell_type": "markdown",
   "metadata": {},
   "source": [
    "---"
   ]
  },
  {
   "cell_type": "code",
   "execution_count": 336,
   "metadata": {
    "collapsed": false
   },
   "outputs": [
    {
     "data": {
      "text/plain": [
       "<matplotlib.legend.Legend at 0x122cd4c10>"
      ]
     },
     "execution_count": 336,
     "metadata": {},
     "output_type": "execute_result"
    },
    {
     "data": {
      "image/png": "[encoded data removed]",
      "text/plain": [
       "<matplotlib.figure.Figure at 0x121b8f310>"
      ]
     },
     "metadata": {},
     "output_type": "display_data"
    }
   ],
   "source": [
    "fig = plt.figure(figsize=(10,5))\n",
    "ax = fig.add_subplot(111)\n",
    "ax.plot([0, 18], [accuracy_rf, accuracy_rf], color=\"b\", label=\"random_forest\", lw=1.5)\n",
    "ax.plot([0, 18], [accuracy_log_reg_lasso_vars, accuracy_log_reg_lasso_vars], color=\"r\", label=\"logistic with lasso var selection\", lw=1.5)\n",
    "ax.plot(range(1, 19), accuracy_arr[::-1], color=\"g\", label=\"logistic with step wise var selection\", lw=1.5)\n",
    "ax.set_xlim([1,18])\n",
    "ax.set_ylim([.65,.75])\n",
    "ax.set_xlabel(\"Number of Variables\")\n",
    "ax.set_ylabel(\"Accuracy\")\n",
    "ax.set_title(\"Accuracies of Various Models on Test Sets\")\n",
    "ax.legend(bbox_to_anchor=(1.05, 1), loc=2, borderaxespad=0.)"
   ]
  },
  {
   "cell_type": "markdown",
   "metadata": {},
   "source": [
    "---\n",
    "\n",
    "### 4) Cross Validate Regularization Parameter"
   ]
  },
  {
   "cell_type": "code",
   "execution_count": 339,
   "metadata": {
    "collapsed": true
   },
   "outputs": [],
   "source": [
    "# cross validate for all 3 logistic models \n",
    "c_values = [.0001, .001, .01, .1, 1, 10, 100, 1000, 100000]\n",
    "scores_10_var = np.zeros(len(c_values))\n",
    "scores_3_var = np.zeros(len(c_values))\n",
    "scores_lasso_vars = np.zeros(len(c_values))"
   ]
  },
  {
   "cell_type": "code",
   "execution_count": 366,
   "metadata": {
    "collapsed": true
   },
   "outputs": [],
   "source": [
    "# variables\n",
    "variables_3 = [\"markov\", \"rpi\", \"bad_losses\"]\n",
    "variables_10 = [\"markov\", \"rpi\", \"momentum\", \"off_eff\", \"tempo\", \"close_wins\", \"past_resul\", \"def_eff\", \"weighted_wins\",\"bad_losses\"]\n",
    "variables_lasso = [\"rpi\", \"markov\", \"win ratio\", \"momentum\", \"past_resul\", \"dominance\", \"off_eff\", \"consistency\", \"bad_losses\"]"
   ]
  },
  {
   "cell_type": "code",
   "execution_count": 379,
   "metadata": {
    "collapsed": true
   },
   "outputs": [],
   "source": [
    "# cross validate function\n",
    "def cv_c_value(train_test_arr, variables, c_values):\n",
    "    scores = np.zeros(len(c_values))\n",
    "    \n",
    "    i = 0\n",
    "    for c_val in c_values:\n",
    "        # print with current set of variables\n",
    "        scores[i], x = run_logistic_model(train_test_arr, variables, c=c_val, print_res=False)\n",
    "        \n",
    "        i = i + 1 \n",
    "        \n",
    "    max_score = scores.max()\n",
    "    max_score_ind = scores.argmax()\n",
    "    \n",
    "    print \"Max Accuracy of {} with C = {}\".format(max_score, c_values[max_score_ind])\n",
    "    \n",
    "    return scores"
   ]
  },
  {
   "cell_type": "code",
   "execution_count": 386,
   "metadata": {
    "collapsed": false
   },
   "outputs": [
    {
     "name": "stdout",
     "output_type": "stream",
     "text": [
      "Max Accuracy of 0.718253968254 with C = 0.0001\n"
     ]
    }
   ],
   "source": [
    "# cv for 3 variables\n",
    "scores_3 = cv_c_value(train_test_arr, variables_3, c_values)"
   ]
  },
  {
   "cell_type": "code",
   "execution_count": 381,
   "metadata": {
    "collapsed": false
   },
   "outputs": [
    {
     "name": "stdout",
     "output_type": "stream",
     "text": [
      "Max Accuracy of 0.71626984127 with C = 1\n"
     ]
    }
   ],
   "source": [
    "# cv for 10 variables\n",
    "scores_10 = cv_c_value(train_test_arr, variables_10, c_values)"
   ]
  },
  {
   "cell_type": "code",
   "execution_count": 382,
   "metadata": {
    "collapsed": false
   },
   "outputs": [
    {
     "name": "stdout",
     "output_type": "stream",
     "text": [
      "Max Accuracy of 0.706349206349 with C = 0.1\n"
     ]
    }
   ],
   "source": [
    "# cv for lasso variables\n",
    "scores_lasso = cv_c_value(train_test_arr, variables_lasso, c_values)"
   ]
  },
  {
   "cell_type": "code",
   "execution_count": 389,
   "metadata": {
    "collapsed": false
   },
   "outputs": [
    {
     "data": {
      "text/plain": [
       "<matplotlib.legend.Legend at 0x12541a290>"
      ]
     },
     "execution_count": 389,
     "metadata": {},
     "output_type": "execute_result"
    },
    {
     "data": {
      "image/png": "[encoded data removed]",
      "text/plain": [
       "<matplotlib.figure.Figure at 0x124e75ad0>"
      ]
     },
     "metadata": {},
     "output_type": "display_data"
    }
   ],
   "source": [
    "fig = plt.figure(figsize=(10,5))\n",
    "ax = fig.add_subplot(111)\n",
    "ax.plot(c_values, scores_3, label=\"3 variables\", color=\"g\", lw=1.5)\n",
    "ax.plot(c_values, scores_10, label=\"10 variables\", color=\"r\", lw=1.5)\n",
    "ax.plot(c_values, scores_lasso, label=\"Lasso variables\", color=\"b\", lw=1.5)\n",
    "ax.set_ylim([.69,.72])\n",
    "ax.set_xlabel(\"Regularization Strength Inv\")\n",
    "ax.set_ylabel(\"Accuracy\")\n",
    "ax.set_title(\"Accuracies as a function of C\")\n",
    "ax.legend(bbox_to_anchor=(1.05, 1), loc=2, borderaxespad=0.)"
   ]
  },
  {
   "cell_type": "markdown",
   "metadata": {},
   "source": [
    "As such, we will use the 3 variable model with C=1."
   ]
  }
 ],
 "metadata": {
  "kernelspec": {
   "display_name": "Python [Root]",
   "language": "python",
   "name": "Python [Root]"
  },
  "language_info": {
   "codemirror_mode": {
    "name": "ipython",
    "version": 2
   },
   "file_extension": ".py",
   "mimetype": "text/x-python",
   "name": "python",
   "nbconvert_exporter": "python",
   "pygments_lexer": "ipython2",
   "version": "2.7.12"
  }
 },
 "nbformat": 4,
 "nbformat_minor": 0
}
