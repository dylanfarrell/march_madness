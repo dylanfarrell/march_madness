{
 "cells": [
  {
   "cell_type": "markdown",
   "metadata": {},
   "source": [
    "<h1>Intro</h1>\n",
    "\n",
    "<p>March Madness is one of the most exciting months in all of sports. Each year, the top 64 teams in college basketball play a single elimination tournament, the winner of which is crowned champion for the year. Due to the single elimination style, the chance for upsets and cinderella stories is much larger than for other sports. Because of this, sports fans around the world create brackets which predict the results of the tournament, using mostly expert opinions and qualitative analysis. However, due to the large number of teams, it is essentially impossible to have a good understanding of each team's strengths and weaknesses. That's where we come in. Becuase the NCAA tournament occurs at the end of the season, there is a large amount of data available from the regular season, which we can use to predict the results of March Madness.</p> "
   ]
  }
 ],
 "metadata": {
  "anaconda-cloud": {},
  "kernelspec": {
   "display_name": "Python [Root]",
   "language": "python",
   "name": "Python [Root]"
  },
  "language_info": {
   "codemirror_mode": {
    "name": "ipython",
    "version": 2
   },
   "file_extension": ".py",
   "mimetype": "text/x-python",
   "name": "python",
   "nbconvert_exporter": "python",
   "pygments_lexer": "ipython2",
   "version": "2.7.12"
  }
 },
 "nbformat": 4,
 "nbformat_minor": 0
}
