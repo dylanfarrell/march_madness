{
 "cells": [
  {
   "cell_type": "markdown",
   "metadata": {},
   "source": [
    "<h1> Winning ESPN Bracket Challenge: An Ensemble of Brackets </h1>\n",
    "\n",
    "<h4> 1) Our Motivation </h4>\n",
    "\n",
    "<p> Each year, millions of people join ESPN's bracket challenge. Each account on ESPN.com is eligible to submit up to 10 brackets to this competetion for the chance to win prizes and ultimate bragging rights. To win this bracket, much like to win an office pool, a user needs to submit a bracket that not only has a high accuracy and does well in predicting games, but also a bracket that is highly unique, such that not many of the other people in the field also do well. See <b><a href=\"predicting_a_bracket.html\">here</a></b> for an analysis of how to do this. However, becuase each user can submit up to 10 brackets and only the maximum score matters in the rankings, predicting 10 brackets that are much different from eachother is also (and, arguably, more) important for succeeding in the bracket challenge. As such, we develop a method called the ensemble of brackets, which creates 10 brackets that are unique from eachother. The code written to do this is <a href=\"../march_madness_classes.py\"><b>here</b></a>. \n",
    "\n",
    "<h4> 2) An Ensemble of Brackets </h4>\n",
    "\n",
    "<p> In order to create brackets that are unique from one another, we created a method that allows us to consider the other brackets when predicting a new bracket. When we do this, we can change the threshold of our prediction depending on the results of the previous bracket. As such, we start with 3 seed brackets: an unbiased bracket, an early round upset heavy bracket, and a late round upset heavy bracket. We then create the other 7 brackets by feeding in combinations of the previous brackets. As such, we end up with 10 different brackets. The graph below provides a visualization of the intra-ensemble diversity. Plotted on the y-axis is the average number of games different of each bracket from the other 9 brackets. The x-axis is the year. We found that each bracket was on average 11 games different than from each of the other 9 brackets. As such, there is good intra-ensemble diversity, which should allow us to score well.\n",
    "\n",
    "<img src=\"img/intra_ensemble_diversity.png\">\n",
    "\n",
    "<p> Futher, we see that each bracket also has high \"uniqueness\", where \"uniqueness\" is defined as the number of games different than predicting the low seed in each game. (for a discussion of this, see the predicting a bracket page). On average, each bracket has a uniqueness score of 14, which should allow us to score \"differently\" than the typical bracket. We have a visualization of this below. On the y-axis is the number of games different from the low seed brackets. The x-axis is the year.\n",
    "\n",
    "<img src=\"img/ensemble_uniqueness.png\">\n",
    "\n",
    "<p> Now that we understand qualitatively that our ensemble should perform better in the context of the ESPN bracket challenge than just submitting our one unbiased bracket, we need to test the results. We plotted the scores achieved by the ensemble and the scores achieved by the unbiased bracket. As we can see, the ensemble scores significently better than both the low seed baseline and the unbiased bracket. The ensemble scored an average of 1080, the unbiased model scored an average of 941, and the low seed baseline score an average of 856. We have plotted the results across the years below. The ensemble especially performs better in 2002, 2005, and 2012, when there were a lot of upsets, showing the power of having a diverse set of brackets. On the y-axis is the score under the ESPN standard scoring. On the x-axis is the year.\n",
    "\n",
    "<img src=\"img/ensemble_scores.png\">\n",
    "\n",
    "<p> To see the iPython Notebook used to do this analysis, click <b><a href=\"code_html/ensemble_code.html\">here</a></b>.\n"
   ]
  }
 ],
 "metadata": {
  "kernelspec": {
   "display_name": "Python [Root]",
   "language": "python",
   "name": "Python [Root]"
  },
  "language_info": {
   "codemirror_mode": {
    "name": "ipython",
    "version": 2
   },
   "file_extension": ".py",
   "mimetype": "text/x-python",
   "name": "python",
   "nbconvert_exporter": "python",
   "pygments_lexer": "ipython2",
   "version": "2.7.12"
  }
 },
 "nbformat": 4,
 "nbformat_minor": 0
}
