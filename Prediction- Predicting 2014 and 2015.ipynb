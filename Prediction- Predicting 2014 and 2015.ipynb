{
 "cells": [
  {
   "cell_type": "code",
   "execution_count": 1,
   "metadata": {
    "collapsed": true
   },
   "outputs": [],
   "source": [
    "import march_madness_classes as mmc\n",
    "import march_madness_games as mmg\n",
    "import march_madness_models as mmm\n",
    "import march_madness_train_and_tune as mmtt\n",
    "\n",
    "import pandas as pd\n",
    "import numpy as np\n",
    "import matplotlib\n",
    "import matplotlib.pyplot as plt\n",
    "%matplotlib inline\n",
    "\n",
    "from sklearn.preprocessing import StandardScaler\n",
    "from sklearn.linear_model import LogisticRegression as LogReg"
   ]
  },
  {
   "cell_type": "code",
   "execution_count": 2,
   "metadata": {
    "collapsed": true
   },
   "outputs": [],
   "source": [
    "# read in the dataset\n",
    "seeds = pd.read_csv(\"datasets/kaggle_data/TourneySeeds.csv\")\n",
    "slots = pd.read_csv(\"datasets/kaggle_data/TourneySlots.csv\")\n",
    "games = pd.read_csv(\"datasets/kaggle_data/TourneyCompactResults.csv\")\n",
    "\n",
    "seeds_arr = mmg.filter_into_seasons(seeds)\n",
    "slots_arr = mmg.filter_into_seasons(slots)\n",
    "games_arr = mmg.filter_into_seasons(games)"
   ]
  },
  {
   "cell_type": "code",
   "execution_count": 3,
   "metadata": {
    "collapsed": true
   },
   "outputs": [],
   "source": [
    "# extract predictors, chosen from the variable selection notebook\n",
    "markov          = pd.read_csv(\"datasets/our_data/stationary\", index_col=0)\n",
    "rpi             = pd.read_csv(\"datasets/our_data/rpi\", index_col=0)\n",
    "bad_losses      = pd.read_csv(\"datasets/our_data/bad_losses\", index_col=0)\n",
    "\n",
    "# seeds\n",
    "seed_matrix_df  = pd.read_csv(\"datasets/our_data/team_summary_data/seeds_matrix\", index_col=0)"
   ]
  },
  {
   "cell_type": "code",
   "execution_count": 4,
   "metadata": {
    "collapsed": true
   },
   "outputs": [],
   "source": [
    "# get data into correct format\n",
    "predictor_names = [\"min_index_id\", \"max_index_id\", \"markov\",\"rpi\",\"bad_losses\"] \n",
    "\n",
    "# package the predictors into an array\n",
    "predictor_dfs = [markov, rpi, bad_losses] "
   ]
  },
  {
   "cell_type": "code",
   "execution_count": 5,
   "metadata": {
    "collapsed": true
   },
   "outputs": [],
   "source": [
    "train_test_arr = []\n",
    "\n",
    "window   = 3\n",
    "min_year = 2014\n",
    "max_year = 2016\n",
    "\n",
    "year_range = range(min_year, max_year)\n",
    "\n",
    "# generate our train test split for each year\n",
    "for year in year_range:\n",
    "    # do the split for the current year\n",
    "    train_test_tuple = mmtt.train_test_split(window, \n",
    "                                             year, \n",
    "                                             seeds_arr, \n",
    "                                             slots_arr, \n",
    "                                             games_arr, \n",
    "                                             predictor_names, \n",
    "                                             predictor_dfs)\n",
    "    \n",
    "    # add to our array\n",
    "    train_test_arr.append(train_test_tuple)"
   ]
  },
  {
   "cell_type": "code",
   "execution_count": 6,
   "metadata": {
    "collapsed": true
   },
   "outputs": [],
   "source": [
    "# our cross validated value of c, from variable selection notebook\n",
    "c = 1\n",
    "variables = [\"markov\",\"rpi\",\"bad_losses\"] \n",
    "\n",
    "# models and scalers to be fit\n",
    "models  = []\n",
    "scalers = []\n",
    "\n",
    "for year in year_range:\n",
    "        # get train data\n",
    "        train_x = train_test_arr[year - min_year][0][variables]\n",
    "        train_y = train_test_arr[year - min_year][1].values[:, 0]\n",
    "\n",
    "        # get cross validation set\n",
    "        cross_x = train_test_arr[year - min_year][2][variables]\n",
    "        cross_y = train_test_arr[year - min_year][3].values[:, 0]\n",
    "\n",
    "        # scaling\n",
    "        scaler = StandardScaler().fit(train_x)\n",
    "        scaled_train_x = scaler.transform(train_x)\n",
    "        scaled_cross_x = scaler.transform(cross_x)\n",
    "\n",
    "        # init model\n",
    "        model = LogReg(C=c)\n",
    "\n",
    "        # fit model\n",
    "        model.fit(scaled_train_x, train_y)\n",
    "        \n",
    "        # append to our lis of models\n",
    "        models.append(model)\n",
    "        scalers.append(scaler)"
   ]
  },
  {
   "cell_type": "code",
   "execution_count": 24,
   "metadata": {
    "collapsed": false
   },
   "outputs": [
    {
     "data": {
      "text/plain": [
       "<module 'march_madness_models' from 'march_madness_models.py'>"
      ]
     },
     "execution_count": 24,
     "metadata": {},
     "output_type": "execute_result"
    }
   ],
   "source": [
    "reload(mmm)"
   ]
  },
  {
   "cell_type": "code",
   "execution_count": 27,
   "metadata": {
    "collapsed": true
   },
   "outputs": [],
   "source": [
    "# setup simulator\n",
    "simulators = []\n",
    "\n",
    "i = 0\n",
    "# iterate years\n",
    "for year in year_range: \n",
    "    # get data needed\n",
    "    seeds_year = seeds_arr[year-1985] \n",
    "    slots_year = slots_arr[year-1985] \n",
    "    games_year = games_arr[year-1985]\n",
    "    \n",
    "    # setup head to head model\n",
    "    head_to_head_model_year = mmm.ModelPredictor(models[i], scalers[i], predictor_dfs, year, \n",
    "                                                 simulation=True,\n",
    "                                                 higher_seed_bias=False,\n",
    "                                                 seeds_df=seeds_year, \n",
    "                                                 higher_seed_bias_delta=.04)\n",
    "    \n",
    "    # setup simulator\n",
    "    simulators.append(mmc.Simulator(seeds_year, slots_year, head_to_head_model_year))\n",
    "    \n",
    "    i = i + 1"
   ]
  },
  {
   "cell_type": "code",
   "execution_count": 28,
   "metadata": {
    "collapsed": false
   },
   "outputs": [
    {
     "name": "stdout",
     "output_type": "stream",
     "text": [
      "2014\n",
      "2015\n"
     ]
    }
   ],
   "source": [
    "# run simulations\n",
    "i = 0\n",
    "for year in year_range:\n",
    "    # run simulation\n",
    "    points = simulators[i].simulate_tournament(200) \n",
    "    \n",
    "    # predict bracket based on the simulation\n",
    "    bracket = simulators[i].predict_tournament()\n",
    "    \n",
    "    i = i + 1\n",
    "    \n",
    "    print year"
   ]
  },
  {
   "cell_type": "code",
   "execution_count": 30,
   "metadata": {
    "collapsed": true
   },
   "outputs": [],
   "source": [
    "year = min_year\n",
    "\n",
    "simulator_scores = np.zeros(len(year_range))\n",
    "simulator_accuracys = np.zeros(len(year_range))\n",
    "\n",
    "# analyze results for all simulations\n",
    "i = 0\n",
    "for simulator in simulators:\n",
    "    # get data from our db\n",
    "    seeds_year = seeds_arr[year-1985] \n",
    "    slots_year = slots_arr[year-1985] \n",
    "    games_year = games_arr[year-1985]\n",
    "    \n",
    "    # get actual models\n",
    "    actual_model = mmm.ActualTournament(games_arr[year-1985])\n",
    "    actual_tourney = mmc.Tournament(seeds_year, slots_year, actual_model, include_scoring_dif=False)\n",
    "    \n",
    "    # score tournament \n",
    "    simulator_scores[i], simulator_accuracys[i] = simulator.score_tournament(actual_tourney, print_res=False)\n",
    "    \n",
    "    year = year + 1\n",
    "    i = i + 1"
   ]
  },
  {
   "cell_type": "code",
   "execution_count": 31,
   "metadata": {
    "collapsed": false
   },
   "outputs": [
    {
     "name": "stdout",
     "output_type": "stream",
     "text": [
      "[ 570.  970.]\n"
     ]
    }
   ],
   "source": [
    "print simulator_scores"
   ]
  },
  {
   "cell_type": "code",
   "execution_count": 32,
   "metadata": {
    "collapsed": true
   },
   "outputs": [],
   "source": [
    "year = min_year\n",
    "greedy_tourneys   = []\n",
    "top_seed_tourneys = []\n",
    "actual_tourneys   = []\n",
    "\n",
    "# analyze results for all simulations\n",
    "i = 0\n",
    "for year in year_range:\n",
    "    # get data from our db\n",
    "    seeds_year = seeds_arr[year-1985] \n",
    "    slots_year = slots_arr[year-1985] \n",
    "    games_year = games_arr[year-1985]\n",
    "    \n",
    "    # get actual models\n",
    "    actual_model = mmm.ActualTournament(games_arr[year-1985])\n",
    "    actual_tourneys.append(mmc.Tournament(seeds_year, slots_year, actual_model, include_scoring_dif=False))\n",
    "    \n",
    "    # get greedy models\n",
    "    greedy_model = mmm.ModelPredictor(models[i], scalers[i], predictor_dfs, year, simulation=False)\n",
    "    greedy_tourneys.append(mmc.Tournament(seeds_year, slots_year, greedy_model, include_scoring_dif=False))\n",
    "    \n",
    "    # get top seed models\n",
    "    top_seed_model = mmm.BasicPredictor()\n",
    "    top_seed_tourneys.append(mmc.Tournament(seeds_year, slots_year, top_seed_model, include_scoring_dif=False))\n",
    "    \n",
    "    year = year + 1\n",
    "    i = i + 1"
   ]
  },
  {
   "cell_type": "code",
   "execution_count": 33,
   "metadata": {
    "collapsed": true
   },
   "outputs": [],
   "source": [
    "# buffers\n",
    "greedy_scores = np.zeros(len(year_range))\n",
    "greedy_accuracys = np.zeros(len(year_range))\n",
    "\n",
    "top_seed_scores = np.zeros(len(year_range))\n",
    "top_seed_accuracys = np.zeros(len(year_range))\n",
    "\n",
    "# analyze results \n",
    "year = min_year\n",
    "i = 0\n",
    "for i in range(len(year_range)):\n",
    "    # get data from our db\n",
    "    seeds_year = seeds_arr[year-1985] \n",
    "    slots_year = slots_arr[year-1985] \n",
    "    games_year = games_arr[year-1985]\n",
    "    \n",
    "    # get models\n",
    "    actual_tourney = actual_tourneys[i]\n",
    "    greedy_tourney = greedy_tourneys[i]\n",
    "    top_seed_tourney = top_seed_tourneys[i]\n",
    "    \n",
    "    # score tournaments\n",
    "    greedy_scores[i], greedy_accuracys[i] = greedy_tourney.score_tournament(actual_tourney, print_res=False)\n",
    "    top_seed_scores[i], top_seed_accuracys[i] = top_seed_tourney.score_tournament(actual_tourney, print_res=False)\n",
    "    \n",
    "    year = year + 1\n",
    "    i = i + 1"
   ]
  },
  {
   "cell_type": "code",
   "execution_count": 34,
   "metadata": {
    "collapsed": false
   },
   "outputs": [
    {
     "name": "stdout",
     "output_type": "stream",
     "text": [
      "[ 610.  980.]\n"
     ]
    }
   ],
   "source": [
    "print greedy_scores"
   ]
  },
  {
   "cell_type": "code",
   "execution_count": 51,
   "metadata": {
    "collapsed": false
   },
   "outputs": [
    {
     "data": {
      "text/html": [
       "<div>\n",
       "<table border=\"1\" class=\"dataframe\">\n",
       "  <thead>\n",
       "    <tr style=\"text-align: right;\">\n",
       "      <th></th>\n",
       "      <th>person</th>\n",
       "      <th>points</th>\n",
       "      <th>percentile</th>\n",
       "    </tr>\n",
       "  </thead>\n",
       "  <tbody>\n",
       "    <tr>\n",
       "      <th>0</th>\n",
       "      <td>Cousin Sal - ESPN</td>\n",
       "      <td>1200</td>\n",
       "      <td>92.1</td>\n",
       "    </tr>\n",
       "    <tr>\n",
       "      <th>1</th>\n",
       "      <td>J.A. Adande - ESPN</td>\n",
       "      <td>1090</td>\n",
       "      <td>87.0</td>\n",
       "    </tr>\n",
       "    <tr>\n",
       "      <th>2</th>\n",
       "      <td>MatthewBerry - ESPN</td>\n",
       "      <td>1000</td>\n",
       "      <td>77.7</td>\n",
       "    </tr>\n",
       "    <tr>\n",
       "      <th>3</th>\n",
       "      <td>Jeff Goodman - ESPN</td>\n",
       "      <td>990</td>\n",
       "      <td>76.5</td>\n",
       "    </tr>\n",
       "    <tr>\n",
       "      <th>4</th>\n",
       "      <td>Scott Van Pelt - ESPN</td>\n",
       "      <td>990</td>\n",
       "      <td>76.5</td>\n",
       "    </tr>\n",
       "    <tr>\n",
       "      <th>5</th>\n",
       "      <td>Vanessa Marshall - ESPN</td>\n",
       "      <td>970</td>\n",
       "      <td>73.9</td>\n",
       "    </tr>\n",
       "    <tr>\n",
       "      <th>6</th>\n",
       "      <td>Taylor Gray - ESPN</td>\n",
       "      <td>960</td>\n",
       "      <td>72.5</td>\n",
       "    </tr>\n",
       "    <tr>\n",
       "      <th>7</th>\n",
       "      <td>Mike Golic - ESPN</td>\n",
       "      <td>950</td>\n",
       "      <td>71.1</td>\n",
       "    </tr>\n",
       "    <tr>\n",
       "      <th>8</th>\n",
       "      <td>Dave Rothenberg - ESPN</td>\n",
       "      <td>920</td>\n",
       "      <td>66.6</td>\n",
       "    </tr>\n",
       "    <tr>\n",
       "      <th>9</th>\n",
       "      <td>Michael Smith - ESPN</td>\n",
       "      <td>910</td>\n",
       "      <td>65.1</td>\n",
       "    </tr>\n",
       "    <tr>\n",
       "      <th>10</th>\n",
       "      <td>Bill Plaschke - ESPN</td>\n",
       "      <td>900</td>\n",
       "      <td>63.6</td>\n",
       "    </tr>\n",
       "    <tr>\n",
       "      <th>11</th>\n",
       "      <td>Ryan Riess - ESPN</td>\n",
       "      <td>850</td>\n",
       "      <td>55.4</td>\n",
       "    </tr>\n",
       "    <tr>\n",
       "      <th>12</th>\n",
       "      <td>Dan LeBatard - ESPN</td>\n",
       "      <td>830</td>\n",
       "      <td>52.2</td>\n",
       "    </tr>\n",
       "    <tr>\n",
       "      <th>13</th>\n",
       "      <td>Paula Faris - ESPN</td>\n",
       "      <td>830</td>\n",
       "      <td>52.2</td>\n",
       "    </tr>\n",
       "    <tr>\n",
       "      <th>14</th>\n",
       "      <td>Virgil Green - ESPN</td>\n",
       "      <td>760</td>\n",
       "      <td>39.5</td>\n",
       "    </tr>\n",
       "    <tr>\n",
       "      <th>15</th>\n",
       "      <td>Chris Harris Jr. - ESPN</td>\n",
       "      <td>760</td>\n",
       "      <td>39.5</td>\n",
       "    </tr>\n",
       "    <tr>\n",
       "      <th>16</th>\n",
       "      <td>President Obama</td>\n",
       "      <td>760</td>\n",
       "      <td>39.5</td>\n",
       "    </tr>\n",
       "    <tr>\n",
       "      <th>17</th>\n",
       "      <td>Dick Vitale - ESPN</td>\n",
       "      <td>750</td>\n",
       "      <td>37.6</td>\n",
       "    </tr>\n",
       "    <tr>\n",
       "      <th>18</th>\n",
       "      <td>Jonathan Sadowski - ESPN</td>\n",
       "      <td>740</td>\n",
       "      <td>35.5</td>\n",
       "    </tr>\n",
       "    <tr>\n",
       "      <th>19</th>\n",
       "      <td>Derrick Favors - ESPN</td>\n",
       "      <td>730</td>\n",
       "      <td>33.6</td>\n",
       "    </tr>\n",
       "    <tr>\n",
       "      <th>20</th>\n",
       "      <td>Simon Carr - ESPN</td>\n",
       "      <td>720</td>\n",
       "      <td>31.6</td>\n",
       "    </tr>\n",
       "    <tr>\n",
       "      <th>21</th>\n",
       "      <td>Joe Lunardi - ESPN</td>\n",
       "      <td>720</td>\n",
       "      <td>31.6</td>\n",
       "    </tr>\n",
       "    <tr>\n",
       "      <th>22</th>\n",
       "      <td>Mike GreenbergESPN_MikeGreenberg</td>\n",
       "      <td>710</td>\n",
       "      <td>29.7</td>\n",
       "    </tr>\n",
       "    <tr>\n",
       "      <th>23</th>\n",
       "      <td>Stephania Bell - ESPN</td>\n",
       "      <td>710</td>\n",
       "      <td>29.7</td>\n",
       "    </tr>\n",
       "    <tr>\n",
       "      <th>24</th>\n",
       "      <td>Eric Young - ESPN</td>\n",
       "      <td>690</td>\n",
       "      <td>26.0</td>\n",
       "    </tr>\n",
       "    <tr>\n",
       "      <th>25</th>\n",
       "      <td>Casey Hayward - Athlete</td>\n",
       "      <td>670</td>\n",
       "      <td>22.5</td>\n",
       "    </tr>\n",
       "    <tr>\n",
       "      <th>26</th>\n",
       "      <td>Tim Cowlishaw - ESPN</td>\n",
       "      <td>590</td>\n",
       "      <td>11.9</td>\n",
       "    </tr>\n",
       "    <tr>\n",
       "      <th>27</th>\n",
       "      <td>Jim Cramer - ESPN</td>\n",
       "      <td>550</td>\n",
       "      <td>8.6</td>\n",
       "    </tr>\n",
       "    <tr>\n",
       "      <th>28</th>\n",
       "      <td>Nando Vila - ESPN</td>\n",
       "      <td>520</td>\n",
       "      <td>6.8</td>\n",
       "    </tr>\n",
       "  </tbody>\n",
       "</table>\n",
       "</div>"
      ],
      "text/plain": [
       "                              person  points  percentile\n",
       "0                  Cousin Sal - ESPN    1200        92.1\n",
       "1                 J.A. Adande - ESPN    1090        87.0\n",
       "2                MatthewBerry - ESPN    1000        77.7\n",
       "3                Jeff Goodman - ESPN     990        76.5\n",
       "4              Scott Van Pelt - ESPN     990        76.5\n",
       "5            Vanessa Marshall - ESPN     970        73.9\n",
       "6                 Taylor Gray - ESPN     960        72.5\n",
       "7                  Mike Golic - ESPN     950        71.1\n",
       "8             Dave Rothenberg - ESPN     920        66.6\n",
       "9               Michael Smith - ESPN     910        65.1\n",
       "10              Bill Plaschke - ESPN     900        63.6\n",
       "11                 Ryan Riess - ESPN     850        55.4\n",
       "12               Dan LeBatard - ESPN     830        52.2\n",
       "13                Paula Faris - ESPN     830        52.2\n",
       "14               Virgil Green - ESPN     760        39.5\n",
       "15           Chris Harris Jr. - ESPN     760        39.5\n",
       "16                   President Obama     760        39.5\n",
       "17                Dick Vitale - ESPN     750        37.6\n",
       "18          Jonathan Sadowski - ESPN     740        35.5\n",
       "19             Derrick Favors - ESPN     730        33.6\n",
       "20                 Simon Carr - ESPN     720        31.6\n",
       "21                Joe Lunardi - ESPN     720        31.6\n",
       "22  Mike GreenbergESPN_MikeGreenberg     710        29.7\n",
       "23             Stephania Bell - ESPN     710        29.7\n",
       "24                 Eric Young - ESPN     690        26.0\n",
       "25           Casey Hayward - Athlete     670        22.5\n",
       "26              Tim Cowlishaw - ESPN     590        11.9\n",
       "27                 Jim Cramer - ESPN     550         8.6\n",
       "28                 Nando Vila - ESPN     520         6.8"
      ]
     },
     "execution_count": 51,
     "metadata": {},
     "output_type": "execute_result"
    }
   ],
   "source": [
    "celeb_data = pd.read_csv(\"datasets/our_data/celeb_brackets_2015.csv\")\n",
    "celeb_data"
   ]
  },
  {
   "cell_type": "code",
   "execution_count": null,
   "metadata": {
    "collapsed": true
   },
   "outputs": [],
   "source": []
  }
 ],
 "metadata": {
  "kernelspec": {
   "display_name": "Python [Root]",
   "language": "python",
   "name": "Python [Root]"
  },
  "language_info": {
   "codemirror_mode": {
    "name": "ipython",
    "version": 2
   },
   "file_extension": ".py",
   "mimetype": "text/x-python",
   "name": "python",
   "nbconvert_exporter": "python",
   "pygments_lexer": "ipython2",
   "version": "2.7.12"
  }
 },
 "nbformat": 4,
 "nbformat_minor": 0
}
