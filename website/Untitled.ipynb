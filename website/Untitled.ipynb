{
 "cells": [
  {
   "cell_type": "markdown",
   "metadata": {},
   "source": [
    "<h1> Optimizing For Tournament Structure </h1>\n",
    "\n",
    "<h4> 1) Introduction </h4>\n",
    "\n",
    "<p> When submitting a bracket to ESPN, we need to take the scoring system into account. Since predicting the later round games, such as the championship, is more important than predicting the first round, ESPN uses the following structure: 10 points for a round 1 game correct, 20 points for a round 2 game correct, 40 points for a round 3 game correct, 80 points for a round 4 correct, 160 points for a round 5 correct, and 320 for the championship game correct. Thus, each round is worth the same number of points. As such, using a greedy algorithm to predict the bracket in which we make the locally optimal decision in each round is not necessarily the best idea. As shown by the graphic below:</p>\n",
    "\n",
    "<img src=\"img/optimize_bracket_simulation_graphic.png\">\n",
    "\n",
    "<p>As we can see, although the locally optimal decision would be to predict Harvard to lose in the first round, we would maximize our expected points if we predicted Harvard to get to the second round. However, finding the globally optimal bracket (which maximizes expected score) is somewhat challenging algorithmically, since considering all possible brackets is </p>"
   ]
  },
  {
   "cell_type": "code",
   "execution_count": null,
   "metadata": {
    "collapsed": true
   },
   "outputs": [],
   "source": []
  }
 ],
 "metadata": {
  "anaconda-cloud": {},
  "kernelspec": {
   "display_name": "Python [Root]",
   "language": "python",
   "name": "Python [Root]"
  },
  "language_info": {
   "codemirror_mode": {
    "name": "ipython",
    "version": 2
   },
   "file_extension": ".py",
   "mimetype": "text/x-python",
   "name": "python",
   "nbconvert_exporter": "python",
   "pygments_lexer": "ipython2",
   "version": "2.7.12"
  }
 },
 "nbformat": 4,
 "nbformat_minor": 0
}
